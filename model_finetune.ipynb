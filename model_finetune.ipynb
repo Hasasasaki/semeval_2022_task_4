{
  "cells": [
    {
      "cell_type": "markdown",
      "metadata": {
        "colab_type": "text",
        "id": "view-in-github"
      },
      "source": [
        "<a href=\"https://colab.research.google.com/github/Hasasasaki/semeval_2022_task_4/blob/main/model_finetune.ipynb\" target=\"_parent\"><img src=\"https://colab.research.google.com/assets/colab-badge.svg\" alt=\"Open In Colab\"/></a>"
      ]
    },
    {
      "cell_type": "markdown",
      "metadata": {
        "id": "_HglL0PQVLpR"
      },
      "source": [
        "## Data processing"
      ]
    },
    {
      "cell_type": "code",
      "execution_count": 2,
      "metadata": {
        "id": "4n7udvqWVLpS"
      },
      "outputs": [],
      "source": [
        "import pandas as pd\n",
        "import matplotlib.pyplot as plt\n",
        "import seaborn as sns\n",
        "import numpy as np\n",
        "from transformers import (\n",
        "    AutoConfig,\n",
        "    AutoTokenizer,\n",
        "    AutoModelForSequenceClassification,\n",
        "    DataCollatorWithPadding,\n",
        "    TrainingArguments,\n",
        "    Trainer,\n",
        "    TrainerCallback,\n",
        ")\n",
        "from sklearn.model_selection import train_test_split\n",
        "import torch\n",
        "from torch.utils.data import Dataset, DataLoader, WeightedRandomSampler\n",
        "from sklearn.metrics import accuracy_score, precision_recall_fscore_support\n",
        "from tqdm import tqdm\n",
        "import torch.nn as nn\n",
        "\n",
        "new_columns = [\n",
        "    \"par_id\",      # 1 (integer ID)\n",
        "    \"art_id\",      # @@24942188 (article identifier)\n",
        "    \"topic\",       # hopeless (PCL category)\n",
        "    \"country\",     # ph (country code)\n",
        "    \"text\",        # Full text content\n",
        "    \"label\"        # 0 (binary label)\n",
        "]\n",
        "\n",
        "# Read main dataset - skip 4 disclaimer rows\n",
        "df = pd.read_csv(\n",
        "    \"data/dontpatronizeme_pcl.tsv\",\n",
        "    sep=\"\\t\",\n",
        "    header=None,\n",
        "    skiprows=4,\n",
        "    names=new_columns,\n",
        "    on_bad_lines='warn'\n",
        ")\n",
        "\n",
        "# Read train/dev splits\n",
        "train_val_labels = pd.read_csv(\"data/train_semeval_parids-labels.csv\")\n",
        "test_labels = pd.read_csv(\"data/dev_semeval_parids-labels.csv\")\n",
        "\n",
        "# Convert string labels to lists\n",
        "def parse_labels(label_str: str) -> list[int]:\n",
        "    return [int(x) for x in label_str.strip(\"[]\").replace(\" \", \"\").split(\",\")]\n",
        "\n",
        "# Process labels dataframes\n",
        "for labels_df in [train_val_labels, test_labels]:\n",
        "    labels_df['labels'] = labels_df['label'].apply(parse_labels)\n",
        "    labels_df.drop('label', axis=1, inplace=True)\n",
        "\n",
        "# Join with main data\n",
        "train_val_df = df.merge(train_val_labels, on=\"par_id\", how=\"inner\")\n",
        "test_df = df.merge(test_labels, on=\"par_id\", how=\"inner\")\n",
        "\n",
        "# Add PCL positivity column to both dataframes\n",
        "train_val_df['pcl_label'] = train_val_df['label'].apply(\n",
        "    lambda x: 0 if x in {0, 1} else 1)\n",
        "test_df['pcl_label'] = test_df['label'].apply(\n",
        "    lambda x: 0 if x in {0, 1} else 1)\n",
        "\n",
        "train_df, val_df = train_test_split(train_val_df, test_size=0.2, random_state=42, shuffle=True)"
      ]
    },
    {
      "cell_type": "code",
      "execution_count": 3,
      "metadata": {},
      "outputs": [
        {
          "name": "stderr",
          "output_type": "stream",
          "text": [
            "[nltk_data] Downloading package punkt_tab to /Users/jiang/nltk_data...\n",
            "[nltk_data]   Unzipping tokenizers/punkt_tab.zip.\n",
            "[nltk_data] Downloading package wordnet to /Users/jiang/nltk_data...\n",
            "[nltk_data]   Package wordnet is already up-to-date!\n",
            "[nltk_data] Downloading package averaged_perceptron_tagger to\n",
            "[nltk_data]     /Users/jiang/nltk_data...\n",
            "[nltk_data]   Package averaged_perceptron_tagger is already up-to-\n",
            "[nltk_data]       date!\n"
          ]
        },
        {
          "data": {
            "text/plain": [
              "True"
            ]
          },
          "execution_count": 3,
          "metadata": {},
          "output_type": "execute_result"
        }
      ],
      "source": [
        "import os\n",
        "import nltk\n",
        "# os.environ[\"TRANSFORMERS_CACHE\"] = \"/vol/bitbucket/bj321/.cache\"\n",
        "# nltk.data.path.append(\"/vol/bitbucket/bj321/nltk_data\")  # Your custom path\n",
        "nltk.download('punkt_tab')\n",
        "nltk.download('wordnet')\n",
        "nltk.download('averaged_perceptron_tagger')\n"
      ]
    },
    {
      "cell_type": "code",
      "execution_count": 4,
      "metadata": {},
      "outputs": [
        {
          "data": {
            "text/plain": [
              "0"
            ]
          },
          "execution_count": 4,
          "metadata": {},
          "output_type": "execute_result"
        }
      ],
      "source": [
        "import gc\n",
        "torch.cuda.empty_cache()\n",
        "gc.collect()"
      ]
    },
    {
      "cell_type": "code",
      "execution_count": 9,
      "metadata": {},
      "outputs": [
        {
          "name": "stderr",
          "output_type": "stream",
          "text": [
            "6178it [36:26,  3.34it/s]"
          ]
        },
        {
          "name": "stdout",
          "output_type": "stream",
          "text": [
            "Error in batch 6178: Dr Mayengbam Lalit Singh Recently honourable PM of India launched scheme called \" Doubling Farmers ' Income \" in order to uplift the welfare being of larger portion of Indians . The big questions felt by people are ( i ) How would it be possible in short period of time ? And ( ii ) is it an elusive doctrine to sweep vote bank of millions of farmers for upcoming parliamentary election in 2019 ? Across all over India ( except for a few states ) so many rigidities have to be solved in order to raise the real income of farmers . These rigidities are characterised by infrastructures , structures and institutions . The present article focuses on those rigidities only for Manipur which has been lagging behind many Indian states . Regarding infrastructure ( inputs ) , the state is found backward among those backward states of India . Introspecting water infrastructure , the state has been under-utilising water resources despite the abundant availability . For Kharif season crops farmers rely on rain water since the state is under the map of SE monsoon . However , during Rabi and Zayed seasons the state has been witnessing scarcity of water . In order to curb this shortage , government needs construction of multiple check dams and digging bore wells in those small streams flowing across the plain areas . During peak season , there is always a shortage of manures and pesticides due to landslide on national highways . Revolution of organic farming will lessen dependency on chemical fertilisers since the state has high potential of producing organic manures and pesticides . During post harvesting period , the state needs to construct cold storages so that perishable crops can be stored for agricultural off seasons . Regarding financial support to farming , banks are not integrated with farmers . Moreover state government does not organise crop insurance schemes in order to compensate the loss due to natural calamity . My previous article on \" Channelizing Mahatma Gandhi National Rural Employment Guarantee Act ( MGNREGA ) with Crop and Livestock Insurances in India \" postulates the model on how to compensate the loss . The second rigid character of farming is that there had been no structural change over decades . Farming in Manipur focuses on production of only coarse cereals which is characterised by immediate consumption . In this era of globalisation farming should have close introspection of demand and supply model of consumers across the world . Especially in hilly areas , cultivation of coarse cereal is just to meet local consumption and not for earning profits . Nowadays , farmers stated cultivation of illegal crops such as poppy illegally in order to earn huge profit . In order to prevent this , government should emphasise on cultivation cash crops such yongchak ( parkia speciosa ) , cardamom , tea , coffee , black pepper , etc. since these crops are highly demanded in international as well as domestic market . On the other hand this can reduce environmental destruction which is followed after short period zoom cultivation . In plain areas also main crops are also coarse cereals which are vulnerable to low profit . Farmers should diversify in cultivation of cash crops such as black rice , medicinal plants , oil seeds , mushrooms , etc . Moreover farmers should engage themselves in nonfarm sectors wherein both farm and nonfarm sectors can be fitted in supply and demand schedule for their inputs and outputs . One of the institutional rigidities faced by the farmers is asymmetric information on the technological development in agricultural sector . Krishi Vigyan Kendras ( KVKs ) had been instituted in every districts across India in order to fill the information gap between farmers and agricultural scientists . However their works had been found confined to laboratories only and their expertises are hardly in the knowledge domain of farmers . Government should frame policies for KVKs so that they should be available to farmers at least once in a week on alternative blocks . Another institutional rigidity we witness is financial inaccessibility of farmers to existing financial institutions ( banks ) . In India , banks are found to release funds to manufacturing and service sectors but not on agricultural sector . Too much official procedures and rigid financial securities create inaccessibility of farmers to banks . So the banks should be advised to make survey on the constructive environment wherein farmers should accede and return loans in time . Another important institutional rigidity is lack of marketing institutions such as marketing farms and agents which can deal in such agricultural products . Government should invite both local and nonlocal farms which can link farmers with consumers at price determined by market rate . Government also should have policies such as Minimum Support Price and construction of Cold Storages so that various types of agricultural products can be available during their offseason . The last most important institutional rigidities is inability of government to constitute an integral body which comprises above mentioned farmers body , financial institutes , KVKs , Marketing farms and government funded research institutes . If the integral body function with mutual exchange of workings with all institutional constituents , dream of \" Doubling Farmers ' Income \" can be achieved . Let this article may draw attention of Agricultural Ministry in fulfilling its ambition . --> Text length need to be between 0 and 5000 characters\n"
          ]
        },
        {
          "name": "stderr",
          "output_type": "stream",
          "text": [
            "6700it [51:40,  2.16it/s]\n"
          ]
        }
      ],
      "source": [
        "from deep_translator import GoogleTranslator\n",
        "\n",
        "def back_translate(text, source='en', target='zh-CN'):\n",
        "    \"\"\"English -> Chinese -> English backtranslation\"\"\"\n",
        "    translated = GoogleTranslator(source=source, target=target).translate(text)\n",
        "    back_translated = GoogleTranslator(source=target, target=source).translate(translated)\n",
        "    return back_translated\n",
        "\n",
        "backtrans_texts = []\n",
        "backtrans_labels = []\n",
        "for i, (text, label) in tqdm(enumerate(zip(train_df['text'], train_df['pcl_label']))):\n",
        "    try:\n",
        "        result = back_translate(text)\n",
        "        backtrans_texts.append(result)\n",
        "        backtrans_labels.append(label)\n",
        "    except Exception as e:\n",
        "        print(f\"Error in batch {i}: {str(e)}\")\n",
        "        continue\n",
        "    \n",
        "backtrans_df = pd.DataFrame({\n",
        "    'text': backtrans_texts,\n",
        "    'label': backtrans_labels\n",
        "})\n",
        "\n",
        "backtrans_df.to_csv('data/backtrans_data.csv', index=False)"
      ]
    },
    {
      "cell_type": "markdown",
      "metadata": {
        "id": "zCa0qvJqVLpT"
      },
      "source": [
        "### Hyperparameters"
      ]
    },
    {
      "cell_type": "code",
      "execution_count": 55,
      "metadata": {
        "id": "-mKaqTS0VLpT"
      },
      "outputs": [],
      "source": [
        "batch_size = 4\n",
        "lr = 8e-5\n",
        "n_epochs = 10\n",
        "betas = (0.9, 0.98)\n",
        "eps = 1e-6\n",
        "wd = 1e-2"
      ]
    },
    {
      "cell_type": "code",
      "execution_count": null,
      "metadata": {
        "id": "0oXKJCEbVLpT"
      },
      "outputs": [],
      "source": [
        "class PCLDataset(Dataset):\n",
        "    def __init__(self, dataframe, tokenizer, balance_method='oversample'):\n",
        "        self.tokenizer = tokenizer\n",
        "\n",
        "         # Split into positive and negative classes\n",
        "        pos_df = dataframe[dataframe['pcl_label'] == 1]\n",
        "        neg_df = dataframe[dataframe['pcl_label'] == 0]\n",
        "\n",
        "        # Balance classes\n",
        "        if balance_method == 'oversample':\n",
        "            # Repeat minority class samples\n",
        "            if len(pos_df) > len(neg_df):\n",
        "                pos_df, neg_df = neg_df, pos_df\n",
        "            n_samples = max(len(pos_df), len(neg_df))\n",
        "            pos_df = pos_df.sample(n_samples, replace=True, random_state=42)\n",
        "        elif balance_method == 'undersample':\n",
        "            # Take minimum number of samples\n",
        "            n_samples = min(len(pos_df), len(neg_df))\n",
        "            pos_df = pos_df.sample(n_samples, random_state=42)\n",
        "            neg_df = neg_df.sample(n_samples, random_state=42)\n",
        "        elif balance_method == 'None':\n",
        "            pass\n",
        "\n",
        "        # Combine and shuffle\n",
        "        balanced_df = pd.concat([pos_df, neg_df]).sample(frac=1, random_state=42)\n",
        "        self.texts = balanced_df['text'].tolist()\n",
        "        self.labels = balanced_df['pcl_label'].tolist()\n",
        "\n",
        "    def __len__(self):\n",
        "        return len(self.texts)\n",
        "\n",
        "    def __getitem__(self, idx):\n",
        "        text = self.texts[idx]\n",
        "        label = self.labels[idx]\n",
        "\n",
        "        encoding = self.tokenizer(\n",
        "            text,\n",
        "            truncation=True,\n",
        "            return_tensors='pt'\n",
        "        )\n",
        "\n",
        "        return {\n",
        "            'input_ids': encoding['input_ids'].flatten(),\n",
        "            'attention_mask': encoding['attention_mask'].flatten(),\n",
        "            'labels': torch.tensor(label, dtype=torch.long)\n",
        "        }\n",
        "\n",
        "# Initialize tokenizer and datasets\n",
        "tokenizer = AutoTokenizer.from_pretrained(\"answerdotai/ModernBERT-base\")\n",
        "\n",
        "# Create datasets\n",
        "train_dataset = PCLDataset(train_df, tokenizer)\n",
        "val_dataset = PCLDataset(val_df, tokenizer, balance_method='None')\n",
        "test_dataset = PCLDataset(test_df, tokenizer, balance_method='None')"
      ]
    },
    {
      "cell_type": "code",
      "execution_count": null,
      "metadata": {
        "colab": {
          "base_uri": "https://localhost:8080/",
          "height": 883
        },
        "id": "aBn4QsCRVLpT",
        "outputId": "de6bd808-5dde-4e79-d80e-07203bbebfd0"
      },
      "outputs": [],
      "source": [
        "model_config = AutoConfig.from_pretrained(\"answerdotai/ModernBERT-base\")\n",
        "model_config.mlp_dropout = 0.2\n",
        "model_config.num_labels = 2\n",
        "\n",
        "# Initialize model with classification head\n",
        "model = AutoModelForSequenceClassification.from_pretrained(\n",
        "    \"answerdotai/ModernBERT-base\",\n",
        "    num_labels=2,\n",
        ")\n",
        "model.train()\n",
        "# Training setup\n",
        "# device = torch.device(\"mps\" if torch.backends.mps.is_available() else \"cuda\" if torch.cuda.is_available() else \"cpu\")\n",
        "# print(\"Using device:\", device)\n",
        "# model.to(device)\n",
        "training_args = TrainingArguments(\n",
        "    output_dir=f\"ModernBERT_pcl_ft\",\n",
        "    learning_rate=lr,\n",
        "    per_device_train_batch_size=batch_size,\n",
        "    per_device_eval_batch_size=batch_size,\n",
        "    num_train_epochs=n_epochs,\n",
        "    lr_scheduler_type=\"cosine\",\n",
        "    optim=\"adamw_torch_fused\",\n",
        "    adam_beta1=betas[0],\n",
        "    adam_beta2=betas[1],\n",
        "    adam_epsilon=eps,\n",
        "    # weight_decay=wd,\n",
        "    logging_strategy=\"epoch\",\n",
        "    eval_strategy=\"epoch\",\n",
        "    save_strategy=\"epoch\",\n",
        "    load_best_model_at_end=True,\n",
        "    bf16=True,\n",
        "    bf16_full_eval=True,\n",
        "    push_to_hub=False,\n",
        "    warmup_ratio=0.1,\n",
        "\n",
        ")\n",
        "\n",
        "def compute_metrics(eval_pred):\n",
        "    \"\"\"Calculate classification metrics for Hugging Face Trainer\"\"\"\n",
        "    predictions, labels = eval_pred\n",
        "    predictions = np.argmax(predictions, axis=1)\n",
        "\n",
        "    precision, recall, f1, _ = precision_recall_fscore_support(\n",
        "        labels, predictions, average='binary'\n",
        "    )\n",
        "    acc = accuracy_score(labels, predictions)\n",
        "\n",
        "    return {\n",
        "        'accuracy': acc,\n",
        "        'f1': f1,\n",
        "        'precision': precision,\n",
        "        'recall': recall\n",
        "    }\n",
        "\n",
        "class MetricsCallback(TrainerCallback):\n",
        "    def __init__(self):\n",
        "        self.training_history = {\"train\": [], \"eval\": []}\n",
        "\n",
        "    def on_log(self, args, state, control, logs=None, **kwargs):\n",
        "        if logs is not None:\n",
        "            if \"loss\" in logs:  # Training logs\n",
        "                self.training_history[\"train\"].append(logs)\n",
        "            elif \"eval_loss\" in logs:  # Evaluation logs\n",
        "                self.training_history[\"eval\"].append(logs)\n",
        "\n",
        "trainer = WeightedRandomSamplerTrainer(\n",
        "    model=model,\n",
        "    args=training_args,\n",
        "    train_dataset=train_dataset,\n",
        "    eval_dataset=val_dataset,\n",
        "    processing_class=tokenizer,\n",
        "    data_collator=DataCollatorWithPadding(tokenizer=tokenizer),\n",
        "    compute_metrics=compute_metrics,\n",
        ")\n",
        "\n",
        "metrics_callback = MetricsCallback()\n",
        "trainer.add_callback(metrics_callback)\n",
        "\n",
        "trainer.train()\n",
        "\n",
        "train_history_df = pd.DataFrame(metrics_callback.training_history[\"train\"])\n",
        "train_history_df = train_history_df.add_prefix(\"train_\")\n",
        "eval_history_df = pd.DataFrame(metrics_callback.training_history[\"eval\"])\n",
        "train_res_df = pd.concat([train_history_df, eval_history_df], axis=1)\n",
        "\n",
        "args_df = pd.DataFrame([training_args.to_dict()])\n",
        "\n",
        "display(train_res_df)\n",
        "display(args_df)"
      ]
    },
    {
      "cell_type": "markdown",
      "metadata": {
        "id": "bKS9Ma6aVLpT"
      },
      "source": [
        "## Inference"
      ]
    },
    {
      "cell_type": "code",
      "execution_count": null,
      "metadata": {
        "colab": {
          "base_uri": "https://localhost:8080/"
        },
        "id": "jO_h-VE7VLpT",
        "outputId": "4fe0896c-3a26-486f-c784-c7b627c4fcdb"
      },
      "outputs": [],
      "source": [
        "import torch.nn.functional as F\n",
        "\n",
        "checkpoint_path = \"./ModernBERT_pcl_ft/checkpoint-838\"\n",
        "model = AutoModelForSequenceClassification.from_pretrained(checkpoint_path)\n",
        "\n",
        "\n",
        "# Evaluation on a single example\n",
        "def predict_single(text: str, model, tokenizer, device='cuda'):\n",
        "    model.to(device)\n",
        "    model.eval()\n",
        "\n",
        "    encoding = tokenizer(\n",
        "        text,\n",
        "        max_length=512,\n",
        "        padding='max_length',\n",
        "        truncation=True,\n",
        "        return_tensors='pt'\n",
        "    )\n",
        "\n",
        "    input_ids = encoding['input_ids'].to(device)\n",
        "    attention_mask = encoding['attention_mask'].to(device)\n",
        "\n",
        "    with torch.no_grad():\n",
        "        outputs = model(input_ids, attention_mask=attention_mask)\n",
        "        logits = outputs.logits\n",
        "\n",
        "    return F.softmax(logits).cpu().numpy()\n",
        "\n",
        "test_input = df[df['label'] == 3]['text'].iloc[3]\n",
        "print(test_input)\n",
        "predict_single(test_input, model, tokenizer)"
      ]
    },
    {
      "cell_type": "code",
      "execution_count": 6,
      "metadata": {
        "id": "Eizio0pSVLpU"
      },
      "outputs": [],
      "source": [
        "# from huggingface_hub import notebook_login\n",
        "\n",
        "# notebook_login()"
      ]
    },
    {
      "cell_type": "code",
      "execution_count": null,
      "metadata": {
        "id": "B7IGhWHPyjpU"
      },
      "outputs": [],
      "source": [
        "# model_name = \"Hasasasaki/modernBERT_pcl_ft\"\n",
        "# model.push_to_hub(model_name)\n",
        "# tokenizer.push_to_hub(model_name)"
      ]
    },
    {
      "cell_type": "code",
      "execution_count": null,
      "metadata": {
        "id": "riUan1skzH_P"
      },
      "outputs": [],
      "source": [
        "trainer = Trainer(\n",
        "    model=model,\n",
        "    args=training_args,\n",
        "    train_dataset=train_dataset,\n",
        "    eval_dataset=val_dataset,\n",
        "    processing_class=tokenizer,\n",
        "    data_collator=DataCollatorWithPadding(tokenizer=tokenizer),\n",
        "    compute_metrics=compute_metrics,\n",
        ")\n",
        "trainer.evaluate(test_dataset)"
      ]
    }
  ],
  "metadata": {
    "colab": {
      "include_colab_link": true,
      "provenance": []
    },
    "kernelspec": {
      "display_name": ".venv",
      "language": "python",
      "name": "python3"
    },
    "language_info": {
      "codemirror_mode": {
        "name": "ipython",
        "version": 3
      },
      "file_extension": ".py",
      "mimetype": "text/x-python",
      "name": "python",
      "nbconvert_exporter": "python",
      "pygments_lexer": "ipython3",
      "version": "3.12.3"
    }
  },
  "nbformat": 4,
  "nbformat_minor": 0
}
