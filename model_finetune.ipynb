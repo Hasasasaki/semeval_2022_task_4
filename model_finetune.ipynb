{
  "cells": [
    {
      "cell_type": "markdown",
      "metadata": {
        "colab_type": "text",
        "id": "view-in-github"
      },
      "source": [
        "<a href=\"https://colab.research.google.com/github/Hasasasaki/semeval_2022_task_4/blob/main/model_finetune.ipynb\" target=\"_parent\"><img src=\"https://colab.research.google.com/assets/colab-badge.svg\" alt=\"Open In Colab\"/></a>"
      ]
    },
    {
      "cell_type": "code",
      "execution_count": 1,
      "metadata": {
        "id": "4qHbOJcwcWcv"
      },
      "outputs": [],
      "source": [
        "import os\n",
        "os.environ['CUBLAS_WORKSPACE_CONFIG'] = ':4096:8'\n",
        "os.environ['CUDA_LAUNCH_BLOCKING'] = \"1\"\n"
      ]
    },
    {
      "cell_type": "code",
      "execution_count": 2,
      "metadata": {
        "colab": {
          "base_uri": "https://localhost:8080/"
        },
        "id": "mv_mP3i6UrPj",
        "outputId": "24027447-a99c-4c8f-d5c9-9c3dba96d70f"
      },
      "outputs": [
        {
          "name": "stdout",
          "output_type": "stream",
          "text": [
            "Requirement already satisfied: deep_translator in /usr/local/lib/python3.11/dist-packages (1.11.4)\n",
            "Requirement already satisfied: beautifulsoup4<5.0.0,>=4.9.1 in /usr/local/lib/python3.11/dist-packages (from deep_translator) (4.13.3)\n",
            "Requirement already satisfied: requests<3.0.0,>=2.23.0 in /usr/local/lib/python3.11/dist-packages (from deep_translator) (2.32.3)\n",
            "Requirement already satisfied: soupsieve>1.2 in /usr/local/lib/python3.11/dist-packages (from beautifulsoup4<5.0.0,>=4.9.1->deep_translator) (2.6)\n",
            "Requirement already satisfied: typing-extensions>=4.0.0 in /usr/local/lib/python3.11/dist-packages (from beautifulsoup4<5.0.0,>=4.9.1->deep_translator) (4.12.2)\n",
            "Requirement already satisfied: charset-normalizer<4,>=2 in /usr/local/lib/python3.11/dist-packages (from requests<3.0.0,>=2.23.0->deep_translator) (3.4.1)\n",
            "Requirement already satisfied: idna<4,>=2.5 in /usr/local/lib/python3.11/dist-packages (from requests<3.0.0,>=2.23.0->deep_translator) (3.10)\n",
            "Requirement already satisfied: urllib3<3,>=1.21.1 in /usr/local/lib/python3.11/dist-packages (from requests<3.0.0,>=2.23.0->deep_translator) (2.3.0)\n",
            "Requirement already satisfied: certifi>=2017.4.17 in /usr/local/lib/python3.11/dist-packages (from requests<3.0.0,>=2.23.0->deep_translator) (2025.1.31)\n"
          ]
        }
      ],
      "source": [
        "# !pip install \"flash_attn==2.6.3\" --no-build-isolation\n",
        "!pip install deep_translator"
      ]
    },
    {
      "cell_type": "markdown",
      "metadata": {
        "id": "_HglL0PQVLpR"
      },
      "source": [
        "## Data processing"
      ]
    },
    {
      "cell_type": "code",
      "execution_count": 24,
      "metadata": {
        "colab": {
          "base_uri": "https://localhost:8080/"
        },
        "id": "4n7udvqWVLpS",
        "outputId": "d679f041-b1f2-4725-e880-33db06406c7d"
      },
      "outputs": [
        {
          "name": "stdout",
          "output_type": "stream",
          "text": [
            "All random states have been reset with seed 42\n",
            "   tid      art_id       topic country  \\\n",
            "0  t_0   @@7258997  vulnerable      us   \n",
            "1  t_1  @@16397324       women      pk   \n",
            "2  t_2  @@16257812     migrant      ca   \n",
            "3  t_3   @@3509652     migrant      gb   \n",
            "4  t_4    @@477506  vulnerable      ca   \n",
            "\n",
            "                                                text  \n",
            "0  In the meantime , conservatives are working to...  \n",
            "1  In most poor households with no education chil...  \n",
            "2  The real question is not whether immigration i...  \n",
            "3  In total , the country 's immigrant population...  \n",
            "4  Members of the church , which is part of Ken C...  \n"
          ]
        }
      ],
      "source": [
        "import pandas as pd\n",
        "import matplotlib.pyplot as plt\n",
        "import seaborn as sns\n",
        "import numpy as np\n",
        "from transformers import (\n",
        "    AutoConfig,\n",
        "    AutoTokenizer,\n",
        "    AutoModelForSequenceClassification,\n",
        "    DataCollatorWithPadding,\n",
        "    TrainingArguments,\n",
        "    Trainer,\n",
        "    TrainerCallback,\n",
        ")\n",
        "from sklearn.model_selection import train_test_split\n",
        "from sklearn.metrics import accuracy_score, precision_recall_fscore_support, f1_score\n",
        "from tqdm import tqdm\n",
        "import random\n",
        "import torch\n",
        "from torch.utils.data import Dataset, DataLoader, WeightedRandomSampler\n",
        "import torch.nn as nn\n",
        "import torch.nn.functional as F\n",
        "from collections import Counter\n",
        "\n",
        "seed = 42\n",
        "\n",
        "def reset_seeds(seed=seed):\n",
        "    if torch.cuda.is_available():\n",
        "        torch.cuda.empty_cache()\n",
        "    import random\n",
        "    random.seed(seed)\n",
        "    import numpy as np\n",
        "    np.random.seed(seed)\n",
        "    torch.manual_seed(seed)\n",
        "    torch.cuda.manual_seed(seed)\n",
        "    torch.cuda.manual_seed_all(seed)\n",
        "    os.environ['PYTHONHASHSEED'] = str(seed)\n",
        "    os.environ['CUBLAS_WORKSPACE_CONFIG'] = ':4096:8'\n",
        "    torch.backends.cudnn.deterministic = True\n",
        "    torch.backends.cudnn.benchmark = False\n",
        "    torch.use_deterministic_algorithms(True)\n",
        "\n",
        "    print(f\"All random states have been reset with seed {seed}\")\n",
        "\n",
        "reset_seeds()\n",
        "\n",
        "new_columns = [\n",
        "    \"par_id\",      # 1 (integer ID)\n",
        "    \"art_id\",      # @@24942188 (article identifier)\n",
        "    \"topic\",       # hopeless (PCL category)\n",
        "    \"country\",     # ph (country code)\n",
        "    \"text\",        # Full text content\n",
        "    \"label\"        # 0 (binary label)\n",
        "]\n",
        "\n",
        "official_test_columns = [\n",
        "    \"tid\",\n",
        "    \"art_id\",\n",
        "    \"topic\",\n",
        "    \"country\",\n",
        "    \"text\"\n",
        "]\n",
        "\n",
        "# Read main dataset - skip 4 disclaimer rows\n",
        "df = pd.read_csv(\n",
        "    \"data/dontpatronizeme_pcl.tsv\",\n",
        "    sep=\"\\t\",\n",
        "    header=None,\n",
        "    skiprows=4,\n",
        "    names=new_columns,\n",
        "    on_bad_lines='warn'\n",
        ")\n",
        "\n",
        "official_test_df = pd.read_csv(\n",
        "    \"data/task4_test.tsv\",\n",
        "    sep=\"\\t\",\n",
        "    header=None,\n",
        "    skiprows=0,\n",
        "    names=official_test_columns,\n",
        "    on_bad_lines='warn'\n",
        ")\n",
        "\n",
        "# Read train/dev splits\n",
        "train_val_labels = pd.read_csv(\"data/train_semeval_parids-labels.csv\")\n",
        "test_labels = pd.read_csv(\"data/dev_semeval_parids-labels.csv\")\n",
        "\n",
        "# Convert string labels to lists\n",
        "def parse_labels(label_str: str) -> list[int]:\n",
        "    return [int(x) for x in label_str.strip(\"[]\").replace(\" \", \"\").split(\",\")]\n",
        "\n",
        "# Process labels dataframes\n",
        "for labels_df in [train_val_labels, test_labels]:\n",
        "    labels_df['labels'] = labels_df['label'].apply(parse_labels)\n",
        "    labels_df.drop('label', axis=1, inplace=True)\n",
        "\n",
        "# Join with main data\n",
        "train_val_df = df.merge(train_val_labels, on=\"par_id\", how=\"inner\")\n",
        "test_df = df.merge(test_labels, on=\"par_id\", how=\"inner\")\n",
        "\n",
        "# Add PCL positivity column to both dataframes\n",
        "train_val_df['pcl_label'] = train_val_df['label'].apply(\n",
        "    lambda x: 0 if x in {0, 1} else 1)\n",
        "test_df['pcl_label'] = test_df['label'].apply(\n",
        "    lambda x: 0 if x in {0, 1} else 1)\n",
        "\n",
        "train_df, val_df = train_test_split(train_val_df, test_size=0.2, random_state=42, shuffle=True)"
      ]
    },
    {
      "cell_type": "code",
      "execution_count": 4,
      "metadata": {
        "colab": {
          "base_uri": "https://localhost:8080/"
        },
        "id": "tlPG3JxjUGWp",
        "outputId": "9cbc8809-8833-4d18-88b7-1e95f271f3c2"
      },
      "outputs": [
        {
          "name": "stderr",
          "output_type": "stream",
          "text": [
            "[nltk_data] Downloading package punkt_tab to /root/nltk_data...\n",
            "[nltk_data]   Package punkt_tab is already up-to-date!\n",
            "[nltk_data] Downloading package wordnet to /root/nltk_data...\n",
            "[nltk_data]   Package wordnet is already up-to-date!\n",
            "[nltk_data] Downloading package averaged_perceptron_tagger to\n",
            "[nltk_data]     /root/nltk_data...\n",
            "[nltk_data]   Package averaged_perceptron_tagger is already up-to-\n",
            "[nltk_data]       date!\n"
          ]
        },
        {
          "data": {
            "text/plain": [
              "True"
            ]
          },
          "execution_count": 4,
          "metadata": {},
          "output_type": "execute_result"
        }
      ],
      "source": [
        "import nltk\n",
        "# os.environ[\"TRANSFORMERS_CACHE\"] = \"/vol/bitbucket/bj321/.cache\"\n",
        "# nltk.data.path.append(\"/vol/bitbucket/bj321/nltk_data\")  # Your custom path\n",
        "nltk.download('punkt_tab')\n",
        "nltk.download('wordnet')\n",
        "nltk.download('averaged_perceptron_tagger')\n"
      ]
    },
    {
      "cell_type": "code",
      "execution_count": 5,
      "metadata": {
        "colab": {
          "base_uri": "https://localhost:8080/"
        },
        "id": "VSIrXlbcUGWp",
        "outputId": "79281dc3-34c6-4a41-d297-02b586059a4b"
      },
      "outputs": [
        {
          "data": {
            "text/plain": [
              "0"
            ]
          },
          "execution_count": 5,
          "metadata": {},
          "output_type": "execute_result"
        }
      ],
      "source": [
        "import gc\n",
        "torch.cuda.empty_cache()\n",
        "gc.collect()"
      ]
    },
    {
      "cell_type": "code",
      "execution_count": 6,
      "metadata": {
        "colab": {
          "base_uri": "https://localhost:8080/"
        },
        "id": "2OzlLMoQUGWp",
        "outputId": "7f51c7c5-86f0-40ea-e474-e38a5882a2b9"
      },
      "outputs": [
        {
          "name": "stdout",
          "output_type": "stream",
          "text": [
            "Loading SentenceBERT model...\n"
          ]
        },
        {
          "name": "stderr",
          "output_type": "stream",
          "text": [
            "/usr/local/lib/python3.11/dist-packages/huggingface_hub/utils/_auth.py:94: UserWarning: \n",
            "The secret `HF_TOKEN` does not exist in your Colab secrets.\n",
            "To authenticate with the Hugging Face Hub, create a token in your settings tab (https://huggingface.co/settings/tokens), set it as secret in your Google Colab and restart your session.\n",
            "You will be able to reuse this secret in all of your notebooks.\n",
            "Please note that authentication is recommended but still optional to access public models or datasets.\n",
            "  warnings.warn(\n"
          ]
        }
      ],
      "source": [
        "from deep_translator import GoogleTranslator\n",
        "import concurrent.futures\n",
        "import time\n",
        "from sentence_transformers import SentenceTransformer\n",
        "from scipy.spatial.distance import cosine\n",
        "\n",
        "# Load SentenceBERT model\n",
        "print(\"Loading SentenceBERT model...\")\n",
        "model = SentenceTransformer('all-MiniLM-L6-v2')  # Smaller, faster model\n",
        "# Alternative: model = SentenceTransformer('paraphrase-mpnet-base-v2')  # More accurate but slower\n",
        "\n",
        "def compute_similarity(original, translated):\n",
        "    \"\"\"Compute cosine similarity between original and translated text embeddings\"\"\"\n",
        "    # Get embeddings\n",
        "    emb1 = model.encode([original])[0]\n",
        "    emb2 = model.encode([translated])[0]\n",
        "\n",
        "    # Compute cosine similarity (1 - cosine distance)\n",
        "    similarity = 1 - cosine(emb1, emb2)\n",
        "    return similarity\n",
        "\n",
        "def back_translate_single(item):\n",
        "    \"\"\"Process a single text item with similarity filtering\"\"\"\n",
        "    text, label, par_id, source, target, idx, similarity_threshold = item\n",
        "    try:\n",
        "        # First translation (source to target)\n",
        "        translated = GoogleTranslator(source=source, target=target).translate(text)\n",
        "        time.sleep(0.5)  # Avoid rate limiting\n",
        "\n",
        "        # Second translation (target back to source)\n",
        "        back_translated = GoogleTranslator(source=target, target=source).translate(translated)\n",
        "\n",
        "        # Compute semantic similarity\n",
        "        similarity = compute_similarity(text, back_translated)\n",
        "\n",
        "        # Only return translations that maintain semantic similarity\n",
        "        if similarity >= similarity_threshold:\n",
        "            return back_translated, label, par_id, idx, similarity, True\n",
        "        else:\n",
        "            print(f\"Low similarity ({similarity:.3f}) for item {idx}: discarded\")\n",
        "            return text, label, par_id, idx, similarity, False  # Return original text but mark as not augmented\n",
        "\n",
        "    except Exception as e:\n",
        "        print(f\"Error in item {idx}: {str(e)}\")\n",
        "        return None, None, None, idx, 0.0, False\n",
        "\n",
        "def back_translate_batch(texts, labels, par_ids, source='en', target='zh-CN', max_workers=5, similarity_threshold=0.75):\n",
        "    \"\"\"Process texts in parallel batches with similarity filtering\"\"\"\n",
        "    results = [None] * len(texts)\n",
        "    labels_out = [None] * len(labels)\n",
        "    par_ids_out = [None] * len(par_ids)\n",
        "    similarities = [0.0] * len(texts)\n",
        "    is_augmented = [False] * len(texts)\n",
        "\n",
        "    # Create work items\n",
        "    work_items = [(texts[i], labels[i], par_ids[i], source, target, i, similarity_threshold) for i in range(len(texts))]\n",
        "\n",
        "    # Process in parallel\n",
        "    with concurrent.futures.ThreadPoolExecutor(max_workers=max_workers) as executor:\n",
        "        futures = [executor.submit(back_translate_single, item) for item in work_items]\n",
        "\n",
        "        # Process results as they complete\n",
        "        for future in tqdm(concurrent.futures.as_completed(futures), total=len(futures)):\n",
        "            result, label, par_id, idx, similarity, augmented = future.result()\n",
        "            if result is not None:\n",
        "                results[idx] = result\n",
        "                labels_out[idx] = label\n",
        "                par_ids_out[idx] = par_id\n",
        "                similarities[idx] = similarity\n",
        "                is_augmented[idx] = augmented\n",
        "\n",
        "    # Create DataFrame with results\n",
        "    result_df = pd.DataFrame({\n",
        "        'par_id': par_ids_out,\n",
        "        'original_text': texts,\n",
        "        'text': results,\n",
        "        'pcl_label': [int(x) if x is not None else None for x in labels_out],\n",
        "        'similarity': similarities,\n",
        "        'is_augmented': is_augmented\n",
        "    })\n",
        "\n",
        "    # Filter out None values\n",
        "    result_df = result_df.dropna(subset=['text'])\n",
        "\n",
        "    return result_df\n",
        "\n",
        "# Main processing loop\n",
        "language_list = ['zh-CN', 'fr', 'ru']\n",
        "similarity_threshold = 0.75  # Adjust as needed\n",
        "\n",
        "for language in language_list:\n",
        "    output_file = f'data/backtrans_data_{language}.csv'\n",
        "\n",
        "    if not os.path.exists(output_file):\n",
        "        print(f\"Processing language: {language}\")\n",
        "\n",
        "        # Process in chunks to avoid memory issues\n",
        "        chunk_size = 100\n",
        "        all_results_df = pd.DataFrame()\n",
        "\n",
        "        for i in range(0, len(train_df), chunk_size):\n",
        "            chunk_texts = train_df['text'].iloc[i:i+chunk_size].tolist()\n",
        "            chunk_labels = train_df['pcl_label'].iloc[i:i+chunk_size].tolist()\n",
        "            chunk_par_ids = train_df['par_id'].iloc[i:i+chunk_size].tolist()\n",
        "\n",
        "            print(f\"Processing chunk {i//chunk_size + 1}/{len(train_df)//chunk_size + 1}\")\n",
        "            result_df = back_translate_batch(\n",
        "                chunk_texts,\n",
        "                chunk_labels,\n",
        "                chunk_par_ids,\n",
        "                source='en',\n",
        "                target=language,\n",
        "                max_workers=5,\n",
        "                similarity_threshold=similarity_threshold\n",
        "            )\n",
        "\n",
        "            all_results_df = pd.concat([all_results_df, result_df])\n",
        "\n",
        "            # Save intermediate results\n",
        "            all_results_df.to_csv(f'data/backtrans_temp_{language}.csv', index=False)\n",
        "\n",
        "            # Optional: Add a delay between chunks\n",
        "            time.sleep(2)\n",
        "\n",
        "        # Save final results\n",
        "        all_results_df.to_csv(output_file, index=False)\n",
        "\n",
        "        # Print statistics\n",
        "        total = len(all_results_df)\n",
        "        augmented = all_results_df['is_augmented'].sum()\n",
        "        print(f\"Completed {language}: {total} samples processed\")\n",
        "        print(f\"Kept {augmented} samples ({augmented/total:.1%}) with similarity ≥ {similarity_threshold}\")\n",
        "        print(f\"Average similarity: {all_results_df['similarity'].mean():.3f}\")"
      ]
    },
    {
      "cell_type": "markdown",
      "metadata": {
        "id": "zCa0qvJqVLpT"
      },
      "source": [
        "### Hyperparameters"
      ]
    },
    {
      "cell_type": "code",
      "execution_count": 7,
      "metadata": {
        "id": "-mKaqTS0VLpT"
      },
      "outputs": [],
      "source": [
        "batch_size = 16\n",
        "lr = 1e-5\n",
        "n_epochs = 2\n",
        "betas = (0.9, 0.98)\n",
        "eps = 1e-6\n",
        "wd = 1e-2"
      ]
    },
    {
      "cell_type": "code",
      "execution_count": 8,
      "metadata": {
        "colab": {
          "base_uri": "https://localhost:8080/"
        },
        "id": "0oXKJCEbVLpT",
        "outputId": "6f5680a8-193d-4b7e-b097-593fc52682a3"
      },
      "outputs": [
        {
          "name": "stdout",
          "output_type": "stream",
          "text": [
            "Loaded data/backtrans_data_de.csv with 10468 rows\n",
            "Loaded data/backtrans_data_fr.csv with 10468 rows\n",
            "Loaded data/backtrans_data_zh-CN.csv with 10468 rows\n",
            "Combined backtranslation data: 20100 rows\n",
            "   par_id      art_id     topic country  \\\n",
            "0    5825   @@9438566   in-need      au   \n",
            "1    7171   @@1934487  hopeless      ng   \n",
            "2     680   @@9525972   in-need      nz   \n",
            "3    4906  @@22596758   refugee      bd   \n",
            "4    8180  @@13717053   migrant      ph   \n",
            "\n",
            "                                                text label labels  pcl_label  \n",
            "0  It described the local police as under resourc...  None   None          0  \n",
            "1  The only force that is able to stop it is the ...  None   None          1  \n",
            "2  The government's plans to return to mass finan...  None   None          0  \n",
            "3  New figures show that more than 48,000 Rohingy...  None   None          0  \n",
            "4  He then listed several immigrants, mainly from...  None   None          0  \n"
          ]
        }
      ],
      "source": [
        "class PCLDataset(Dataset):\n",
        "    def __init__(self, dataframe, tokenizer, balance_method='oversample', seed=seed):\n",
        "        self.tokenizer = tokenizer\n",
        "\n",
        "         # Split into positive and negative classes\n",
        "        pos_df = dataframe[dataframe['pcl_label'] == 1]\n",
        "        neg_df = dataframe[dataframe['pcl_label'] == 0]\n",
        "\n",
        "        # Balance classes\n",
        "        if balance_method == 'oversample':\n",
        "            # Repeat minority class samples\n",
        "            if len(pos_df) > len(neg_df):\n",
        "                pos_df, neg_df = neg_df, pos_df\n",
        "            n_samples = max(len(pos_df), len(neg_df))\n",
        "            pos_df = pos_df.sample(n_samples, replace=True, random_state=seed)\n",
        "        elif balance_method == 'undersample':\n",
        "            # Take minimum number of samples\n",
        "            n_samples = min(len(pos_df), len(neg_df))\n",
        "            pos_df = pos_df.sample(n_samples, random_state=seed)\n",
        "            neg_df = neg_df.sample(n_samples, random_state=seed)\n",
        "        elif balance_method == 'None':\n",
        "            pass\n",
        "\n",
        "        # Combine and shuffle\n",
        "        balanced_df = pd.concat([pos_df, neg_df]).sample(frac=1, random_state=seed)\n",
        "        self.texts = balanced_df['text'].tolist()\n",
        "        self.labels = balanced_df['pcl_label'].tolist()\n",
        "\n",
        "    def __len__(self):\n",
        "        return len(self.texts)\n",
        "\n",
        "    def __getitem__(self, idx):\n",
        "        text = self.texts[idx]\n",
        "        label = self.labels[idx]\n",
        "\n",
        "        encoding = self.tokenizer(\n",
        "            text,\n",
        "            truncation=True,\n",
        "            return_tensors='pt'\n",
        "        )\n",
        "\n",
        "        return {\n",
        "            'input_ids': encoding['input_ids'].flatten(),\n",
        "            'attention_mask': encoding['attention_mask'].flatten(),\n",
        "            'labels': torch.tensor(label, dtype=torch.long)\n",
        "        }\n",
        "\n",
        "# Initialize tokenizer and datasets\n",
        "tokenizer = AutoTokenizer.from_pretrained(\"answerdotai/ModernBERT-base\")\n",
        "\n",
        "# Load all backtranslation files and combine them\n",
        "backtrans_files = [\n",
        "    'data/backtrans_data_de.csv',\n",
        "    # 'data/backtrans_data_es.csv',\n",
        "    'data/backtrans_data_fr.csv',\n",
        "    # 'data/backtrans_data_ru.csv',\n",
        "    'data/backtrans_data_zh-CN.csv'\n",
        "]\n",
        "\n",
        "backtrans_dfs = []\n",
        "for file in backtrans_files:\n",
        "    try:\n",
        "        cur_df = pd.read_csv(file)\n",
        "        backtrans_dfs.append(cur_df)\n",
        "        print(f\"Loaded {file} with {len(df)} rows\")\n",
        "    except Exception as e:\n",
        "        print(f\"Error loading {file}: {e}\")\n",
        "\n",
        "# Combine all backtranslation dataframes\n",
        "if backtrans_dfs:\n",
        "    backtrans_df = pd.concat(backtrans_dfs, ignore_index=True)\n",
        "    print(f\"Combined backtranslation data: {len(backtrans_df)} rows\")\n",
        "else:\n",
        "    backtrans_df = pd.DataFrame()\n",
        "    print(\"No backtranslation data found\")\n",
        "\n",
        "# Create datasets\n",
        "for col in train_df.columns:\n",
        "    if col not in backtrans_df.columns:\n",
        "        backtrans_df[col] = None\n",
        "\n",
        "backtrans_df = backtrans_df[train_df.columns]\n",
        "backtrans_df['pcl_label'] = backtrans_df['pcl_label'].astype(int)\n",
        "augmented_train_df = pd.concat([backtrans_df, train_df], ignore_index=True)\n",
        "print(augmented_train_df.head())\n",
        "train_dataset = PCLDataset(augmented_train_df, tokenizer)\n",
        "val_dataset = PCLDataset(val_df, tokenizer, balance_method='None')\n",
        "test_dataset = PCLDataset(test_df, tokenizer, balance_method='None')"
      ]
    },
    {
      "cell_type": "markdown",
      "metadata": {
        "id": "1ovyIzdKUGWq"
      },
      "source": [
        "## Weighted Random Sampler"
      ]
    },
    {
      "cell_type": "code",
      "execution_count": 9,
      "metadata": {
        "id": "cozqcQtdUGWq"
      },
      "outputs": [],
      "source": [
        "class WeightedRandomSamplerTrainer(Trainer):\n",
        "    def __init__(self, *args, **kwargs):\n",
        "        super().__init__(*args, **kwargs)\n",
        "        self.weights = torch.FloatTensor(self._get_weights())\n",
        "        self.sampler = WeightedRandomSampler(self.weights, len(self.weights), replacement=True)\n",
        "\n",
        "    def get_train_dataloader(self):\n",
        "        return DataLoader(self.train_dataset, batch_size=self.args.train_batch_size, sampler=self.sampler, collate_fn=self.data_collator)\n",
        "\n",
        "    def _get_weights(self):\n",
        "        labels = np.array(self.train_dataset.labels)\n",
        "        class_counts = np.bincount(labels)\n",
        "        class_weights = 1.0 / np.sqrt(class_counts.astype(np.float32))\n",
        "        weights = class_weights[labels]\n",
        "        return weights\n",
        "\n",
        "train_dataset = PCLDataset(augmented_train_df, tokenizer, 'None')\n",
        "val_dataset = PCLDataset(val_df, tokenizer, balance_method='None')\n",
        "test_dataset = PCLDataset(test_df, tokenizer, balance_method='None')"
      ]
    },
    {
      "cell_type": "code",
      "execution_count": 10,
      "metadata": {
        "id": "aBn4QsCRVLpT"
      },
      "outputs": [],
      "source": [
        "def clean_memory(force_gc=3):\n",
        "    if torch.cuda.is_available():\n",
        "        torch.cuda.empty_cache()\n",
        "        torch.cuda.reset_peak_memory_stats()\n",
        "\n",
        "    gc.collect()\n",
        "    # Add explicit garbage collection after model training\n",
        "    gc.collect()\n",
        "\n",
        "    # Add a small delay to allow memory to be properly freed\n",
        "    time.sleep(1)\n",
        "\n",
        "    print(\"Memory cleaned\")\n",
        "\n",
        "def safe_cleanup(trainer=None, model=None):\n",
        "    \"\"\"Safely clean up trainer and model to free GPU memory\"\"\"\n",
        "    if trainer is not None:\n",
        "        # Remove model reference from trainer to avoid double deletion\n",
        "        if hasattr(trainer, 'model'):\n",
        "            if hasattr(trainer.model, 'to'):\n",
        "                trainer.model.to('cpu')\n",
        "            trainer.model = None\n",
        "\n",
        "        # Clear any optimizer states that might be on GPU\n",
        "        if hasattr(trainer, 'optimizer'):\n",
        "            trainer.optimizer = None\n",
        "\n",
        "        # Clear any scheduler states\n",
        "        if hasattr(trainer, 'lr_scheduler'):\n",
        "            trainer.lr_scheduler = None\n",
        "\n",
        "        # Delete the trainer\n",
        "        del trainer\n",
        "\n",
        "    # Move model to CPU and delete\n",
        "    if model is not None:\n",
        "        if hasattr(model, 'to'):\n",
        "            model.to('cpu')\n",
        "        del model\n",
        "\n",
        "    # Run garbage collection\n",
        "    clean_memory()\n",
        "\n",
        "def compute_metrics(eval_pred):\n",
        "    \"\"\"Calculate classification metrics for Hugging Face Trainer\"\"\"\n",
        "    predictions, labels = eval_pred\n",
        "    predictions = np.argmax(predictions, axis=1)\n",
        "\n",
        "    precision, recall, f1, _ = precision_recall_fscore_support(\n",
        "        labels, predictions, average='binary'\n",
        "    )\n",
        "    acc = accuracy_score(labels, predictions)\n",
        "\n",
        "    return {\n",
        "        'accuracy': acc,\n",
        "        'f1': f1,\n",
        "        'precision': precision,\n",
        "        'recall': recall\n",
        "    }\n",
        "\n",
        "class MetricsCallback(TrainerCallback):\n",
        "    def __init__(self):\n",
        "        self.training_history = {\"train\": [], \"eval\": []}\n",
        "        self.best_f1 = 0.0\n",
        "        self.best_epoch = 0\n",
        "        self.best_step = 0\n",
        "\n",
        "    def on_evaluate(self, args, state, control, metrics, **kwargs):\n",
        "        self.training_history[\"eval\"].append(metrics)\n",
        "        # Track best F1 score\n",
        "        if metrics.get(\"eval_f1\", 0) > self.best_f1:\n",
        "            self.best_f1 = metrics.get(\"eval_f1\", 0)\n",
        "            self.best_epoch = state.epoch\n",
        "            self.best_step = state.global_step\n",
        "\n",
        "    def on_log(self, args, state, control, logs, **kwargs):\n",
        "        if \"loss\" in logs:\n",
        "            self.training_history[\"train\"].append(logs)\n",
        "\n",
        "\n",
        "\n",
        "def train_model_with_seed(seed, model_name, train_dataset, val_dataset, output_dir):\n",
        "    reset_seeds(seed)\n",
        "\n",
        "    # Create a unique output directory for this seed\n",
        "    seed_output_dir = f\"{output_dir}/seed_{seed}\"\n",
        "    os.makedirs(seed_output_dir, exist_ok=True)\n",
        "\n",
        "    # Load model with seed-specific configuration\n",
        "    config = AutoConfig.from_pretrained(model_name, num_labels=2)\n",
        "    model = AutoModelForSequenceClassification.from_pretrained(model_name, config=config)\n",
        "\n",
        "    # Training arguments\n",
        "    training_args = TrainingArguments(\n",
        "      seed=seed,\n",
        "      data_seed=seed,\n",
        "      dataloader_num_workers=0,\n",
        "      output_dir=seed_output_dir,\n",
        "      learning_rate=lr,\n",
        "      per_device_train_batch_size=batch_size,\n",
        "      per_device_eval_batch_size=batch_size,\n",
        "      num_train_epochs=n_epochs,\n",
        "      lr_scheduler_type=\"cosine\",\n",
        "      optim=\"adamw_torch_fused\",\n",
        "      adam_beta1=betas[0],\n",
        "      adam_beta2=betas[1],\n",
        "      adam_epsilon=eps,\n",
        "      # weight_decay=wd,\n",
        "      logging_strategy=\"epoch\",\n",
        "      eval_strategy=\"epoch\",\n",
        "      save_strategy=\"epoch\",\n",
        "      load_best_model_at_end=True,\n",
        "      bf16=True,\n",
        "      bf16_full_eval=True,\n",
        "      push_to_hub=False,\n",
        "      warmup_ratio=0.1,\n",
        "      # full_determinism=True\n",
        "    )\n",
        "\n",
        "    # Initialize metrics callback\n",
        "    metrics_callback = MetricsCallback()\n",
        "\n",
        "    # Initialize trainer\n",
        "    trainer = Trainer(\n",
        "        model=model,\n",
        "        args=training_args,\n",
        "        train_dataset=train_dataset,\n",
        "        eval_dataset=val_dataset,\n",
        "        processing_class=tokenizer,\n",
        "        data_collator=DataCollatorWithPadding(tokenizer=tokenizer),\n",
        "        compute_metrics=compute_metrics,\n",
        "        callbacks=[metrics_callback],\n",
        "    )\n",
        "\n",
        "    # Train the model\n",
        "    print(f\"Training model with seed {seed}...\")\n",
        "    trainer.train()\n",
        "\n",
        "    # Evaluate on validation set\n",
        "    eval_results = trainer.evaluate()\n",
        "\n",
        "    # Save the best model path and its metrics\n",
        "    best_checkpoint = os.path.join(seed_output_dir, f\"checkpoint-{metrics_callback.best_step}\")\n",
        "\n",
        "    result = {\n",
        "        \"seed\": seed,\n",
        "        \"f1_score\": metrics_callback.best_f1,\n",
        "        \"best_checkpoint\": best_checkpoint,\n",
        "        \"eval_results\": eval_results,\n",
        "        \"best_epoch\": metrics_callback.best_epoch\n",
        "    }\n",
        "\n",
        "    # Delete model and trainer to free memory\n",
        "    print('before clean')\n",
        "    safe_cleanup(trainer, model)\n",
        "    print(\"after clean\")\n",
        "    return result\n",
        "\n",
        "\n",
        "def predict_with_model(model_path, test_dataset, tokenizer=None):\n",
        "    \"\"\"Use Trainer.predict() to get predictions from a model checkpoint\"\"\"\n",
        "    # Load model and tokenizer from checkpoint\n",
        "    model = AutoModelForSequenceClassification.from_pretrained(model_path)\n",
        "    if tokenizer is None:\n",
        "        tokenizer = AutoTokenizer.from_pretrained(model_path)\n",
        "\n",
        "    # Create a temporary trainer for prediction\n",
        "    training_args = TrainingArguments(\n",
        "        output_dir=\"./tmp_predict\",\n",
        "        per_device_eval_batch_size=32,\n",
        "        report_to=\"none\",\n",
        "    )\n",
        "\n",
        "    trainer = Trainer(\n",
        "        model=model,\n",
        "        args=training_args,\n",
        "        processing_class=tokenizer,\n",
        "        data_collator=DataCollatorWithPadding(tokenizer=tokenizer),\n",
        "        compute_metrics=compute_metrics,\n",
        "    )\n",
        "\n",
        "    # Get predictions\n",
        "    print(f\"Getting predictions from model at {model_path}\")\n",
        "    predictions = trainer.predict(test_dataset)\n",
        "\n",
        "    # Extract logits and convert to probabilities\n",
        "    logits = predictions.predictions\n",
        "    probs = F.softmax(torch.tensor(logits), dim=1).numpy()\n",
        "\n",
        "    # Get class predictions (0 or 1)\n",
        "    preds = np.argmax(logits, axis=1)\n",
        "\n",
        "    return preds, probs\n",
        "\n",
        "def ensemble_predict(model_paths, test_dataset, tokenizer=None):\n",
        "    \"\"\"Combine predictions from multiple models using majority voting\"\"\"\n",
        "    all_predictions = []\n",
        "    all_probabilities = []\n",
        "\n",
        "    # Get predictions from each model\n",
        "    for model_path in model_paths:\n",
        "        preds, probs = predict_with_model(model_path, test_dataset, tokenizer)\n",
        "        all_predictions.append(preds)\n",
        "        all_probabilities.append(probs)\n",
        "\n",
        "    # Stack predictions for voting\n",
        "    stacked_preds = np.stack(all_predictions)\n",
        "\n",
        "    # Majority voting (mode of predictions)\n",
        "    voted_predictions = []\n",
        "    for i in range(len(test_dataset)):\n",
        "        votes = stacked_preds[:, i]\n",
        "        # Find most common prediction (0 or 1)\n",
        "        voted_pred = Counter(votes).most_common(1)[0][0]\n",
        "        voted_predictions.append(voted_pred)\n",
        "\n",
        "    # Average probabilities\n",
        "    avg_probs = np.mean(np.stack(all_probabilities), axis=0)\n",
        "\n",
        "    return np.array(voted_predictions), avg_probs\n",
        "\n",
        "def train_ensemble(model_name, train_dataset, val_dataset, test_dataset, num_models=10, output_dir=f\"ModernBERT_pcl_ft\"):\n",
        "    \"\"\"Train multiple models with different seeds and create an ensemble\"\"\"\n",
        "    os.makedirs(output_dir, exist_ok=True)\n",
        "\n",
        "    # Train multiple models with different seeds\n",
        "    model_results = []\n",
        "    seeds = list(range(42, 42 + num_models))  # Use seeds 42 to 51\n",
        "\n",
        "    for seed in seeds:\n",
        "        result = train_model_with_seed(seed, model_name, train_dataset, val_dataset, output_dir)\n",
        "        model_results.append(result)\n",
        "        print(f\"Seed {seed} - F1 Score: {result['f1_score']:.4f}\")\n",
        "        clean_memory()\n",
        "\n",
        "    # Sort models by validation F1 score and select top 3\n",
        "    model_results.sort(key=lambda x: x['f1_score'], reverse=True)\n",
        "    top_models = model_results[:3]\n",
        "\n",
        "    print(\"\\nTop 3 models:\")\n",
        "    for i, model in enumerate(top_models):\n",
        "        print(f\"{i+1}. Seed {model['seed']} - F1 Score: {model['f1_score']:.4f}\")\n",
        "\n",
        "    # Get the checkpoint paths for the top models\n",
        "    top_model_paths = [model[\"best_checkpoint\"] for model in top_models]\n",
        "\n",
        "    # Save ensemble metadata\n",
        "    ensemble_info = {\n",
        "        \"models\": [{\"seed\": m[\"seed\"], \"checkpoint\": m[\"best_checkpoint\"], \"f1_score\": m[\"f1_score\"]} for m in top_models],\n",
        "        \"creation_date\": pd.Timestamp.now().strftime(\"%Y-%m-%d %H:%M:%S\")\n",
        "    }\n",
        "\n",
        "    pd.DataFrame(ensemble_info[\"models\"]).to_csv(f\"{output_dir}/ensemble_models.csv\", index=False)\n",
        "\n",
        "    # Evaluate ensemble on test set\n",
        "    print(\"\\nEvaluating ensemble on test set...\")\n",
        "    ensemble_preds, ensemble_probs = ensemble_predict(top_model_paths, test_dataset)\n",
        "\n",
        "    # Get true labels from test dataset\n",
        "    true_labels = [item['labels'].item() for item in test_dataset]\n",
        "\n",
        "    # Calculate metrics\n",
        "    accuracy = accuracy_score(true_labels, ensemble_preds)\n",
        "    precision, recall, f1, _ = precision_recall_fscore_support(true_labels, ensemble_preds, average='binary')\n",
        "\n",
        "    print(f\"Ensemble Test Results:\")\n",
        "    print(f\"Accuracy: {accuracy:.4f}\")\n",
        "    print(f\"F1 Score: {f1:.4f}\")\n",
        "    print(f\"Precision: {precision:.4f}\")\n",
        "    print(f\"Recall: {recall:.4f}\")\n",
        "\n",
        "    # Compare with individual model performance\n",
        "    print(\"\\nComparing with individual model performance:\")\n",
        "    for i, model_path in enumerate(top_model_paths):\n",
        "        model_preds, _ = predict_with_model(model_path, test_dataset)\n",
        "        model_accuracy = accuracy_score(true_labels, model_preds)\n",
        "        model_precision, model_recall, model_f1, _ = precision_recall_fscore_support(true_labels, model_preds, average='binary')\n",
        "\n",
        "        print(f\"Model {i+1} (Seed {top_models[i]['seed']}):\")\n",
        "        print(f\"  Accuracy: {model_accuracy:.4f}\")\n",
        "        print(f\"  F1 Score: {model_f1:.4f}\")\n",
        "        print(f\"  Precision: {model_precision:.4f}\")\n",
        "        print(f\"  Recall: {model_recall:.4f}\")\n",
        "\n",
        "    # Create a prediction function for future use\n",
        "    def predict_with_ensemble(new_dataset):\n",
        "        \"\"\"Function to make predictions with the ensemble on new data\"\"\"\n",
        "        return ensemble_predict(top_model_paths, new_dataset)\n",
        "\n",
        "    return top_model_paths, ensemble_preds, ensemble_probs, predict_with_ensemble"
      ]
    },
    {
      "cell_type": "code",
      "execution_count": 11,
      "metadata": {
        "colab": {
          "base_uri": "https://localhost:8080/",
          "height": 1000
        },
        "id": "se4k2-CqlsZu",
        "outputId": "198c7d42-892f-42b6-eb17-414c7eb2acc1"
      },
      "outputs": [
        {
          "name": "stdout",
          "output_type": "stream",
          "text": [
            "Memory cleaned\n",
            "All random states have been reset with seed 42\n"
          ]
        },
        {
          "name": "stderr",
          "output_type": "stream",
          "text": [
            "Some weights of ModernBertForSequenceClassification were not initialized from the model checkpoint at answerdotai/ModernBERT-base and are newly initialized: ['classifier.bias', 'classifier.weight']\n",
            "You should probably TRAIN this model on a down-stream task to be able to use it for predictions and inference.\n"
          ]
        },
        {
          "name": "stdout",
          "output_type": "stream",
          "text": [
            "Training model with seed 42...\n"
          ]
        },
        {
          "name": "stderr",
          "output_type": "stream",
          "text": [
            "\u001b[34m\u001b[1mwandb\u001b[0m: \u001b[33mWARNING\u001b[0m The `run_name` is currently set to the same value as `TrainingArguments.output_dir`. If this was not intended, please specify a different run name by setting the `TrainingArguments.run_name` parameter.\n",
            "\u001b[34m\u001b[1mwandb\u001b[0m: Using wandb-core as the SDK backend.  Please refer to https://wandb.me/wandb-core for more information.\n",
            "\u001b[34m\u001b[1mwandb\u001b[0m: Currently logged in as: \u001b[33mjiangby03\u001b[0m to \u001b[32mhttps://api.wandb.ai\u001b[0m. Use \u001b[1m`wandb login --relogin`\u001b[0m to force relogin\n"
          ]
        },
        {
          "data": {
            "text/html": [
              "Tracking run with wandb version 0.19.7"
            ],
            "text/plain": [
              "<IPython.core.display.HTML object>"
            ]
          },
          "metadata": {},
          "output_type": "display_data"
        },
        {
          "data": {
            "text/html": [
              "Run data is saved locally in <code>/content/wandb/run-20250301_220504-sixu4r9t</code>"
            ],
            "text/plain": [
              "<IPython.core.display.HTML object>"
            ]
          },
          "metadata": {},
          "output_type": "display_data"
        },
        {
          "data": {
            "text/html": [
              "Syncing run <strong><a href='https://wandb.ai/jiangby03/huggingface/runs/sixu4r9t' target=\"_blank\">ModernBERT_pcl_ft/seed_42</a></strong> to <a href='https://wandb.ai/jiangby03/huggingface' target=\"_blank\">Weights & Biases</a> (<a href='https://wandb.me/developer-guide' target=\"_blank\">docs</a>)<br>"
            ],
            "text/plain": [
              "<IPython.core.display.HTML object>"
            ]
          },
          "metadata": {},
          "output_type": "display_data"
        },
        {
          "data": {
            "text/html": [
              " View project at <a href='https://wandb.ai/jiangby03/huggingface' target=\"_blank\">https://wandb.ai/jiangby03/huggingface</a>"
            ],
            "text/plain": [
              "<IPython.core.display.HTML object>"
            ]
          },
          "metadata": {},
          "output_type": "display_data"
        },
        {
          "data": {
            "text/html": [
              " View run at <a href='https://wandb.ai/jiangby03/huggingface/runs/sixu4r9t' target=\"_blank\">https://wandb.ai/jiangby03/huggingface/runs/sixu4r9t</a>"
            ],
            "text/plain": [
              "<IPython.core.display.HTML object>"
            ]
          },
          "metadata": {},
          "output_type": "display_data"
        },
        {
          "data": {
            "text/html": [
              "\n",
              "    <div>\n",
              "      \n",
              "      <progress value='3350' max='3350' style='width:300px; height:20px; vertical-align: middle;'></progress>\n",
              "      [3350/3350 10:45, Epoch 2/2]\n",
              "    </div>\n",
              "    <table border=\"1\" class=\"dataframe\">\n",
              "  <thead>\n",
              " <tr style=\"text-align: left;\">\n",
              "      <th>Epoch</th>\n",
              "      <th>Training Loss</th>\n",
              "      <th>Validation Loss</th>\n",
              "      <th>Accuracy</th>\n",
              "      <th>F1</th>\n",
              "      <th>Precision</th>\n",
              "      <th>Recall</th>\n",
              "    </tr>\n",
              "  </thead>\n",
              "  <tbody>\n",
              "    <tr>\n",
              "      <td>1</td>\n",
              "      <td>0.232800</td>\n",
              "      <td>0.214350</td>\n",
              "      <td>0.921791</td>\n",
              "      <td>0.576052</td>\n",
              "      <td>0.635714</td>\n",
              "      <td>0.526627</td>\n",
              "    </tr>\n",
              "    <tr>\n",
              "      <td>2</td>\n",
              "      <td>0.084000</td>\n",
              "      <td>0.364406</td>\n",
              "      <td>0.927761</td>\n",
              "      <td>0.584192</td>\n",
              "      <td>0.696721</td>\n",
              "      <td>0.502959</td>\n",
              "    </tr>\n",
              "  </tbody>\n",
              "</table><p>"
            ],
            "text/plain": [
              "<IPython.core.display.HTML object>"
            ]
          },
          "metadata": {},
          "output_type": "display_data"
        },
        {
          "data": {
            "text/html": [
              "\n",
              "    <div>\n",
              "      \n",
              "      <progress value='105' max='105' style='width:300px; height:20px; vertical-align: middle;'></progress>\n",
              "      [105/105 00:07]\n",
              "    </div>\n",
              "    "
            ],
            "text/plain": [
              "<IPython.core.display.HTML object>"
            ]
          },
          "metadata": {},
          "output_type": "display_data"
        },
        {
          "name": "stderr",
          "output_type": "stream",
          "text": [
            "/usr/local/lib/python3.11/dist-packages/sklearn/metrics/_classification.py:1565: UndefinedMetricWarning: Precision is ill-defined and being set to 0.0 due to no predicted samples. Use `zero_division` parameter to control this behavior.\n",
            "  _warn_prf(average, modifier, f\"{metric.capitalize()} is\", len(result))\n"
          ]
        },
        {
          "name": "stdout",
          "output_type": "stream",
          "text": [
            "before clean\n",
            "Memory cleaned\n",
            "after clean\n",
            "Seed 42 - F1 Score: 0.5842\n",
            "Memory cleaned\n",
            "All random states have been reset with seed 43\n"
          ]
        },
        {
          "name": "stderr",
          "output_type": "stream",
          "text": [
            "Some weights of ModernBertForSequenceClassification were not initialized from the model checkpoint at answerdotai/ModernBERT-base and are newly initialized: ['classifier.bias', 'classifier.weight']\n",
            "You should probably TRAIN this model on a down-stream task to be able to use it for predictions and inference.\n"
          ]
        },
        {
          "name": "stdout",
          "output_type": "stream",
          "text": [
            "Training model with seed 43...\n"
          ]
        },
        {
          "data": {
            "text/html": [
              "\n",
              "    <div>\n",
              "      \n",
              "      <progress value='3350' max='3350' style='width:300px; height:20px; vertical-align: middle;'></progress>\n",
              "      [3350/3350 10:50, Epoch 2/2]\n",
              "    </div>\n",
              "    <table border=\"1\" class=\"dataframe\">\n",
              "  <thead>\n",
              " <tr style=\"text-align: left;\">\n",
              "      <th>Epoch</th>\n",
              "      <th>Training Loss</th>\n",
              "      <th>Validation Loss</th>\n",
              "      <th>Accuracy</th>\n",
              "      <th>F1</th>\n",
              "      <th>Precision</th>\n",
              "      <th>Recall</th>\n",
              "    </tr>\n",
              "  </thead>\n",
              "  <tbody>\n",
              "    <tr>\n",
              "      <td>1</td>\n",
              "      <td>0.225500</td>\n",
              "      <td>0.248499</td>\n",
              "      <td>0.923582</td>\n",
              "      <td>0.475410</td>\n",
              "      <td>0.773333</td>\n",
              "      <td>0.343195</td>\n",
              "    </tr>\n",
              "    <tr>\n",
              "      <td>2</td>\n",
              "      <td>0.091700</td>\n",
              "      <td>0.361197</td>\n",
              "      <td>0.924179</td>\n",
              "      <td>0.560554</td>\n",
              "      <td>0.675000</td>\n",
              "      <td>0.479290</td>\n",
              "    </tr>\n",
              "  </tbody>\n",
              "</table><p>"
            ],
            "text/plain": [
              "<IPython.core.display.HTML object>"
            ]
          },
          "metadata": {},
          "output_type": "display_data"
        },
        {
          "data": {
            "text/html": [
              "\n",
              "    <div>\n",
              "      \n",
              "      <progress value='105' max='105' style='width:300px; height:20px; vertical-align: middle;'></progress>\n",
              "      [105/105 00:07]\n",
              "    </div>\n",
              "    "
            ],
            "text/plain": [
              "<IPython.core.display.HTML object>"
            ]
          },
          "metadata": {},
          "output_type": "display_data"
        },
        {
          "name": "stdout",
          "output_type": "stream",
          "text": [
            "before clean\n",
            "Memory cleaned\n",
            "after clean\n",
            "Seed 43 - F1 Score: 0.5606\n",
            "Memory cleaned\n",
            "All random states have been reset with seed 44\n"
          ]
        },
        {
          "name": "stderr",
          "output_type": "stream",
          "text": [
            "Some weights of ModernBertForSequenceClassification were not initialized from the model checkpoint at answerdotai/ModernBERT-base and are newly initialized: ['classifier.bias', 'classifier.weight']\n",
            "You should probably TRAIN this model on a down-stream task to be able to use it for predictions and inference.\n"
          ]
        },
        {
          "name": "stdout",
          "output_type": "stream",
          "text": [
            "Training model with seed 44...\n"
          ]
        },
        {
          "data": {
            "text/html": [
              "\n",
              "    <div>\n",
              "      \n",
              "      <progress value='3350' max='3350' style='width:300px; height:20px; vertical-align: middle;'></progress>\n",
              "      [3350/3350 10:49, Epoch 2/2]\n",
              "    </div>\n",
              "    <table border=\"1\" class=\"dataframe\">\n",
              "  <thead>\n",
              " <tr style=\"text-align: left;\">\n",
              "      <th>Epoch</th>\n",
              "      <th>Training Loss</th>\n",
              "      <th>Validation Loss</th>\n",
              "      <th>Accuracy</th>\n",
              "      <th>F1</th>\n",
              "      <th>Precision</th>\n",
              "      <th>Recall</th>\n",
              "    </tr>\n",
              "  </thead>\n",
              "  <tbody>\n",
              "    <tr>\n",
              "      <td>1</td>\n",
              "      <td>0.220900</td>\n",
              "      <td>0.269232</td>\n",
              "      <td>0.921791</td>\n",
              "      <td>0.427948</td>\n",
              "      <td>0.816667</td>\n",
              "      <td>0.289941</td>\n",
              "    </tr>\n",
              "    <tr>\n",
              "      <td>2</td>\n",
              "      <td>0.073400</td>\n",
              "      <td>0.362388</td>\n",
              "      <td>0.925373</td>\n",
              "      <td>0.551971</td>\n",
              "      <td>0.700000</td>\n",
              "      <td>0.455621</td>\n",
              "    </tr>\n",
              "  </tbody>\n",
              "</table><p>"
            ],
            "text/plain": [
              "<IPython.core.display.HTML object>"
            ]
          },
          "metadata": {},
          "output_type": "display_data"
        },
        {
          "data": {
            "text/html": [
              "\n",
              "    <div>\n",
              "      \n",
              "      <progress value='105' max='105' style='width:300px; height:20px; vertical-align: middle;'></progress>\n",
              "      [105/105 00:07]\n",
              "    </div>\n",
              "    "
            ],
            "text/plain": [
              "<IPython.core.display.HTML object>"
            ]
          },
          "metadata": {},
          "output_type": "display_data"
        },
        {
          "name": "stdout",
          "output_type": "stream",
          "text": [
            "before clean\n",
            "Memory cleaned\n",
            "after clean\n",
            "Seed 44 - F1 Score: 0.5520\n",
            "Memory cleaned\n",
            "All random states have been reset with seed 45\n"
          ]
        },
        {
          "name": "stderr",
          "output_type": "stream",
          "text": [
            "Some weights of ModernBertForSequenceClassification were not initialized from the model checkpoint at answerdotai/ModernBERT-base and are newly initialized: ['classifier.bias', 'classifier.weight']\n",
            "You should probably TRAIN this model on a down-stream task to be able to use it for predictions and inference.\n"
          ]
        },
        {
          "name": "stdout",
          "output_type": "stream",
          "text": [
            "Training model with seed 45...\n"
          ]
        },
        {
          "data": {
            "text/html": [
              "\n",
              "    <div>\n",
              "      \n",
              "      <progress value='3350' max='3350' style='width:300px; height:20px; vertical-align: middle;'></progress>\n",
              "      [3350/3350 10:50, Epoch 2/2]\n",
              "    </div>\n",
              "    <table border=\"1\" class=\"dataframe\">\n",
              "  <thead>\n",
              " <tr style=\"text-align: left;\">\n",
              "      <th>Epoch</th>\n",
              "      <th>Training Loss</th>\n",
              "      <th>Validation Loss</th>\n",
              "      <th>Accuracy</th>\n",
              "      <th>F1</th>\n",
              "      <th>Precision</th>\n",
              "      <th>Recall</th>\n",
              "    </tr>\n",
              "  </thead>\n",
              "  <tbody>\n",
              "    <tr>\n",
              "      <td>1</td>\n",
              "      <td>0.215100</td>\n",
              "      <td>0.295227</td>\n",
              "      <td>0.920597</td>\n",
              "      <td>0.419214</td>\n",
              "      <td>0.800000</td>\n",
              "      <td>0.284024</td>\n",
              "    </tr>\n",
              "    <tr>\n",
              "      <td>2</td>\n",
              "      <td>0.081800</td>\n",
              "      <td>0.368292</td>\n",
              "      <td>0.918209</td>\n",
              "      <td>0.532423</td>\n",
              "      <td>0.629032</td>\n",
              "      <td>0.461538</td>\n",
              "    </tr>\n",
              "  </tbody>\n",
              "</table><p>"
            ],
            "text/plain": [
              "<IPython.core.display.HTML object>"
            ]
          },
          "metadata": {},
          "output_type": "display_data"
        },
        {
          "data": {
            "text/html": [
              "\n",
              "    <div>\n",
              "      \n",
              "      <progress value='105' max='105' style='width:300px; height:20px; vertical-align: middle;'></progress>\n",
              "      [105/105 00:07]\n",
              "    </div>\n",
              "    "
            ],
            "text/plain": [
              "<IPython.core.display.HTML object>"
            ]
          },
          "metadata": {},
          "output_type": "display_data"
        },
        {
          "name": "stdout",
          "output_type": "stream",
          "text": [
            "before clean\n",
            "Memory cleaned\n",
            "after clean\n",
            "Seed 45 - F1 Score: 0.5324\n",
            "Memory cleaned\n",
            "All random states have been reset with seed 46\n"
          ]
        },
        {
          "name": "stderr",
          "output_type": "stream",
          "text": [
            "Some weights of ModernBertForSequenceClassification were not initialized from the model checkpoint at answerdotai/ModernBERT-base and are newly initialized: ['classifier.bias', 'classifier.weight']\n",
            "You should probably TRAIN this model on a down-stream task to be able to use it for predictions and inference.\n"
          ]
        },
        {
          "name": "stdout",
          "output_type": "stream",
          "text": [
            "Training model with seed 46...\n"
          ]
        },
        {
          "data": {
            "text/html": [
              "\n",
              "    <div>\n",
              "      \n",
              "      <progress value='3350' max='3350' style='width:300px; height:20px; vertical-align: middle;'></progress>\n",
              "      [3350/3350 10:54, Epoch 2/2]\n",
              "    </div>\n",
              "    <table border=\"1\" class=\"dataframe\">\n",
              "  <thead>\n",
              " <tr style=\"text-align: left;\">\n",
              "      <th>Epoch</th>\n",
              "      <th>Training Loss</th>\n",
              "      <th>Validation Loss</th>\n",
              "      <th>Accuracy</th>\n",
              "      <th>F1</th>\n",
              "      <th>Precision</th>\n",
              "      <th>Recall</th>\n",
              "    </tr>\n",
              "  </thead>\n",
              "  <tbody>\n",
              "    <tr>\n",
              "      <td>1</td>\n",
              "      <td>0.236800</td>\n",
              "      <td>0.239904</td>\n",
              "      <td>0.917612</td>\n",
              "      <td>0.551948</td>\n",
              "      <td>0.611511</td>\n",
              "      <td>0.502959</td>\n",
              "    </tr>\n",
              "    <tr>\n",
              "      <td>2</td>\n",
              "      <td>0.101700</td>\n",
              "      <td>0.342282</td>\n",
              "      <td>0.917612</td>\n",
              "      <td>0.549020</td>\n",
              "      <td>0.613139</td>\n",
              "      <td>0.497041</td>\n",
              "    </tr>\n",
              "  </tbody>\n",
              "</table><p>"
            ],
            "text/plain": [
              "<IPython.core.display.HTML object>"
            ]
          },
          "metadata": {},
          "output_type": "display_data"
        },
        {
          "data": {
            "text/html": [
              "\n",
              "    <div>\n",
              "      \n",
              "      <progress value='105' max='105' style='width:300px; height:20px; vertical-align: middle;'></progress>\n",
              "      [105/105 00:07]\n",
              "    </div>\n",
              "    "
            ],
            "text/plain": [
              "<IPython.core.display.HTML object>"
            ]
          },
          "metadata": {},
          "output_type": "display_data"
        },
        {
          "name": "stdout",
          "output_type": "stream",
          "text": [
            "before clean\n",
            "Memory cleaned\n",
            "after clean\n",
            "Seed 46 - F1 Score: 0.5519\n",
            "Memory cleaned\n",
            "All random states have been reset with seed 47\n"
          ]
        },
        {
          "name": "stderr",
          "output_type": "stream",
          "text": [
            "Some weights of ModernBertForSequenceClassification were not initialized from the model checkpoint at answerdotai/ModernBERT-base and are newly initialized: ['classifier.bias', 'classifier.weight']\n",
            "You should probably TRAIN this model on a down-stream task to be able to use it for predictions and inference.\n"
          ]
        },
        {
          "name": "stdout",
          "output_type": "stream",
          "text": [
            "Training model with seed 47...\n"
          ]
        },
        {
          "data": {
            "text/html": [
              "\n",
              "    <div>\n",
              "      \n",
              "      <progress value='3350' max='3350' style='width:300px; height:20px; vertical-align: middle;'></progress>\n",
              "      [3350/3350 10:54, Epoch 2/2]\n",
              "    </div>\n",
              "    <table border=\"1\" class=\"dataframe\">\n",
              "  <thead>\n",
              " <tr style=\"text-align: left;\">\n",
              "      <th>Epoch</th>\n",
              "      <th>Training Loss</th>\n",
              "      <th>Validation Loss</th>\n",
              "      <th>Accuracy</th>\n",
              "      <th>F1</th>\n",
              "      <th>Precision</th>\n",
              "      <th>Recall</th>\n",
              "    </tr>\n",
              "  </thead>\n",
              "  <tbody>\n",
              "    <tr>\n",
              "      <td>1</td>\n",
              "      <td>0.226700</td>\n",
              "      <td>0.235260</td>\n",
              "      <td>0.921791</td>\n",
              "      <td>0.501901</td>\n",
              "      <td>0.702128</td>\n",
              "      <td>0.390533</td>\n",
              "    </tr>\n",
              "    <tr>\n",
              "      <td>2</td>\n",
              "      <td>0.091000</td>\n",
              "      <td>0.390652</td>\n",
              "      <td>0.915821</td>\n",
              "      <td>0.515464</td>\n",
              "      <td>0.614754</td>\n",
              "      <td>0.443787</td>\n",
              "    </tr>\n",
              "  </tbody>\n",
              "</table><p>"
            ],
            "text/plain": [
              "<IPython.core.display.HTML object>"
            ]
          },
          "metadata": {},
          "output_type": "display_data"
        },
        {
          "data": {
            "text/html": [
              "\n",
              "    <div>\n",
              "      \n",
              "      <progress value='105' max='105' style='width:300px; height:20px; vertical-align: middle;'></progress>\n",
              "      [105/105 00:07]\n",
              "    </div>\n",
              "    "
            ],
            "text/plain": [
              "<IPython.core.display.HTML object>"
            ]
          },
          "metadata": {},
          "output_type": "display_data"
        },
        {
          "name": "stderr",
          "output_type": "stream",
          "text": [
            "/usr/local/lib/python3.11/dist-packages/sklearn/metrics/_classification.py:1565: UndefinedMetricWarning: Precision is ill-defined and being set to 0.0 due to no predicted samples. Use `zero_division` parameter to control this behavior.\n",
            "  _warn_prf(average, modifier, f\"{metric.capitalize()} is\", len(result))\n"
          ]
        },
        {
          "name": "stdout",
          "output_type": "stream",
          "text": [
            "before clean\n",
            "Memory cleaned\n",
            "after clean\n",
            "Seed 47 - F1 Score: 0.5155\n",
            "Memory cleaned\n",
            "All random states have been reset with seed 48\n"
          ]
        },
        {
          "name": "stderr",
          "output_type": "stream",
          "text": [
            "Some weights of ModernBertForSequenceClassification were not initialized from the model checkpoint at answerdotai/ModernBERT-base and are newly initialized: ['classifier.bias', 'classifier.weight']\n",
            "You should probably TRAIN this model on a down-stream task to be able to use it for predictions and inference.\n"
          ]
        },
        {
          "name": "stdout",
          "output_type": "stream",
          "text": [
            "Training model with seed 48...\n"
          ]
        },
        {
          "data": {
            "text/html": [
              "\n",
              "    <div>\n",
              "      \n",
              "      <progress value='3350' max='3350' style='width:300px; height:20px; vertical-align: middle;'></progress>\n",
              "      [3350/3350 10:57, Epoch 2/2]\n",
              "    </div>\n",
              "    <table border=\"1\" class=\"dataframe\">\n",
              "  <thead>\n",
              " <tr style=\"text-align: left;\">\n",
              "      <th>Epoch</th>\n",
              "      <th>Training Loss</th>\n",
              "      <th>Validation Loss</th>\n",
              "      <th>Accuracy</th>\n",
              "      <th>F1</th>\n",
              "      <th>Precision</th>\n",
              "      <th>Recall</th>\n",
              "    </tr>\n",
              "  </thead>\n",
              "  <tbody>\n",
              "    <tr>\n",
              "      <td>1</td>\n",
              "      <td>0.230900</td>\n",
              "      <td>0.297067</td>\n",
              "      <td>0.918806</td>\n",
              "      <td>0.442623</td>\n",
              "      <td>0.720000</td>\n",
              "      <td>0.319527</td>\n",
              "    </tr>\n",
              "    <tr>\n",
              "      <td>2</td>\n",
              "      <td>0.105700</td>\n",
              "      <td>0.340604</td>\n",
              "      <td>0.920000</td>\n",
              "      <td>0.521429</td>\n",
              "      <td>0.657658</td>\n",
              "      <td>0.431953</td>\n",
              "    </tr>\n",
              "  </tbody>\n",
              "</table><p>"
            ],
            "text/plain": [
              "<IPython.core.display.HTML object>"
            ]
          },
          "metadata": {},
          "output_type": "display_data"
        },
        {
          "data": {
            "text/html": [
              "\n",
              "    <div>\n",
              "      \n",
              "      <progress value='105' max='105' style='width:300px; height:20px; vertical-align: middle;'></progress>\n",
              "      [105/105 00:07]\n",
              "    </div>\n",
              "    "
            ],
            "text/plain": [
              "<IPython.core.display.HTML object>"
            ]
          },
          "metadata": {},
          "output_type": "display_data"
        },
        {
          "name": "stderr",
          "output_type": "stream",
          "text": [
            "/usr/local/lib/python3.11/dist-packages/sklearn/metrics/_classification.py:1565: UndefinedMetricWarning: Precision is ill-defined and being set to 0.0 due to no predicted samples. Use `zero_division` parameter to control this behavior.\n",
            "  _warn_prf(average, modifier, f\"{metric.capitalize()} is\", len(result))\n"
          ]
        },
        {
          "name": "stdout",
          "output_type": "stream",
          "text": [
            "before clean\n",
            "Memory cleaned\n",
            "after clean\n",
            "Seed 48 - F1 Score: 0.5214\n",
            "Memory cleaned\n",
            "All random states have been reset with seed 49\n"
          ]
        },
        {
          "name": "stderr",
          "output_type": "stream",
          "text": [
            "Some weights of ModernBertForSequenceClassification were not initialized from the model checkpoint at answerdotai/ModernBERT-base and are newly initialized: ['classifier.bias', 'classifier.weight']\n",
            "You should probably TRAIN this model on a down-stream task to be able to use it for predictions and inference.\n"
          ]
        },
        {
          "name": "stdout",
          "output_type": "stream",
          "text": [
            "Training model with seed 49...\n"
          ]
        },
        {
          "data": {
            "text/html": [
              "\n",
              "    <div>\n",
              "      \n",
              "      <progress value='3350' max='3350' style='width:300px; height:20px; vertical-align: middle;'></progress>\n",
              "      [3350/3350 10:51, Epoch 2/2]\n",
              "    </div>\n",
              "    <table border=\"1\" class=\"dataframe\">\n",
              "  <thead>\n",
              " <tr style=\"text-align: left;\">\n",
              "      <th>Epoch</th>\n",
              "      <th>Training Loss</th>\n",
              "      <th>Validation Loss</th>\n",
              "      <th>Accuracy</th>\n",
              "      <th>F1</th>\n",
              "      <th>Precision</th>\n",
              "      <th>Recall</th>\n",
              "    </tr>\n",
              "  </thead>\n",
              "  <tbody>\n",
              "    <tr>\n",
              "      <td>1</td>\n",
              "      <td>0.229900</td>\n",
              "      <td>0.240711</td>\n",
              "      <td>0.921791</td>\n",
              "      <td>0.540351</td>\n",
              "      <td>0.663793</td>\n",
              "      <td>0.455621</td>\n",
              "    </tr>\n",
              "    <tr>\n",
              "      <td>2</td>\n",
              "      <td>0.085000</td>\n",
              "      <td>0.375680</td>\n",
              "      <td>0.921194</td>\n",
              "      <td>0.544828</td>\n",
              "      <td>0.652893</td>\n",
              "      <td>0.467456</td>\n",
              "    </tr>\n",
              "  </tbody>\n",
              "</table><p>"
            ],
            "text/plain": [
              "<IPython.core.display.HTML object>"
            ]
          },
          "metadata": {},
          "output_type": "display_data"
        },
        {
          "data": {
            "text/html": [
              "\n",
              "    <div>\n",
              "      \n",
              "      <progress value='105' max='105' style='width:300px; height:20px; vertical-align: middle;'></progress>\n",
              "      [105/105 00:07]\n",
              "    </div>\n",
              "    "
            ],
            "text/plain": [
              "<IPython.core.display.HTML object>"
            ]
          },
          "metadata": {},
          "output_type": "display_data"
        },
        {
          "name": "stdout",
          "output_type": "stream",
          "text": [
            "before clean\n",
            "Memory cleaned\n",
            "after clean\n",
            "Seed 49 - F1 Score: 0.5448\n",
            "Memory cleaned\n",
            "All random states have been reset with seed 50\n"
          ]
        },
        {
          "name": "stderr",
          "output_type": "stream",
          "text": [
            "Some weights of ModernBertForSequenceClassification were not initialized from the model checkpoint at answerdotai/ModernBERT-base and are newly initialized: ['classifier.bias', 'classifier.weight']\n",
            "You should probably TRAIN this model on a down-stream task to be able to use it for predictions and inference.\n"
          ]
        },
        {
          "name": "stdout",
          "output_type": "stream",
          "text": [
            "Training model with seed 50...\n"
          ]
        },
        {
          "data": {
            "text/html": [
              "\n",
              "    <div>\n",
              "      \n",
              "      <progress value='3350' max='3350' style='width:300px; height:20px; vertical-align: middle;'></progress>\n",
              "      [3350/3350 10:51, Epoch 2/2]\n",
              "    </div>\n",
              "    <table border=\"1\" class=\"dataframe\">\n",
              "  <thead>\n",
              " <tr style=\"text-align: left;\">\n",
              "      <th>Epoch</th>\n",
              "      <th>Training Loss</th>\n",
              "      <th>Validation Loss</th>\n",
              "      <th>Accuracy</th>\n",
              "      <th>F1</th>\n",
              "      <th>Precision</th>\n",
              "      <th>Recall</th>\n",
              "    </tr>\n",
              "  </thead>\n",
              "  <tbody>\n",
              "    <tr>\n",
              "      <td>1</td>\n",
              "      <td>0.215500</td>\n",
              "      <td>0.315436</td>\n",
              "      <td>0.920000</td>\n",
              "      <td>0.476562</td>\n",
              "      <td>0.701149</td>\n",
              "      <td>0.360947</td>\n",
              "    </tr>\n",
              "    <tr>\n",
              "      <td>2</td>\n",
              "      <td>0.080000</td>\n",
              "      <td>0.397128</td>\n",
              "      <td>0.924179</td>\n",
              "      <td>0.557491</td>\n",
              "      <td>0.677966</td>\n",
              "      <td>0.473373</td>\n",
              "    </tr>\n",
              "  </tbody>\n",
              "</table><p>"
            ],
            "text/plain": [
              "<IPython.core.display.HTML object>"
            ]
          },
          "metadata": {},
          "output_type": "display_data"
        },
        {
          "data": {
            "text/html": [
              "\n",
              "    <div>\n",
              "      \n",
              "      <progress value='105' max='105' style='width:300px; height:20px; vertical-align: middle;'></progress>\n",
              "      [105/105 00:07]\n",
              "    </div>\n",
              "    "
            ],
            "text/plain": [
              "<IPython.core.display.HTML object>"
            ]
          },
          "metadata": {},
          "output_type": "display_data"
        },
        {
          "name": "stdout",
          "output_type": "stream",
          "text": [
            "before clean\n",
            "Memory cleaned\n",
            "after clean\n",
            "Seed 50 - F1 Score: 0.5575\n",
            "Memory cleaned\n",
            "All random states have been reset with seed 51\n"
          ]
        },
        {
          "name": "stderr",
          "output_type": "stream",
          "text": [
            "Some weights of ModernBertForSequenceClassification were not initialized from the model checkpoint at answerdotai/ModernBERT-base and are newly initialized: ['classifier.bias', 'classifier.weight']\n",
            "You should probably TRAIN this model on a down-stream task to be able to use it for predictions and inference.\n"
          ]
        },
        {
          "name": "stdout",
          "output_type": "stream",
          "text": [
            "Training model with seed 51...\n"
          ]
        },
        {
          "data": {
            "text/html": [
              "\n",
              "    <div>\n",
              "      \n",
              "      <progress value='3350' max='3350' style='width:300px; height:20px; vertical-align: middle;'></progress>\n",
              "      [3350/3350 10:55, Epoch 2/2]\n",
              "    </div>\n",
              "    <table border=\"1\" class=\"dataframe\">\n",
              "  <thead>\n",
              " <tr style=\"text-align: left;\">\n",
              "      <th>Epoch</th>\n",
              "      <th>Training Loss</th>\n",
              "      <th>Validation Loss</th>\n",
              "      <th>Accuracy</th>\n",
              "      <th>F1</th>\n",
              "      <th>Precision</th>\n",
              "      <th>Recall</th>\n",
              "    </tr>\n",
              "  </thead>\n",
              "  <tbody>\n",
              "    <tr>\n",
              "      <td>1</td>\n",
              "      <td>0.217100</td>\n",
              "      <td>0.239147</td>\n",
              "      <td>0.924776</td>\n",
              "      <td>0.522727</td>\n",
              "      <td>0.726316</td>\n",
              "      <td>0.408284</td>\n",
              "    </tr>\n",
              "    <tr>\n",
              "      <td>2</td>\n",
              "      <td>0.077500</td>\n",
              "      <td>0.360248</td>\n",
              "      <td>0.919403</td>\n",
              "      <td>0.529617</td>\n",
              "      <td>0.644068</td>\n",
              "      <td>0.449704</td>\n",
              "    </tr>\n",
              "  </tbody>\n",
              "</table><p>"
            ],
            "text/plain": [
              "<IPython.core.display.HTML object>"
            ]
          },
          "metadata": {},
          "output_type": "display_data"
        },
        {
          "data": {
            "text/html": [
              "\n",
              "    <div>\n",
              "      \n",
              "      <progress value='105' max='105' style='width:300px; height:20px; vertical-align: middle;'></progress>\n",
              "      [105/105 00:07]\n",
              "    </div>\n",
              "    "
            ],
            "text/plain": [
              "<IPython.core.display.HTML object>"
            ]
          },
          "metadata": {},
          "output_type": "display_data"
        },
        {
          "name": "stdout",
          "output_type": "stream",
          "text": [
            "before clean\n",
            "Memory cleaned\n",
            "after clean\n",
            "Seed 51 - F1 Score: 0.5296\n",
            "Memory cleaned\n",
            "\n",
            "Top 3 models:\n",
            "1. Seed 42 - F1 Score: 0.5842\n",
            "2. Seed 43 - F1 Score: 0.5606\n",
            "3. Seed 50 - F1 Score: 0.5575\n",
            "\n",
            "Evaluating ensemble on test set...\n",
            "Getting predictions from model at ModernBERT_pcl_ft/seed_42/checkpoint-3350\n"
          ]
        },
        {
          "data": {
            "text/html": [],
            "text/plain": [
              "<IPython.core.display.HTML object>"
            ]
          },
          "metadata": {},
          "output_type": "display_data"
        },
        {
          "name": "stdout",
          "output_type": "stream",
          "text": [
            "Getting predictions from model at ModernBERT_pcl_ft/seed_43/checkpoint-3350\n"
          ]
        },
        {
          "data": {
            "text/html": [],
            "text/plain": [
              "<IPython.core.display.HTML object>"
            ]
          },
          "metadata": {},
          "output_type": "display_data"
        },
        {
          "name": "stdout",
          "output_type": "stream",
          "text": [
            "Getting predictions from model at ModernBERT_pcl_ft/seed_50/checkpoint-3350\n"
          ]
        },
        {
          "data": {
            "text/html": [],
            "text/plain": [
              "<IPython.core.display.HTML object>"
            ]
          },
          "metadata": {},
          "output_type": "display_data"
        },
        {
          "name": "stdout",
          "output_type": "stream",
          "text": [
            "Ensemble Test Results:\n",
            "Accuracy: 0.9250\n",
            "F1 Score: 0.5396\n",
            "Precision: 0.6479\n",
            "Recall: 0.4623\n",
            "\n",
            "Comparing with individual model performance:\n",
            "Getting predictions from model at ModernBERT_pcl_ft/seed_42/checkpoint-3350\n"
          ]
        },
        {
          "data": {
            "text/html": [],
            "text/plain": [
              "<IPython.core.display.HTML object>"
            ]
          },
          "metadata": {},
          "output_type": "display_data"
        },
        {
          "name": "stdout",
          "output_type": "stream",
          "text": [
            "Model 1 (Seed 42):\n",
            "  Accuracy: 0.9236\n",
            "  F1 Score: 0.5556\n",
            "  Precision: 0.6211\n",
            "  Recall: 0.5025\n",
            "Getting predictions from model at ModernBERT_pcl_ft/seed_43/checkpoint-3350\n"
          ]
        },
        {
          "data": {
            "text/html": [],
            "text/plain": [
              "<IPython.core.display.HTML object>"
            ]
          },
          "metadata": {},
          "output_type": "display_data"
        },
        {
          "name": "stdout",
          "output_type": "stream",
          "text": [
            "Model 2 (Seed 43):\n",
            "  Accuracy: 0.9216\n",
            "  F1 Score: 0.5119\n",
            "  Precision: 0.6277\n",
            "  Recall: 0.4322\n",
            "Getting predictions from model at ModernBERT_pcl_ft/seed_50/checkpoint-3350\n"
          ]
        },
        {
          "data": {
            "text/html": [],
            "text/plain": [
              "<IPython.core.display.HTML object>"
            ]
          },
          "metadata": {},
          "output_type": "display_data"
        },
        {
          "name": "stdout",
          "output_type": "stream",
          "text": [
            "Model 3 (Seed 50):\n",
            "  Accuracy: 0.9231\n",
            "  F1 Score: 0.5165\n",
            "  Precision: 0.6418\n",
            "  Recall: 0.4322\n"
          ]
        }
      ],
      "source": [
        "# Define your model name\n",
        "model_name = \"answerdotai/ModernBERT-base\"  # or your preferred model\n",
        "clean_memory()\n",
        "# Train the ensemble\n",
        "top_model_paths, ensemble_preds, ensemble_probs, predict_fn = train_ensemble(\n",
        "    model_name=model_name,\n",
        "    train_dataset=train_dataset,\n",
        "    val_dataset=val_dataset,\n",
        "    test_dataset=test_dataset,\n",
        "    num_models=10,\n",
        ")"
      ]
    },
    {
      "cell_type": "code",
      "execution_count": 12,
      "metadata": {
        "colab": {
          "base_uri": "https://localhost:8080/",
          "height": 1000
        },
        "id": "R3HRdZVaYSw6",
        "outputId": "6a22a0c6-a82a-408d-c792-214a6eee1bbe"
      },
      "outputs": [
        {
          "name": "stdout",
          "output_type": "stream",
          "text": [
            "  adding: content/ModernBERT_pcl_ft/ (stored 0%)\n",
            "  adding: content/ModernBERT_pcl_ft/seed_42/ (stored 0%)\n",
            "  adding: content/ModernBERT_pcl_ft/seed_42/checkpoint-1675/ (stored 0%)\n",
            "  adding: content/ModernBERT_pcl_ft/seed_42/checkpoint-1675/optimizer.pt (deflated 19%)\n",
            "  adding: content/ModernBERT_pcl_ft/seed_42/checkpoint-1675/training_args.bin (deflated 52%)\n",
            "  adding: content/ModernBERT_pcl_ft/seed_42/checkpoint-1675/tokenizer.json (deflated 82%)\n",
            "  adding: content/ModernBERT_pcl_ft/seed_42/checkpoint-1675/special_tokens_map.json (deflated 79%)\n",
            "  adding: content/ModernBERT_pcl_ft/seed_42/checkpoint-1675/config.json (deflated 58%)\n",
            "  adding: content/ModernBERT_pcl_ft/seed_42/checkpoint-1675/tokenizer_config.json (deflated 95%)\n",
            "  adding: content/ModernBERT_pcl_ft/seed_42/checkpoint-1675/trainer_state.json (deflated 56%)\n",
            "  adding: content/ModernBERT_pcl_ft/seed_42/checkpoint-1675/rng_state.pth (deflated 25%)\n",
            "  adding: content/ModernBERT_pcl_ft/seed_42/checkpoint-1675/scheduler.pt (deflated 56%)\n",
            "  adding: content/ModernBERT_pcl_ft/seed_42/checkpoint-1675/model.safetensors (deflated 7%)\n",
            "  adding: content/ModernBERT_pcl_ft/seed_42/checkpoint-3350/ (stored 0%)\n",
            "  adding: content/ModernBERT_pcl_ft/seed_42/checkpoint-3350/optimizer.pt (deflated 19%)\n",
            "  adding: content/ModernBERT_pcl_ft/seed_42/checkpoint-3350/training_args.bin (deflated 52%)\n",
            "  adding: content/ModernBERT_pcl_ft/seed_42/checkpoint-3350/tokenizer.json (deflated 82%)\n",
            "  adding: content/ModernBERT_pcl_ft/seed_42/checkpoint-3350/special_tokens_map.json (deflated 79%)\n",
            "  adding: content/ModernBERT_pcl_ft/seed_42/checkpoint-3350/config.json (deflated 58%)\n",
            "  adding: content/ModernBERT_pcl_ft/seed_42/checkpoint-3350/tokenizer_config.json (deflated 95%)\n",
            "  adding: content/ModernBERT_pcl_ft/seed_42/checkpoint-3350/trainer_state.json (deflated 62%)\n",
            "  adding: content/ModernBERT_pcl_ft/seed_42/checkpoint-3350/rng_state.pth (deflated 25%)\n",
            "  adding: content/ModernBERT_pcl_ft/seed_42/checkpoint-3350/scheduler.pt (deflated 56%)\n",
            "  adding: content/ModernBERT_pcl_ft/seed_42/checkpoint-3350/model.safetensors (deflated 7%)\n",
            "  adding: content/ModernBERT_pcl_ft/seed_42/runs/ (stored 0%)\n",
            "  adding: content/ModernBERT_pcl_ft/seed_42/runs/Mar01_21-42-13_b75ea6c488dc/ (stored 0%)\n",
            "  adding: content/ModernBERT_pcl_ft/seed_42/runs/Mar01_21-42-13_b75ea6c488dc/events.out.tfevents.1740865334.b75ea6c488dc.6938.0 (deflated 60%)\n",
            "  adding: content/ModernBERT_pcl_ft/seed_42/runs/Mar01_22-05-02_b75ea6c488dc/ (stored 0%)\n",
            "  adding: content/ModernBERT_pcl_ft/seed_42/runs/Mar01_22-05-02_b75ea6c488dc/events.out.tfevents.1740867364.b75ea6c488dc.12670.1 (deflated 31%)\n",
            "  adding: content/ModernBERT_pcl_ft/seed_42/runs/Mar01_22-05-02_b75ea6c488dc/events.out.tfevents.1740866703.b75ea6c488dc.12670.0 (deflated 60%)\n",
            "  adding: content/ModernBERT_pcl_ft/seed_42/runs/Mar01_21-29-02_b75ea6c488dc/ (stored 0%)\n",
            "  adding: content/ModernBERT_pcl_ft/seed_42/runs/Mar01_21-29-02_b75ea6c488dc/events.out.tfevents.1740864543.b75ea6c488dc.2564.0 (deflated 60%)\n",
            "  adding: content/ModernBERT_pcl_ft/seed_47/ (stored 0%)\n",
            "  adding: content/ModernBERT_pcl_ft/seed_47/checkpoint-1675/ (stored 0%)\n",
            "  adding: content/ModernBERT_pcl_ft/seed_47/checkpoint-1675/optimizer.pt (deflated 19%)\n",
            "  adding: content/ModernBERT_pcl_ft/seed_47/checkpoint-1675/training_args.bin (deflated 52%)\n",
            "  adding: content/ModernBERT_pcl_ft/seed_47/checkpoint-1675/tokenizer.json (deflated 82%)\n",
            "  adding: content/ModernBERT_pcl_ft/seed_47/checkpoint-1675/special_tokens_map.json (deflated 79%)\n",
            "  adding: content/ModernBERT_pcl_ft/seed_47/checkpoint-1675/config.json (deflated 58%)\n",
            "  adding: content/ModernBERT_pcl_ft/seed_47/checkpoint-1675/tokenizer_config.json (deflated 95%)\n",
            "  adding: content/ModernBERT_pcl_ft/seed_47/checkpoint-1675/trainer_state.json (deflated 56%)\n",
            "  adding: content/ModernBERT_pcl_ft/seed_47/checkpoint-1675/rng_state.pth (deflated 25%)\n",
            "  adding: content/ModernBERT_pcl_ft/seed_47/checkpoint-1675/scheduler.pt (deflated 56%)\n",
            "  adding: content/ModernBERT_pcl_ft/seed_47/checkpoint-1675/model.safetensors (deflated 7%)\n",
            "  adding: content/ModernBERT_pcl_ft/seed_47/checkpoint-3350/ (stored 0%)\n",
            "  adding: content/ModernBERT_pcl_ft/seed_47/checkpoint-3350/optimizer.pt (deflated 19%)\n",
            "  adding: content/ModernBERT_pcl_ft/seed_47/checkpoint-3350/training_args.bin (deflated 52%)\n",
            "  adding: content/ModernBERT_pcl_ft/seed_47/checkpoint-3350/tokenizer.json (deflated 82%)\n",
            "  adding: content/ModernBERT_pcl_ft/seed_47/checkpoint-3350/special_tokens_map.json (deflated 79%)\n",
            "  adding: content/ModernBERT_pcl_ft/seed_47/checkpoint-3350/config.json (deflated 58%)\n",
            "  adding: content/ModernBERT_pcl_ft/seed_47/checkpoint-3350/tokenizer_config.json (deflated 95%)\n",
            "  adding: content/ModernBERT_pcl_ft/seed_47/checkpoint-3350/trainer_state.json (deflated 62%)\n",
            "  adding: content/ModernBERT_pcl_ft/seed_47/checkpoint-3350/rng_state.pth (deflated 25%)\n",
            "  adding: content/ModernBERT_pcl_ft/seed_47/checkpoint-3350/scheduler.pt (deflated 56%)\n",
            "  adding: content/ModernBERT_pcl_ft/seed_47/checkpoint-3350/model.safetensors (deflated 7%)\n",
            "  adding: content/ModernBERT_pcl_ft/seed_47/runs/ (stored 0%)\n",
            "  adding: content/ModernBERT_pcl_ft/seed_47/runs/Mar01_23-00-24_b75ea6c488dc/ (stored 0%)\n",
            "  adding: content/ModernBERT_pcl_ft/seed_47/runs/Mar01_23-00-24_b75ea6c488dc/events.out.tfevents.1740870025.b75ea6c488dc.12670.10 (deflated 60%)\n",
            "  adding: content/ModernBERT_pcl_ft/seed_47/runs/Mar01_23-00-24_b75ea6c488dc/events.out.tfevents.1740870687.b75ea6c488dc.12670.11 (deflated 32%)\n",
            "  adding: content/ModernBERT_pcl_ft/seed_44/ (stored 0%)\n",
            "  adding: content/ModernBERT_pcl_ft/seed_44/checkpoint-1675/ (stored 0%)\n",
            "  adding: content/ModernBERT_pcl_ft/seed_44/checkpoint-1675/optimizer.pt (deflated 19%)\n",
            "  adding: content/ModernBERT_pcl_ft/seed_44/checkpoint-1675/training_args.bin (deflated 51%)\n",
            "  adding: content/ModernBERT_pcl_ft/seed_44/checkpoint-1675/tokenizer.json (deflated 82%)\n",
            "  adding: content/ModernBERT_pcl_ft/seed_44/checkpoint-1675/special_tokens_map.json (deflated 79%)\n",
            "  adding: content/ModernBERT_pcl_ft/seed_44/checkpoint-1675/config.json (deflated 58%)\n",
            "  adding: content/ModernBERT_pcl_ft/seed_44/checkpoint-1675/tokenizer_config.json (deflated 95%)\n",
            "  adding: content/ModernBERT_pcl_ft/seed_44/checkpoint-1675/trainer_state.json (deflated 56%)\n",
            "  adding: content/ModernBERT_pcl_ft/seed_44/checkpoint-1675/rng_state.pth (deflated 25%)\n",
            "  adding: content/ModernBERT_pcl_ft/seed_44/checkpoint-1675/scheduler.pt (deflated 56%)\n",
            "  adding: content/ModernBERT_pcl_ft/seed_44/checkpoint-1675/model.safetensors (deflated 7%)\n",
            "  adding: content/ModernBERT_pcl_ft/seed_44/checkpoint-3350/ (stored 0%)\n",
            "  adding: content/ModernBERT_pcl_ft/seed_44/checkpoint-3350/optimizer.pt (deflated 19%)\n",
            "  adding: content/ModernBERT_pcl_ft/seed_44/checkpoint-3350/training_args.bin (deflated 51%)\n",
            "  adding: content/ModernBERT_pcl_ft/seed_44/checkpoint-3350/tokenizer.json (deflated 82%)\n",
            "  adding: content/ModernBERT_pcl_ft/seed_44/checkpoint-3350/special_tokens_map.json (deflated 79%)\n",
            "  adding: content/ModernBERT_pcl_ft/seed_44/checkpoint-3350/config.json (deflated 58%)\n",
            "  adding: content/ModernBERT_pcl_ft/seed_44/checkpoint-3350/tokenizer_config.json (deflated 95%)\n",
            "  adding: content/ModernBERT_pcl_ft/seed_44/checkpoint-3350/trainer_state.json (deflated 62%)\n",
            "  adding: content/ModernBERT_pcl_ft/seed_44/checkpoint-3350/rng_state.pth (deflated 25%)\n",
            "  adding: content/ModernBERT_pcl_ft/seed_44/checkpoint-3350/scheduler.pt (deflated 56%)\n",
            "  adding: content/ModernBERT_pcl_ft/seed_44/checkpoint-3350/model.safetensors (deflated 7%)\n",
            "  adding: content/ModernBERT_pcl_ft/seed_44/runs/ (stored 0%)\n",
            "  adding: content/ModernBERT_pcl_ft/seed_44/runs/Mar01_22-27-11_b75ea6c488dc/ (stored 0%)\n",
            "  adding: content/ModernBERT_pcl_ft/seed_44/runs/Mar01_22-27-11_b75ea6c488dc/events.out.tfevents.1740868032.b75ea6c488dc.12670.4 (deflated 60%)\n",
            "  adding: content/ModernBERT_pcl_ft/seed_44/runs/Mar01_22-27-11_b75ea6c488dc/events.out.tfevents.1740868690.b75ea6c488dc.12670.5 (deflated 31%)\n",
            "  adding: content/ModernBERT_pcl_ft/seed_50/ (stored 0%)\n",
            "  adding: content/ModernBERT_pcl_ft/seed_50/checkpoint-1675/ (stored 0%)\n",
            "  adding: content/ModernBERT_pcl_ft/seed_50/checkpoint-1675/optimizer.pt (deflated 19%)\n",
            "  adding: content/ModernBERT_pcl_ft/seed_50/checkpoint-1675/training_args.bin (deflated 51%)\n",
            "  adding: content/ModernBERT_pcl_ft/seed_50/checkpoint-1675/tokenizer.json (deflated 82%)\n",
            "  adding: content/ModernBERT_pcl_ft/seed_50/checkpoint-1675/special_tokens_map.json (deflated 79%)\n",
            "  adding: content/ModernBERT_pcl_ft/seed_50/checkpoint-1675/config.json (deflated 58%)\n",
            "  adding: content/ModernBERT_pcl_ft/seed_50/checkpoint-1675/tokenizer_config.json (deflated 95%)\n",
            "  adding: content/ModernBERT_pcl_ft/seed_50/checkpoint-1675/trainer_state.json (deflated 56%)\n",
            "  adding: content/ModernBERT_pcl_ft/seed_50/checkpoint-1675/rng_state.pth (deflated 25%)\n",
            "  adding: content/ModernBERT_pcl_ft/seed_50/checkpoint-1675/scheduler.pt (deflated 56%)\n",
            "  adding: content/ModernBERT_pcl_ft/seed_50/checkpoint-1675/model.safetensors (deflated 7%)\n",
            "  adding: content/ModernBERT_pcl_ft/seed_50/checkpoint-3350/ (stored 0%)\n",
            "  adding: content/ModernBERT_pcl_ft/seed_50/checkpoint-3350/optimizer.pt (deflated 19%)\n",
            "  adding: content/ModernBERT_pcl_ft/seed_50/checkpoint-3350/training_args.bin (deflated 51%)\n",
            "  adding: content/ModernBERT_pcl_ft/seed_50/checkpoint-3350/tokenizer.json (deflated 82%)\n",
            "  adding: content/ModernBERT_pcl_ft/seed_50/checkpoint-3350/special_tokens_map.json (deflated 79%)\n",
            "  adding: content/ModernBERT_pcl_ft/seed_50/checkpoint-3350/config.json (deflated 58%)\n",
            "  adding: content/ModernBERT_pcl_ft/seed_50/checkpoint-3350/tokenizer_config.json (deflated 95%)\n",
            "  adding: content/ModernBERT_pcl_ft/seed_50/checkpoint-3350/trainer_state.json (deflated 62%)\n",
            "  adding: content/ModernBERT_pcl_ft/seed_50/checkpoint-3350/rng_state.pth (deflated 25%)\n",
            "  adding: content/ModernBERT_pcl_ft/seed_50/checkpoint-3350/scheduler.pt (deflated 56%)\n",
            "  adding: content/ModernBERT_pcl_ft/seed_50/checkpoint-3350/model.safetensors (deflated 7%)\n",
            "  adding: content/ModernBERT_pcl_ft/seed_50/runs/ (stored 0%)\n",
            "  adding: content/ModernBERT_pcl_ft/seed_50/runs/Mar01_23-33-46_b75ea6c488dc/ (stored 0%)\n",
            "  adding: content/ModernBERT_pcl_ft/seed_50/runs/Mar01_23-33-46_b75ea6c488dc/events.out.tfevents.1740872686.b75ea6c488dc.12670.17 (deflated 32%)\n",
            "  adding: content/ModernBERT_pcl_ft/seed_50/runs/Mar01_23-33-46_b75ea6c488dc/events.out.tfevents.1740872027.b75ea6c488dc.12670.16 (deflated 60%)\n",
            "  adding: content/ModernBERT_pcl_ft/seed_43/ (stored 0%)\n",
            "  adding: content/ModernBERT_pcl_ft/seed_43/checkpoint-1675/ (stored 0%)\n",
            "  adding: content/ModernBERT_pcl_ft/seed_43/checkpoint-1675/optimizer.pt (deflated 19%)\n",
            "  adding: content/ModernBERT_pcl_ft/seed_43/checkpoint-1675/training_args.bin (deflated 52%)\n",
            "  adding: content/ModernBERT_pcl_ft/seed_43/checkpoint-1675/tokenizer.json (deflated 82%)\n",
            "  adding: content/ModernBERT_pcl_ft/seed_43/checkpoint-1675/special_tokens_map.json (deflated 79%)\n",
            "  adding: content/ModernBERT_pcl_ft/seed_43/checkpoint-1675/config.json (deflated 58%)\n",
            "  adding: content/ModernBERT_pcl_ft/seed_43/checkpoint-1675/tokenizer_config.json (deflated 95%)\n",
            "  adding: content/ModernBERT_pcl_ft/seed_43/checkpoint-1675/trainer_state.json (deflated 57%)\n",
            "  adding: content/ModernBERT_pcl_ft/seed_43/checkpoint-1675/rng_state.pth (deflated 25%)\n",
            "  adding: content/ModernBERT_pcl_ft/seed_43/checkpoint-1675/scheduler.pt (deflated 56%)\n",
            "  adding: content/ModernBERT_pcl_ft/seed_43/checkpoint-1675/model.safetensors (deflated 7%)\n",
            "  adding: content/ModernBERT_pcl_ft/seed_43/checkpoint-3350/ (stored 0%)\n",
            "  adding: content/ModernBERT_pcl_ft/seed_43/checkpoint-3350/optimizer.pt (deflated 19%)\n",
            "  adding: content/ModernBERT_pcl_ft/seed_43/checkpoint-3350/training_args.bin (deflated 52%)\n",
            "  adding: content/ModernBERT_pcl_ft/seed_43/checkpoint-3350/tokenizer.json (deflated 82%)\n",
            "  adding: content/ModernBERT_pcl_ft/seed_43/checkpoint-3350/special_tokens_map.json (deflated 79%)\n",
            "  adding: content/ModernBERT_pcl_ft/seed_43/checkpoint-3350/config.json (deflated 58%)\n",
            "  adding: content/ModernBERT_pcl_ft/seed_43/checkpoint-3350/tokenizer_config.json (deflated 95%)\n",
            "  adding: content/ModernBERT_pcl_ft/seed_43/checkpoint-3350/trainer_state.json (deflated 62%)\n",
            "  adding: content/ModernBERT_pcl_ft/seed_43/checkpoint-3350/rng_state.pth (deflated 25%)\n",
            "  adding: content/ModernBERT_pcl_ft/seed_43/checkpoint-3350/scheduler.pt (deflated 56%)\n",
            "  adding: content/ModernBERT_pcl_ft/seed_43/checkpoint-3350/model.safetensors (deflated 7%)\n",
            "  adding: content/ModernBERT_pcl_ft/seed_43/runs/ (stored 0%)\n",
            "  adding: content/ModernBERT_pcl_ft/seed_43/runs/Mar01_22-16-08_b75ea6c488dc/ (stored 0%)\n",
            "  adding: content/ModernBERT_pcl_ft/seed_43/runs/Mar01_22-16-08_b75ea6c488dc/events.out.tfevents.1740867369.b75ea6c488dc.12670.2 (deflated 60%)\n",
            "  adding: content/ModernBERT_pcl_ft/seed_43/runs/Mar01_22-16-08_b75ea6c488dc/events.out.tfevents.1740868027.b75ea6c488dc.12670.3 (deflated 31%)\n",
            "  adding: content/ModernBERT_pcl_ft/ensemble_models.csv (deflated 45%)\n",
            "  adding: content/ModernBERT_pcl_ft/seed_49/ (stored 0%)\n",
            "  adding: content/ModernBERT_pcl_ft/seed_49/checkpoint-1675/ (stored 0%)\n",
            "  adding: content/ModernBERT_pcl_ft/seed_49/checkpoint-1675/optimizer.pt (deflated 19%)\n",
            "  adding: content/ModernBERT_pcl_ft/seed_49/checkpoint-1675/training_args.bin (deflated 52%)\n",
            "  adding: content/ModernBERT_pcl_ft/seed_49/checkpoint-1675/tokenizer.json (deflated 82%)\n",
            "  adding: content/ModernBERT_pcl_ft/seed_49/checkpoint-1675/special_tokens_map.json (deflated 79%)\n",
            "  adding: content/ModernBERT_pcl_ft/seed_49/checkpoint-1675/config.json (deflated 58%)\n",
            "  adding: content/ModernBERT_pcl_ft/seed_49/checkpoint-1675/tokenizer_config.json (deflated 95%)\n",
            "  adding: content/ModernBERT_pcl_ft/seed_49/checkpoint-1675/trainer_state.json (deflated 56%)\n",
            "  adding: content/ModernBERT_pcl_ft/seed_49/checkpoint-1675/rng_state.pth (deflated 25%)\n",
            "  adding: content/ModernBERT_pcl_ft/seed_49/checkpoint-1675/scheduler.pt (deflated 56%)\n",
            "  adding: content/ModernBERT_pcl_ft/seed_49/checkpoint-1675/model.safetensors (deflated 7%)\n",
            "  adding: content/ModernBERT_pcl_ft/seed_49/checkpoint-3350/ (stored 0%)\n",
            "  adding: content/ModernBERT_pcl_ft/seed_49/checkpoint-3350/optimizer.pt (deflated 19%)\n",
            "  adding: content/ModernBERT_pcl_ft/seed_49/checkpoint-3350/training_args.bin (deflated 52%)\n",
            "  adding: content/ModernBERT_pcl_ft/seed_49/checkpoint-3350/tokenizer.json (deflated 82%)\n",
            "  adding: content/ModernBERT_pcl_ft/seed_49/checkpoint-3350/special_tokens_map.json (deflated 79%)\n",
            "  adding: content/ModernBERT_pcl_ft/seed_49/checkpoint-3350/config.json (deflated 58%)\n",
            "  adding: content/ModernBERT_pcl_ft/seed_49/checkpoint-3350/tokenizer_config.json (deflated 95%)\n",
            "  adding: content/ModernBERT_pcl_ft/seed_49/checkpoint-3350/trainer_state.json (deflated 62%)\n",
            "  adding: content/ModernBERT_pcl_ft/seed_49/checkpoint-3350/rng_state.pth (deflated 25%)\n",
            "  adding: content/ModernBERT_pcl_ft/seed_49/checkpoint-3350/scheduler.pt (deflated 56%)\n",
            "  adding: content/ModernBERT_pcl_ft/seed_49/checkpoint-3350/model.safetensors (deflated 7%)\n",
            "  adding: content/ModernBERT_pcl_ft/seed_49/runs/ (stored 0%)\n",
            "  adding: content/ModernBERT_pcl_ft/seed_49/runs/Mar01_23-22-42_b75ea6c488dc/ (stored 0%)\n",
            "  adding: content/ModernBERT_pcl_ft/seed_49/runs/Mar01_23-22-42_b75ea6c488dc/events.out.tfevents.1740871363.b75ea6c488dc.12670.14 (deflated 60%)\n",
            "  adding: content/ModernBERT_pcl_ft/seed_49/runs/Mar01_23-22-42_b75ea6c488dc/events.out.tfevents.1740872022.b75ea6c488dc.12670.15 (deflated 30%)\n",
            "  adding: content/ModernBERT_pcl_ft/seed_46/ (stored 0%)\n",
            "  adding: content/ModernBERT_pcl_ft/seed_46/checkpoint-1675/ (stored 0%)\n",
            "  adding: content/ModernBERT_pcl_ft/seed_46/checkpoint-1675/optimizer.pt (deflated 19%)\n",
            "  adding: content/ModernBERT_pcl_ft/seed_46/checkpoint-1675/training_args.bin (deflated 52%)\n",
            "  adding: content/ModernBERT_pcl_ft/seed_46/checkpoint-1675/tokenizer.json (deflated 82%)\n",
            "  adding: content/ModernBERT_pcl_ft/seed_46/checkpoint-1675/special_tokens_map.json (deflated 79%)\n",
            "  adding: content/ModernBERT_pcl_ft/seed_46/checkpoint-1675/config.json (deflated 58%)\n",
            "  adding: content/ModernBERT_pcl_ft/seed_46/checkpoint-1675/tokenizer_config.json (deflated 95%)\n",
            "  adding: content/ModernBERT_pcl_ft/seed_46/checkpoint-1675/trainer_state.json (deflated 56%)\n",
            "  adding: content/ModernBERT_pcl_ft/seed_46/checkpoint-1675/rng_state.pth (deflated 25%)\n",
            "  adding: content/ModernBERT_pcl_ft/seed_46/checkpoint-1675/scheduler.pt (deflated 56%)\n",
            "  adding: content/ModernBERT_pcl_ft/seed_46/checkpoint-1675/model.safetensors (deflated 7%)\n",
            "  adding: content/ModernBERT_pcl_ft/seed_46/checkpoint-3350/ (stored 0%)\n",
            "  adding: content/ModernBERT_pcl_ft/seed_46/checkpoint-3350/optimizer.pt (deflated 19%)\n",
            "  adding: content/ModernBERT_pcl_ft/seed_46/checkpoint-3350/training_args.bin (deflated 52%)\n",
            "  adding: content/ModernBERT_pcl_ft/seed_46/checkpoint-3350/tokenizer.json (deflated 82%)\n",
            "  adding: content/ModernBERT_pcl_ft/seed_46/checkpoint-3350/special_tokens_map.json (deflated 79%)\n",
            "  adding: content/ModernBERT_pcl_ft/seed_46/checkpoint-3350/config.json (deflated 58%)\n",
            "  adding: content/ModernBERT_pcl_ft/seed_46/checkpoint-3350/tokenizer_config.json (deflated 95%)\n",
            "  adding: content/ModernBERT_pcl_ft/seed_46/checkpoint-3350/trainer_state.json (deflated 63%)\n",
            "  adding: content/ModernBERT_pcl_ft/seed_46/checkpoint-3350/rng_state.pth (deflated 25%)\n",
            "  adding: content/ModernBERT_pcl_ft/seed_46/checkpoint-3350/scheduler.pt (deflated 56%)\n",
            "  adding: content/ModernBERT_pcl_ft/seed_46/checkpoint-3350/model.safetensors (deflated 7%)\n",
            "  adding: content/ModernBERT_pcl_ft/seed_46/runs/ (stored 0%)\n",
            "  adding: content/ModernBERT_pcl_ft/seed_46/runs/Mar01_22-49-17_b75ea6c488dc/ (stored 0%)\n",
            "  adding: content/ModernBERT_pcl_ft/seed_46/runs/Mar01_22-49-17_b75ea6c488dc/events.out.tfevents.1740869358.b75ea6c488dc.12670.8 (deflated 60%)\n",
            "  adding: content/ModernBERT_pcl_ft/seed_46/runs/Mar01_22-49-17_b75ea6c488dc/events.out.tfevents.1740870020.b75ea6c488dc.12670.9 (deflated 31%)\n",
            "  adding: content/ModernBERT_pcl_ft/seed_45/ (stored 0%)\n",
            "  adding: content/ModernBERT_pcl_ft/seed_45/checkpoint-1675/ (stored 0%)\n",
            "  adding: content/ModernBERT_pcl_ft/seed_45/checkpoint-1675/optimizer.pt (deflated 19%)\n",
            "  adding: content/ModernBERT_pcl_ft/seed_45/checkpoint-1675/training_args.bin (deflated 52%)\n",
            "  adding: content/ModernBERT_pcl_ft/seed_45/checkpoint-1675/tokenizer.json (deflated 82%)\n",
            "  adding: content/ModernBERT_pcl_ft/seed_45/checkpoint-1675/special_tokens_map.json (deflated 79%)\n",
            "  adding: content/ModernBERT_pcl_ft/seed_45/checkpoint-1675/config.json (deflated 58%)\n",
            "  adding: content/ModernBERT_pcl_ft/seed_45/checkpoint-1675/tokenizer_config.json (deflated 95%)\n",
            "  adding: content/ModernBERT_pcl_ft/seed_45/checkpoint-1675/trainer_state.json (deflated 56%)\n",
            "  adding: content/ModernBERT_pcl_ft/seed_45/checkpoint-1675/rng_state.pth (deflated 25%)\n",
            "  adding: content/ModernBERT_pcl_ft/seed_45/checkpoint-1675/scheduler.pt (deflated 56%)\n",
            "  adding: content/ModernBERT_pcl_ft/seed_45/checkpoint-1675/model.safetensors (deflated 7%)\n",
            "  adding: content/ModernBERT_pcl_ft/seed_45/checkpoint-3350/ (stored 0%)\n",
            "  adding: content/ModernBERT_pcl_ft/seed_45/checkpoint-3350/optimizer.pt (deflated 19%)\n",
            "  adding: content/ModernBERT_pcl_ft/seed_45/checkpoint-3350/training_args.bin (deflated 52%)\n",
            "  adding: content/ModernBERT_pcl_ft/seed_45/checkpoint-3350/tokenizer.json (deflated 82%)\n",
            "  adding: content/ModernBERT_pcl_ft/seed_45/checkpoint-3350/special_tokens_map.json (deflated 79%)\n",
            "  adding: content/ModernBERT_pcl_ft/seed_45/checkpoint-3350/config.json (deflated 58%)\n",
            "  adding: content/ModernBERT_pcl_ft/seed_45/checkpoint-3350/tokenizer_config.json (deflated 95%)\n",
            "  adding: content/ModernBERT_pcl_ft/seed_45/checkpoint-3350/trainer_state.json (deflated 62%)\n",
            "  adding: content/ModernBERT_pcl_ft/seed_45/checkpoint-3350/rng_state.pth (deflated 25%)\n",
            "  adding: content/ModernBERT_pcl_ft/seed_45/checkpoint-3350/scheduler.pt (deflated 56%)\n",
            "  adding: content/ModernBERT_pcl_ft/seed_45/checkpoint-3350/model.safetensors (deflated 7%)\n",
            "  adding: content/ModernBERT_pcl_ft/seed_45/runs/ (stored 0%)\n",
            "  adding: content/ModernBERT_pcl_ft/seed_45/runs/Mar01_22-38-14_b75ea6c488dc/ (stored 0%)\n",
            "  adding: content/ModernBERT_pcl_ft/seed_45/runs/Mar01_22-38-14_b75ea6c488dc/events.out.tfevents.1740868695.b75ea6c488dc.12670.6 (deflated 60%)\n",
            "  adding: content/ModernBERT_pcl_ft/seed_45/runs/Mar01_22-38-14_b75ea6c488dc/events.out.tfevents.1740869353.b75ea6c488dc.12670.7 (deflated 32%)\n",
            "  adding: content/ModernBERT_pcl_ft/seed_48/ (stored 0%)\n",
            "  adding: content/ModernBERT_pcl_ft/seed_48/checkpoint-1675/ (stored 0%)\n",
            "  adding: content/ModernBERT_pcl_ft/seed_48/checkpoint-1675/optimizer.pt (deflated 19%)\n",
            "  adding: content/ModernBERT_pcl_ft/seed_48/checkpoint-1675/training_args.bin (deflated 52%)\n",
            "  adding: content/ModernBERT_pcl_ft/seed_48/checkpoint-1675/tokenizer.json (deflated 82%)\n",
            "  adding: content/ModernBERT_pcl_ft/seed_48/checkpoint-1675/special_tokens_map.json (deflated 79%)\n",
            "  adding: content/ModernBERT_pcl_ft/seed_48/checkpoint-1675/config.json (deflated 58%)\n",
            "  adding: content/ModernBERT_pcl_ft/seed_48/checkpoint-1675/tokenizer_config.json (deflated 95%)\n",
            "  adding: content/ModernBERT_pcl_ft/seed_48/checkpoint-1675/trainer_state.json (deflated 56%)\n",
            "  adding: content/ModernBERT_pcl_ft/seed_48/checkpoint-1675/rng_state.pth (deflated 25%)\n",
            "  adding: content/ModernBERT_pcl_ft/seed_48/checkpoint-1675/scheduler.pt (deflated 56%)\n",
            "  adding: content/ModernBERT_pcl_ft/seed_48/checkpoint-1675/model.safetensors (deflated 7%)\n",
            "  adding: content/ModernBERT_pcl_ft/seed_48/checkpoint-3350/ (stored 0%)\n",
            "  adding: content/ModernBERT_pcl_ft/seed_48/checkpoint-3350/optimizer.pt (deflated 19%)\n",
            "  adding: content/ModernBERT_pcl_ft/seed_48/checkpoint-3350/training_args.bin (deflated 52%)\n",
            "  adding: content/ModernBERT_pcl_ft/seed_48/checkpoint-3350/tokenizer.json (deflated 82%)\n",
            "  adding: content/ModernBERT_pcl_ft/seed_48/checkpoint-3350/special_tokens_map.json (deflated 79%)\n",
            "  adding: content/ModernBERT_pcl_ft/seed_48/checkpoint-3350/config.json (deflated 58%)\n",
            "  adding: content/ModernBERT_pcl_ft/seed_48/checkpoint-3350/tokenizer_config.json (deflated 95%)\n",
            "  adding: content/ModernBERT_pcl_ft/seed_48/checkpoint-3350/trainer_state.json (deflated 63%)\n",
            "  adding: content/ModernBERT_pcl_ft/seed_48/checkpoint-3350/rng_state.pth (deflated 25%)\n",
            "  adding: content/ModernBERT_pcl_ft/seed_48/checkpoint-3350/scheduler.pt (deflated 56%)\n",
            "  adding: content/ModernBERT_pcl_ft/seed_48/checkpoint-3350/model.safetensors (deflated 7%)\n",
            "  adding: content/ModernBERT_pcl_ft/seed_48/runs/ (stored 0%)\n",
            "  adding: content/ModernBERT_pcl_ft/seed_48/runs/Mar01_23-11-31_b75ea6c488dc/ (stored 0%)\n",
            "  adding: content/ModernBERT_pcl_ft/seed_48/runs/Mar01_23-11-31_b75ea6c488dc/events.out.tfevents.1740870692.b75ea6c488dc.12670.12 (deflated 60%)\n",
            "  adding: content/ModernBERT_pcl_ft/seed_48/runs/Mar01_23-11-31_b75ea6c488dc/events.out.tfevents.1740871358.b75ea6c488dc.12670.13 (deflated 32%)\n",
            "  adding: content/ModernBERT_pcl_ft/seed_51/ (stored 0%)\n",
            "  adding: content/ModernBERT_pcl_ft/seed_51/checkpoint-1675/ (stored 0%)\n",
            "  adding: content/ModernBERT_pcl_ft/seed_51/checkpoint-1675/optimizer.pt (deflated 19%)\n",
            "  adding: content/ModernBERT_pcl_ft/seed_51/checkpoint-1675/training_args.bin (deflated 52%)\n",
            "  adding: content/ModernBERT_pcl_ft/seed_51/checkpoint-1675/tokenizer.json (deflated 82%)\n",
            "  adding: content/ModernBERT_pcl_ft/seed_51/checkpoint-1675/special_tokens_map.json (deflated 79%)\n",
            "  adding: content/ModernBERT_pcl_ft/seed_51/checkpoint-1675/config.json (deflated 58%)\n",
            "  adding: content/ModernBERT_pcl_ft/seed_51/checkpoint-1675/tokenizer_config.json (deflated 95%)\n",
            "  adding: content/ModernBERT_pcl_ft/seed_51/checkpoint-1675/trainer_state.json (deflated 57%)\n",
            "  adding: content/ModernBERT_pcl_ft/seed_51/checkpoint-1675/rng_state.pth (deflated 25%)\n",
            "  adding: content/ModernBERT_pcl_ft/seed_51/checkpoint-1675/scheduler.pt (deflated 56%)\n",
            "  adding: content/ModernBERT_pcl_ft/seed_51/checkpoint-1675/model.safetensors (deflated 7%)\n",
            "  adding: content/ModernBERT_pcl_ft/seed_51/checkpoint-3350/ (stored 0%)\n",
            "  adding: content/ModernBERT_pcl_ft/seed_51/checkpoint-3350/optimizer.pt (deflated 19%)\n",
            "  adding: content/ModernBERT_pcl_ft/seed_51/checkpoint-3350/training_args.bin (deflated 52%)\n",
            "  adding: content/ModernBERT_pcl_ft/seed_51/checkpoint-3350/tokenizer.json (deflated 82%)\n",
            "  adding: content/ModernBERT_pcl_ft/seed_51/checkpoint-3350/special_tokens_map.json (deflated 79%)\n",
            "  adding: content/ModernBERT_pcl_ft/seed_51/checkpoint-3350/config.json (deflated 58%)\n",
            "  adding: content/ModernBERT_pcl_ft/seed_51/checkpoint-3350/tokenizer_config.json (deflated 95%)\n",
            "  adding: content/ModernBERT_pcl_ft/seed_51/checkpoint-3350/trainer_state.json (deflated 62%)\n",
            "  adding: content/ModernBERT_pcl_ft/seed_51/checkpoint-3350/rng_state.pth (deflated 25%)\n",
            "  adding: content/ModernBERT_pcl_ft/seed_51/checkpoint-3350/scheduler.pt (deflated 56%)\n",
            "  adding: content/ModernBERT_pcl_ft/seed_51/checkpoint-3350/model.safetensors (deflated 7%)\n",
            "  adding: content/ModernBERT_pcl_ft/seed_51/runs/ (stored 0%)\n",
            "  adding: content/ModernBERT_pcl_ft/seed_51/runs/Mar01_23-44-50_b75ea6c488dc/ (stored 0%)\n",
            "  adding: content/ModernBERT_pcl_ft/seed_51/runs/Mar01_23-44-50_b75ea6c488dc/events.out.tfevents.1740873355.b75ea6c488dc.12670.19 (deflated 30%)\n",
            "  adding: content/ModernBERT_pcl_ft/seed_51/runs/Mar01_23-44-50_b75ea6c488dc/events.out.tfevents.1740872691.b75ea6c488dc.12670.18 (deflated 60%)\n"
          ]
        },
        {
          "data": {
            "application/javascript": "\n    async function download(id, filename, size) {\n      if (!google.colab.kernel.accessAllowed) {\n        return;\n      }\n      const div = document.createElement('div');\n      const label = document.createElement('label');\n      label.textContent = `Downloading \"${filename}\": `;\n      div.appendChild(label);\n      const progress = document.createElement('progress');\n      progress.max = size;\n      div.appendChild(progress);\n      document.body.appendChild(div);\n\n      const buffers = [];\n      let downloaded = 0;\n\n      const channel = await google.colab.kernel.comms.open(id);\n      // Send a message to notify the kernel that we're ready.\n      channel.send({})\n\n      for await (const message of channel.messages) {\n        // Send a message to notify the kernel that we're ready.\n        channel.send({})\n        if (message.buffers) {\n          for (const buffer of message.buffers) {\n            buffers.push(buffer);\n            downloaded += buffer.byteLength;\n            progress.value = downloaded;\n          }\n        }\n      }\n      const blob = new Blob(buffers, {type: 'application/binary'});\n      const a = document.createElement('a');\n      a.href = window.URL.createObjectURL(blob);\n      a.download = filename;\n      div.appendChild(a);\n      a.click();\n      div.remove();\n    }\n  ",
            "text/plain": [
              "<IPython.core.display.Javascript object>"
            ]
          },
          "metadata": {},
          "output_type": "display_data"
        },
        {
          "data": {
            "application/javascript": "download(\"download_89ca21d9-e9fd-4f8d-8874-1a491f932ace\", \"file.zip\", 30459977344)",
            "text/plain": [
              "<IPython.core.display.Javascript object>"
            ]
          },
          "metadata": {},
          "output_type": "display_data"
        }
      ],
      "source": [
        "!zip -r /content/file.zip /content/ModernBERT_pcl_ft\n",
        "from google.colab import files\n",
        "files.download(\"/content/file.zip\")"
      ]
    },
    {
      "cell_type": "markdown",
      "metadata": {
        "id": "bKS9Ma6aVLpT"
      },
      "source": [
        "## Inference"
      ]
    },
    {
      "cell_type": "code",
      "execution_count": 29,
      "metadata": {
        "colab": {
          "base_uri": "https://localhost:8080/",
          "height": 139
        },
        "id": "8_rmkulASRN4",
        "outputId": "a581c0b4-f7fc-4fac-8f97-0860abaf313b"
      },
      "outputs": [
        {
          "name": "stdout",
          "output_type": "stream",
          "text": [
            "Getting predictions from model at ModernBERT_pcl_ft/seed_42/checkpoint-3350\n"
          ]
        },
        {
          "data": {
            "text/html": [],
            "text/plain": [
              "<IPython.core.display.HTML object>"
            ]
          },
          "metadata": {},
          "output_type": "display_data"
        },
        {
          "name": "stdout",
          "output_type": "stream",
          "text": [
            "Getting predictions from model at ModernBERT_pcl_ft/seed_43/checkpoint-3350\n"
          ]
        },
        {
          "data": {
            "text/html": [],
            "text/plain": [
              "<IPython.core.display.HTML object>"
            ]
          },
          "metadata": {},
          "output_type": "display_data"
        },
        {
          "name": "stdout",
          "output_type": "stream",
          "text": [
            "Getting predictions from model at ModernBERT_pcl_ft/seed_50/checkpoint-3350\n"
          ]
        },
        {
          "data": {
            "text/html": [],
            "text/plain": [
              "<IPython.core.display.HTML object>"
            ]
          },
          "metadata": {},
          "output_type": "display_data"
        },
        {
          "name": "stdout",
          "output_type": "stream",
          "text": [
            "Getting predictions from model at ModernBERT_pcl_ft/seed_42/checkpoint-3350\n"
          ]
        },
        {
          "data": {
            "text/html": [],
            "text/plain": [
              "<IPython.core.display.HTML object>"
            ]
          },
          "metadata": {},
          "output_type": "display_data"
        },
        {
          "name": "stdout",
          "output_type": "stream",
          "text": [
            "Getting predictions from model at ModernBERT_pcl_ft/seed_43/checkpoint-3350\n"
          ]
        },
        {
          "data": {
            "text/html": [],
            "text/plain": [
              "<IPython.core.display.HTML object>"
            ]
          },
          "metadata": {},
          "output_type": "display_data"
        },
        {
          "name": "stdout",
          "output_type": "stream",
          "text": [
            "Getting predictions from model at ModernBERT_pcl_ft/seed_50/checkpoint-3350\n"
          ]
        },
        {
          "data": {
            "text/html": [],
            "text/plain": [
              "<IPython.core.display.HTML object>"
            ]
          },
          "metadata": {},
          "output_type": "display_data"
        },
        {
          "name": "stdout",
          "output_type": "stream",
          "text": [
            "0.6571428571428571 0.4623115577889447 0.5427728613569321\n"
          ]
        }
      ],
      "source": [
        "import torch\n",
        "from torch.utils.data import Dataset\n",
        "\n",
        "class PCLInferenceDataset(Dataset):\n",
        "    def __init__(self, dataframe, tokenizer):\n",
        "        \"\"\"\n",
        "        Dataset class for inference.\n",
        "\n",
        "        Args:\n",
        "            dataframe (pd.DataFrame): The input dataframe with a 'text' column.\n",
        "            tokenizer (transformers.PreTrainedTokenizer): Tokenizer for text processing.\n",
        "        \"\"\"\n",
        "        self.tokenizer = tokenizer\n",
        "        self.texts = dataframe['text'].tolist()  # Maintain order\n",
        "        self.ids = dataframe.index.tolist()  # Keep track of original indices (optional)\n",
        "\n",
        "    def __len__(self):\n",
        "        return len(self.texts)\n",
        "\n",
        "    def __getitem__(self, idx):\n",
        "        text = self.texts[idx]\n",
        "\n",
        "        encoding = self.tokenizer(\n",
        "            text,\n",
        "            truncation=True,\n",
        "            return_tensors='pt'\n",
        "        )\n",
        "\n",
        "        return {\n",
        "            'input_ids': encoding['input_ids'].squeeze(0),\n",
        "            'attention_mask': encoding['attention_mask'].squeeze(0),\n",
        "            'index': self.ids[idx]  # Return the original index to track order (optional)\n",
        "        }\n",
        "\n",
        "def ensemble_predict_soft(model_paths, test_dataset, tokenizer=None, weights=None):\n",
        "    all_probabilities = []\n",
        "\n",
        "    # If no weights are provided, use equal weights for each model\n",
        "    if weights is None:\n",
        "        weights = [1.0] * len(model_paths)\n",
        "    else:\n",
        "        assert len(weights) == len(model_paths), \"The number of weights must equal the number of models.\"\n",
        "\n",
        "    # Get probabilities from each model\n",
        "    for model_path in model_paths:\n",
        "        _, probs = predict_with_model(model_path, test_dataset, tokenizer)\n",
        "        all_probabilities.append(probs)\n",
        "\n",
        "    # Compute weighted average of the probabilities\n",
        "    weighted_probs = np.stack([w * probs for w, probs in zip(weights, all_probabilities)], axis=0)\n",
        "    avg_probs = np.sum(weighted_probs, axis=0) / np.sum(weights)\n",
        "\n",
        "    # Determine final predictions by thresholding the averaged probability at 0.5\n",
        "    final_preds = (avg_probs > 0.5).astype(int)\n",
        "\n",
        "    return final_preds, avg_probs\n",
        "\n",
        "\n",
        "test_inference_dataset = PCLInferenceDataset(test_df, tokenizer)\n",
        "official_test_inference_dataset = PCLInferenceDataset(official_test_df, tokenizer)\n",
        "# ensemble_predict(top_model_paths, val_dataset)\n",
        "val_preds, _ = ensemble_predict_soft(top_model_paths, test_inference_dataset)\n",
        "val_preds = [0 if p[0] else 1 for p in val_preds]\n",
        "test_preds, _ = ensemble_predict_soft(top_model_paths, official_test_inference_dataset)\n",
        "test_preds = [0 if p[0] else 1 for p in test_preds]\n",
        "true_val_labels = test_df['pcl_label'].tolist()\n",
        "precision, recall, f1, _ = precision_recall_fscore_support(true_val_labels, val_preds, average='binary')\n",
        "print(precision, recall, f1)\n",
        "\n"
      ]
    },
    {
      "cell_type": "code",
      "execution_count": 31,
      "metadata": {
        "id": "RzXNmocKcqnZ"
      },
      "outputs": [],
      "source": [
        "with open('dev.txt', 'w') as f:\n",
        "  for p in val_preds:\n",
        "    f.write(str(p) + '\\n')\n",
        "\n",
        "with open('test.txt', 'w') as f:\n",
        "  for p in test_preds:\n",
        "    f.write(str(p) + '\\n')"
      ]
    },
    {
      "cell_type": "markdown",
      "metadata": {
        "id": "NYCFG3Apfygt"
      },
      "source": [
        "## Model Analysis"
      ]
    },
    {
      "cell_type": "code",
      "execution_count": 49,
      "metadata": {
        "id": "93FbFGr6f0Bx"
      },
      "outputs": [],
      "source": [
        "import matplotlib.pyplot as plt\n",
        "\n",
        "def evaluate_ensemble(model_paths, dataset, true_labels, tokenizer=None, weights=None):\n",
        "  preds, _ = ensemble_predict_soft(model_paths, dataset)\n",
        "  preds = [0 if p[0] else 1 for p in preds]\n",
        "  precision, recall, f1, _ = precision_recall_fscore_support(true_labels, preds, average='binary')\n",
        "  return precision, recall, f1"
      ]
    },
    {
      "cell_type": "markdown",
      "metadata": {
        "id": "yHZvkfhWhA0P"
      },
      "source": [
        "### Level of PCL Analysis"
      ]
    },
    {
      "cell_type": "code",
      "execution_count": 48,
      "metadata": {
        "colab": {
          "base_uri": "https://localhost:8080/",
          "height": 191
        },
        "id": "l07PiIXjhFrP",
        "outputId": "db948b8d-744f-4616-f5e9-80aab0151af8"
      },
      "outputs": [
        {
          "name": "stdout",
          "output_type": "stream",
          "text": [
            "Getting predictions from model at ModernBERT_pcl_ft/seed_42/checkpoint-3350\n"
          ]
        },
        {
          "data": {
            "text/html": [],
            "text/plain": [
              "<IPython.core.display.HTML object>"
            ]
          },
          "metadata": {},
          "output_type": "display_data"
        },
        {
          "name": "stdout",
          "output_type": "stream",
          "text": [
            "Getting predictions from model at ModernBERT_pcl_ft/seed_43/checkpoint-3350\n"
          ]
        },
        {
          "data": {
            "text/html": [],
            "text/plain": [
              "<IPython.core.display.HTML object>"
            ]
          },
          "metadata": {},
          "output_type": "display_data"
        },
        {
          "name": "stdout",
          "output_type": "stream",
          "text": [
            "Getting predictions from model at ModernBERT_pcl_ft/seed_50/checkpoint-3350\n"
          ]
        },
        {
          "data": {
            "text/html": [],
            "text/plain": [
              "<IPython.core.display.HTML object>"
            ]
          },
          "metadata": {},
          "output_type": "display_data"
        },
        {
          "name": "stdout",
          "output_type": "stream",
          "text": [
            "Getting predictions from model at ModernBERT_pcl_ft/seed_42/checkpoint-3350\n"
          ]
        },
        {
          "data": {
            "text/html": [],
            "text/plain": [
              "<IPython.core.display.HTML object>"
            ]
          },
          "metadata": {},
          "output_type": "display_data"
        },
        {
          "name": "stdout",
          "output_type": "stream",
          "text": [
            "Getting predictions from model at ModernBERT_pcl_ft/seed_43/checkpoint-3350\n"
          ]
        },
        {
          "data": {
            "text/html": [],
            "text/plain": [
              "<IPython.core.display.HTML object>"
            ]
          },
          "metadata": {},
          "output_type": "display_data"
        },
        {
          "name": "stdout",
          "output_type": "stream",
          "text": [
            "Getting predictions from model at ModernBERT_pcl_ft/seed_50/checkpoint-3350\n"
          ]
        },
        {
          "data": {
            "text/html": [],
            "text/plain": [
              "<IPython.core.display.HTML object>"
            ]
          },
          "metadata": {},
          "output_type": "display_data"
        },
        {
          "name": "stdout",
          "output_type": "stream",
          "text": [
            "Getting predictions from model at ModernBERT_pcl_ft/seed_42/checkpoint-3350\n"
          ]
        },
        {
          "data": {
            "text/html": [],
            "text/plain": [
              "<IPython.core.display.HTML object>"
            ]
          },
          "metadata": {},
          "output_type": "display_data"
        },
        {
          "name": "stdout",
          "output_type": "stream",
          "text": [
            "Getting predictions from model at ModernBERT_pcl_ft/seed_43/checkpoint-3350\n"
          ]
        },
        {
          "data": {
            "text/html": [],
            "text/plain": [
              "<IPython.core.display.HTML object>"
            ]
          },
          "metadata": {},
          "output_type": "display_data"
        },
        {
          "name": "stdout",
          "output_type": "stream",
          "text": [
            "Getting predictions from model at ModernBERT_pcl_ft/seed_50/checkpoint-3350\n"
          ]
        },
        {
          "data": {
            "text/html": [],
            "text/plain": [
              "<IPython.core.display.HTML object>"
            ]
          },
          "metadata": {},
          "output_type": "display_data"
        },
        {
          "name": "stdout",
          "output_type": "stream",
          "text": [
            "[(1.0, 0.05555555555555555, 0.10526315789473684), (1.0, 0.449438202247191, 0.6201550387596899), (1.0, 0.5543478260869565, 0.7132867132867133)]\n"
          ]
        }
      ],
      "source": [
        "results = []\n",
        "for i in range(2, 5):\n",
        "  cur_df = test_df[test_df['label'] == i]\n",
        "  dataset = PCLInferenceDataset(cur_df, tokenizer=tokenizer)\n",
        "  labels = cur_df['pcl_label']\n",
        "  results.append(evaluate_ensemble(top_model_paths, dataset, labels))"
      ]
    },
    {
      "cell_type": "code",
      "execution_count": 56,
      "metadata": {
        "colab": {
          "base_uri": "https://localhost:8080/",
          "height": 607
        },
        "id": "AAGDtHfRnaS_",
        "outputId": "66d5597c-85e2-413d-b4f7-e0f5c389c093"
      },
      "outputs": [
        {
          "data": {
            "image/png": "[encoded data removed]",
            "text/plain": [
              "<Figure size 800x600 with 1 Axes>"
            ]
          },
          "metadata": {},
          "output_type": "display_data"
        }
      ],
      "source": [
        "# Define labels for the x-axis\n",
        "labels = ['Label 2', 'Label 3', 'Label 4']\n",
        "\n",
        "# Unpack metrics into separate lists for clarity\n",
        "precisions = [m[0] for m in results]\n",
        "recalls = [m[1] for m in results]\n",
        "f1_scores = [m[2] for m in results]\n",
        "\n",
        "# Set up positions and width for the bars\n",
        "x = np.arange(len(labels))\n",
        "width = 0.25\n",
        "\n",
        "# Create the plot\n",
        "fig, ax = plt.subplots(figsize=(8, 6))\n",
        "rects1 = ax.bar(x - width, precisions, width, label='Precision')\n",
        "rects2 = ax.bar(x, recalls, width, label='Recall')\n",
        "rects3 = ax.bar(x + width, f1_scores, width, label='F1 Score')\n",
        "\n",
        "# Add labels, title, and custom x-axis tick labels\n",
        "ax.set_ylabel('Scores')\n",
        "ax.set_title('Precision, Recall, and F1 Score by Label (Internal Dev Set)')\n",
        "ax.set_xticks(x)\n",
        "ax.set_xticklabels(labels)\n",
        "ax.legend()\n",
        "\n",
        "# Function to attach a text label above each bar displaying its height\n",
        "def autolabel(rects):\n",
        "    for rect in rects:\n",
        "        height = rect.get_height()\n",
        "        ax.annotate(f'{height:.2f}',\n",
        "                    xy=(rect.get_x() + rect.get_width() / 2, height),\n",
        "                    xytext=(0, 3),  # Offset text by 3 points above the bar\n",
        "                    textcoords=\"offset points\",\n",
        "                    ha='center', va='bottom')\n",
        "\n",
        "# Apply the autolabel function to each set of bars\n",
        "autolabel(rects1)\n",
        "autolabel(rects2)\n",
        "autolabel(rects3)\n",
        "\n",
        "# Display the plot\n",
        "plt.tight_layout()\n",
        "plt.show()"
      ]
    },
    {
      "cell_type": "markdown",
      "metadata": {
        "id": "cDRDb-fMooCJ"
      },
      "source": [
        "### Text length analysis"
      ]
    },
    {
      "cell_type": "code",
      "execution_count": 57,
      "metadata": {
        "colab": {
          "base_uri": "https://localhost:8080/",
          "height": 956
        },
        "id": "uoUu9v-XosVk",
        "outputId": "05230986-1f71-4fad-e054-f54f56c13ce3"
      },
      "outputs": [
        {
          "name": "stdout",
          "output_type": "stream",
          "text": [
            "Getting predictions from model at ModernBERT_pcl_ft/seed_42/checkpoint-3350\n"
          ]
        },
        {
          "data": {
            "text/html": [],
            "text/plain": [
              "<IPython.core.display.HTML object>"
            ]
          },
          "metadata": {},
          "output_type": "display_data"
        },
        {
          "name": "stdout",
          "output_type": "stream",
          "text": [
            "Getting predictions from model at ModernBERT_pcl_ft/seed_43/checkpoint-3350\n"
          ]
        },
        {
          "data": {
            "text/html": [],
            "text/plain": [
              "<IPython.core.display.HTML object>"
            ]
          },
          "metadata": {},
          "output_type": "display_data"
        },
        {
          "name": "stdout",
          "output_type": "stream",
          "text": [
            "Getting predictions from model at ModernBERT_pcl_ft/seed_50/checkpoint-3350\n"
          ]
        },
        {
          "data": {
            "text/html": [],
            "text/plain": [
              "<IPython.core.display.HTML object>"
            ]
          },
          "metadata": {},
          "output_type": "display_data"
        },
        {
          "name": "stdout",
          "output_type": "stream",
          "text": [
            "Getting predictions from model at ModernBERT_pcl_ft/seed_42/checkpoint-3350\n"
          ]
        },
        {
          "data": {
            "text/html": [],
            "text/plain": [
              "<IPython.core.display.HTML object>"
            ]
          },
          "metadata": {},
          "output_type": "display_data"
        },
        {
          "name": "stdout",
          "output_type": "stream",
          "text": [
            "Getting predictions from model at ModernBERT_pcl_ft/seed_43/checkpoint-3350\n"
          ]
        },
        {
          "data": {
            "text/html": [],
            "text/plain": [
              "<IPython.core.display.HTML object>"
            ]
          },
          "metadata": {},
          "output_type": "display_data"
        },
        {
          "name": "stdout",
          "output_type": "stream",
          "text": [
            "Getting predictions from model at ModernBERT_pcl_ft/seed_50/checkpoint-3350\n"
          ]
        },
        {
          "data": {
            "text/html": [],
            "text/plain": [
              "<IPython.core.display.HTML object>"
            ]
          },
          "metadata": {},
          "output_type": "display_data"
        },
        {
          "name": "stdout",
          "output_type": "stream",
          "text": [
            "Getting predictions from model at ModernBERT_pcl_ft/seed_42/checkpoint-3350\n"
          ]
        },
        {
          "data": {
            "text/html": [],
            "text/plain": [
              "<IPython.core.display.HTML object>"
            ]
          },
          "metadata": {},
          "output_type": "display_data"
        },
        {
          "name": "stdout",
          "output_type": "stream",
          "text": [
            "Getting predictions from model at ModernBERT_pcl_ft/seed_43/checkpoint-3350\n"
          ]
        },
        {
          "data": {
            "text/html": [],
            "text/plain": [
              "<IPython.core.display.HTML object>"
            ]
          },
          "metadata": {},
          "output_type": "display_data"
        },
        {
          "name": "stdout",
          "output_type": "stream",
          "text": [
            "Getting predictions from model at ModernBERT_pcl_ft/seed_50/checkpoint-3350\n"
          ]
        },
        {
          "data": {
            "text/html": [],
            "text/plain": [
              "<IPython.core.display.HTML object>"
            ]
          },
          "metadata": {},
          "output_type": "display_data"
        },
        {
          "name": "stdout",
          "output_type": "stream",
          "text": [
            "Getting predictions from model at ModernBERT_pcl_ft/seed_42/checkpoint-3350\n"
          ]
        },
        {
          "data": {
            "text/html": [],
            "text/plain": [
              "<IPython.core.display.HTML object>"
            ]
          },
          "metadata": {},
          "output_type": "display_data"
        },
        {
          "name": "stdout",
          "output_type": "stream",
          "text": [
            "Getting predictions from model at ModernBERT_pcl_ft/seed_43/checkpoint-3350\n"
          ]
        },
        {
          "data": {
            "text/html": [],
            "text/plain": [
              "<IPython.core.display.HTML object>"
            ]
          },
          "metadata": {},
          "output_type": "display_data"
        },
        {
          "name": "stdout",
          "output_type": "stream",
          "text": [
            "Getting predictions from model at ModernBERT_pcl_ft/seed_50/checkpoint-3350\n"
          ]
        },
        {
          "data": {
            "text/html": [],
            "text/plain": [
              "<IPython.core.display.HTML object>"
            ]
          },
          "metadata": {},
          "output_type": "display_data"
        },
        {
          "name": "stdout",
          "output_type": "stream",
          "text": [
            "Getting predictions from model at ModernBERT_pcl_ft/seed_42/checkpoint-3350\n"
          ]
        },
        {
          "data": {
            "text/html": [],
            "text/plain": [
              "<IPython.core.display.HTML object>"
            ]
          },
          "metadata": {},
          "output_type": "display_data"
        },
        {
          "name": "stdout",
          "output_type": "stream",
          "text": [
            "Getting predictions from model at ModernBERT_pcl_ft/seed_43/checkpoint-3350\n"
          ]
        },
        {
          "data": {
            "text/html": [],
            "text/plain": [
              "<IPython.core.display.HTML object>"
            ]
          },
          "metadata": {},
          "output_type": "display_data"
        },
        {
          "name": "stdout",
          "output_type": "stream",
          "text": [
            "Getting predictions from model at ModernBERT_pcl_ft/seed_50/checkpoint-3350\n"
          ]
        },
        {
          "data": {
            "text/html": [],
            "text/plain": [
              "<IPython.core.display.HTML object>"
            ]
          },
          "metadata": {},
          "output_type": "display_data"
        },
        {
          "name": "stdout",
          "output_type": "stream",
          "text": [
            "Getting predictions from model at ModernBERT_pcl_ft/seed_42/checkpoint-3350\n"
          ]
        },
        {
          "data": {
            "text/html": [],
            "text/plain": [
              "<IPython.core.display.HTML object>"
            ]
          },
          "metadata": {},
          "output_type": "display_data"
        },
        {
          "name": "stdout",
          "output_type": "stream",
          "text": [
            "Getting predictions from model at ModernBERT_pcl_ft/seed_43/checkpoint-3350\n"
          ]
        },
        {
          "data": {
            "text/html": [],
            "text/plain": [
              "<IPython.core.display.HTML object>"
            ]
          },
          "metadata": {},
          "output_type": "display_data"
        },
        {
          "name": "stdout",
          "output_type": "stream",
          "text": [
            "Getting predictions from model at ModernBERT_pcl_ft/seed_50/checkpoint-3350\n"
          ]
        },
        {
          "data": {
            "text/html": [],
            "text/plain": [
              "<IPython.core.display.HTML object>"
            ]
          },
          "metadata": {},
          "output_type": "display_data"
        },
        {
          "name": "stdout",
          "output_type": "stream",
          "text": [
            "Getting predictions from model at ModernBERT_pcl_ft/seed_42/checkpoint-3350\n"
          ]
        },
        {
          "data": {
            "text/html": [],
            "text/plain": [
              "<IPython.core.display.HTML object>"
            ]
          },
          "metadata": {},
          "output_type": "display_data"
        },
        {
          "name": "stdout",
          "output_type": "stream",
          "text": [
            "Getting predictions from model at ModernBERT_pcl_ft/seed_43/checkpoint-3350\n"
          ]
        },
        {
          "data": {
            "text/html": [],
            "text/plain": [
              "<IPython.core.display.HTML object>"
            ]
          },
          "metadata": {},
          "output_type": "display_data"
        },
        {
          "name": "stdout",
          "output_type": "stream",
          "text": [
            "Getting predictions from model at ModernBERT_pcl_ft/seed_50/checkpoint-3350\n"
          ]
        },
        {
          "data": {
            "text/html": [],
            "text/plain": [
              "<IPython.core.display.HTML object>"
            ]
          },
          "metadata": {},
          "output_type": "display_data"
        },
        {
          "name": "stdout",
          "output_type": "stream",
          "text": [
            "Getting predictions from model at ModernBERT_pcl_ft/seed_42/checkpoint-3350\n"
          ]
        },
        {
          "data": {
            "text/html": [],
            "text/plain": [
              "<IPython.core.display.HTML object>"
            ]
          },
          "metadata": {},
          "output_type": "display_data"
        },
        {
          "name": "stdout",
          "output_type": "stream",
          "text": [
            "Getting predictions from model at ModernBERT_pcl_ft/seed_43/checkpoint-3350\n"
          ]
        },
        {
          "data": {
            "text/html": [],
            "text/plain": [
              "<IPython.core.display.HTML object>"
            ]
          },
          "metadata": {},
          "output_type": "display_data"
        },
        {
          "name": "stdout",
          "output_type": "stream",
          "text": [
            "Getting predictions from model at ModernBERT_pcl_ft/seed_50/checkpoint-3350\n"
          ]
        },
        {
          "data": {
            "text/html": [],
            "text/plain": [
              "<IPython.core.display.HTML object>"
            ]
          },
          "metadata": {},
          "output_type": "display_data"
        },
        {
          "name": "stdout",
          "output_type": "stream",
          "text": [
            "Getting predictions from model at ModernBERT_pcl_ft/seed_42/checkpoint-3350\n"
          ]
        },
        {
          "data": {
            "text/html": [],
            "text/plain": [
              "<IPython.core.display.HTML object>"
            ]
          },
          "metadata": {},
          "output_type": "display_data"
        },
        {
          "name": "stdout",
          "output_type": "stream",
          "text": [
            "Getting predictions from model at ModernBERT_pcl_ft/seed_43/checkpoint-3350\n"
          ]
        },
        {
          "data": {
            "text/html": [],
            "text/plain": [
              "<IPython.core.display.HTML object>"
            ]
          },
          "metadata": {},
          "output_type": "display_data"
        },
        {
          "name": "stdout",
          "output_type": "stream",
          "text": [
            "Getting predictions from model at ModernBERT_pcl_ft/seed_50/checkpoint-3350\n"
          ]
        },
        {
          "data": {
            "text/html": [],
            "text/plain": [
              "<IPython.core.display.HTML object>"
            ]
          },
          "metadata": {},
          "output_type": "display_data"
        },
        {
          "data": {
            "image/png": "[encoded data removed]",
            "text/plain": [
              "<Figure size 800x500 with 1 Axes>"
            ]
          },
          "metadata": {},
          "output_type": "display_data"
        }
      ],
      "source": [
        "# Compute text lengths\n",
        "text_lengths = test_df['text'].str.len()\n",
        "\n",
        "# Remove outliers using the interquartile range (IQR) method\n",
        "Q1 = np.percentile(text_lengths, 25)\n",
        "Q3 = np.percentile(text_lengths, 75)\n",
        "IQR = Q3 - Q1\n",
        "lower_bound = Q1 - 1.5 * IQR\n",
        "upper_bound = Q3 + 1.5 * IQR\n",
        "filtered_df = test_df[(text_lengths >= lower_bound) & (text_lengths <= upper_bound)]\n",
        "\n",
        "# Compute text lengths after outlier removal\n",
        "filtered_text_lengths = filtered_df['text'].str.len()\n",
        "\n",
        "# Define bins for text length\n",
        "bins = np.linspace(filtered_text_lengths.min(), filtered_text_lengths.max(), num=10)\n",
        "bin_labels = np.digitize(filtered_text_lengths, bins)\n",
        "\n",
        "# Store F1 scores for each bin\n",
        "length_f1_scores = []\n",
        "bin_centers = []\n",
        "\n",
        "for i in range(1, len(bins)):\n",
        "    bin_df = filtered_df[(bin_labels == i)]\n",
        "    if bin_df.empty:\n",
        "        continue\n",
        "    dataset = PCLInferenceDataset(bin_df, tokenizer=tokenizer)\n",
        "    labels = bin_df['pcl_label']\n",
        "    _, _, f1 = evaluate_ensemble(top_model_paths, dataset, labels)\n",
        "    length_f1_scores.append(f1)\n",
        "    bin_centers.append((bins[i] + bins[i-1]) / 2)\n",
        "\n",
        "# Plot results\n",
        "plt.figure(figsize=(8, 5))\n",
        "plt.scatter(bin_centers, length_f1_scores, label='F1-score', color='blue')\n",
        "plt.xlabel('Text Length')\n",
        "plt.ylabel('F1-score')\n",
        "plt.title('Relationship between Text Length and Model Performance (Internal Dev Set)')\n",
        "plt.legend()\n",
        "plt.grid(True)\n",
        "plt.show()\n"
      ]
    },
    {
      "cell_type": "code",
      "execution_count": 59,
      "metadata": {
        "colab": {
          "base_uri": "https://localhost:8080/",
          "height": 1000
        },
        "id": "0rKw8zNwqiEj",
        "outputId": "9c21cc41-5aab-4bc0-e3c9-4a16e6b443fa"
      },
      "outputs": [
        {
          "name": "stdout",
          "output_type": "stream",
          "text": [
            "Getting predictions from model at ModernBERT_pcl_ft/seed_42/checkpoint-3350\n"
          ]
        },
        {
          "data": {
            "text/html": [],
            "text/plain": [
              "<IPython.core.display.HTML object>"
            ]
          },
          "metadata": {},
          "output_type": "display_data"
        },
        {
          "name": "stdout",
          "output_type": "stream",
          "text": [
            "Getting predictions from model at ModernBERT_pcl_ft/seed_43/checkpoint-3350\n"
          ]
        },
        {
          "data": {
            "text/html": [],
            "text/plain": [
              "<IPython.core.display.HTML object>"
            ]
          },
          "metadata": {},
          "output_type": "display_data"
        },
        {
          "name": "stdout",
          "output_type": "stream",
          "text": [
            "Getting predictions from model at ModernBERT_pcl_ft/seed_50/checkpoint-3350\n"
          ]
        },
        {
          "data": {
            "text/html": [],
            "text/plain": [
              "<IPython.core.display.HTML object>"
            ]
          },
          "metadata": {},
          "output_type": "display_data"
        },
        {
          "name": "stdout",
          "output_type": "stream",
          "text": [
            "Getting predictions from model at ModernBERT_pcl_ft/seed_42/checkpoint-3350\n"
          ]
        },
        {
          "data": {
            "text/html": [],
            "text/plain": [
              "<IPython.core.display.HTML object>"
            ]
          },
          "metadata": {},
          "output_type": "display_data"
        },
        {
          "name": "stdout",
          "output_type": "stream",
          "text": [
            "Getting predictions from model at ModernBERT_pcl_ft/seed_43/checkpoint-3350\n"
          ]
        },
        {
          "data": {
            "text/html": [],
            "text/plain": [
              "<IPython.core.display.HTML object>"
            ]
          },
          "metadata": {},
          "output_type": "display_data"
        },
        {
          "name": "stdout",
          "output_type": "stream",
          "text": [
            "Getting predictions from model at ModernBERT_pcl_ft/seed_50/checkpoint-3350\n"
          ]
        },
        {
          "data": {
            "text/html": [],
            "text/plain": [
              "<IPython.core.display.HTML object>"
            ]
          },
          "metadata": {},
          "output_type": "display_data"
        },
        {
          "name": "stdout",
          "output_type": "stream",
          "text": [
            "Getting predictions from model at ModernBERT_pcl_ft/seed_42/checkpoint-3350\n"
          ]
        },
        {
          "data": {
            "text/html": [],
            "text/plain": [
              "<IPython.core.display.HTML object>"
            ]
          },
          "metadata": {},
          "output_type": "display_data"
        },
        {
          "name": "stdout",
          "output_type": "stream",
          "text": [
            "Getting predictions from model at ModernBERT_pcl_ft/seed_43/checkpoint-3350\n"
          ]
        },
        {
          "data": {
            "text/html": [],
            "text/plain": [
              "<IPython.core.display.HTML object>"
            ]
          },
          "metadata": {},
          "output_type": "display_data"
        },
        {
          "name": "stdout",
          "output_type": "stream",
          "text": [
            "Getting predictions from model at ModernBERT_pcl_ft/seed_50/checkpoint-3350\n"
          ]
        },
        {
          "data": {
            "text/html": [],
            "text/plain": [
              "<IPython.core.display.HTML object>"
            ]
          },
          "metadata": {},
          "output_type": "display_data"
        },
        {
          "name": "stdout",
          "output_type": "stream",
          "text": [
            "Getting predictions from model at ModernBERT_pcl_ft/seed_42/checkpoint-3350\n"
          ]
        },
        {
          "data": {
            "text/html": [],
            "text/plain": [
              "<IPython.core.display.HTML object>"
            ]
          },
          "metadata": {},
          "output_type": "display_data"
        },
        {
          "name": "stdout",
          "output_type": "stream",
          "text": [
            "Getting predictions from model at ModernBERT_pcl_ft/seed_43/checkpoint-3350\n"
          ]
        },
        {
          "data": {
            "text/html": [],
            "text/plain": [
              "<IPython.core.display.HTML object>"
            ]
          },
          "metadata": {},
          "output_type": "display_data"
        },
        {
          "name": "stdout",
          "output_type": "stream",
          "text": [
            "Getting predictions from model at ModernBERT_pcl_ft/seed_50/checkpoint-3350\n"
          ]
        },
        {
          "data": {
            "text/html": [],
            "text/plain": [
              "<IPython.core.display.HTML object>"
            ]
          },
          "metadata": {},
          "output_type": "display_data"
        },
        {
          "name": "stdout",
          "output_type": "stream",
          "text": [
            "Getting predictions from model at ModernBERT_pcl_ft/seed_42/checkpoint-3350\n"
          ]
        },
        {
          "data": {
            "text/html": [],
            "text/plain": [
              "<IPython.core.display.HTML object>"
            ]
          },
          "metadata": {},
          "output_type": "display_data"
        },
        {
          "name": "stdout",
          "output_type": "stream",
          "text": [
            "Getting predictions from model at ModernBERT_pcl_ft/seed_43/checkpoint-3350\n"
          ]
        },
        {
          "data": {
            "text/html": [],
            "text/plain": [
              "<IPython.core.display.HTML object>"
            ]
          },
          "metadata": {},
          "output_type": "display_data"
        },
        {
          "name": "stdout",
          "output_type": "stream",
          "text": [
            "Getting predictions from model at ModernBERT_pcl_ft/seed_50/checkpoint-3350\n"
          ]
        },
        {
          "data": {
            "text/html": [],
            "text/plain": [
              "<IPython.core.display.HTML object>"
            ]
          },
          "metadata": {},
          "output_type": "display_data"
        },
        {
          "name": "stdout",
          "output_type": "stream",
          "text": [
            "Getting predictions from model at ModernBERT_pcl_ft/seed_42/checkpoint-3350\n"
          ]
        },
        {
          "data": {
            "text/html": [],
            "text/plain": [
              "<IPython.core.display.HTML object>"
            ]
          },
          "metadata": {},
          "output_type": "display_data"
        },
        {
          "name": "stdout",
          "output_type": "stream",
          "text": [
            "Getting predictions from model at ModernBERT_pcl_ft/seed_43/checkpoint-3350\n"
          ]
        },
        {
          "data": {
            "text/html": [],
            "text/plain": [
              "<IPython.core.display.HTML object>"
            ]
          },
          "metadata": {},
          "output_type": "display_data"
        },
        {
          "name": "stdout",
          "output_type": "stream",
          "text": [
            "Getting predictions from model at ModernBERT_pcl_ft/seed_50/checkpoint-3350\n"
          ]
        },
        {
          "data": {
            "text/html": [],
            "text/plain": [
              "<IPython.core.display.HTML object>"
            ]
          },
          "metadata": {},
          "output_type": "display_data"
        },
        {
          "name": "stdout",
          "output_type": "stream",
          "text": [
            "Getting predictions from model at ModernBERT_pcl_ft/seed_42/checkpoint-3350\n"
          ]
        },
        {
          "data": {
            "text/html": [],
            "text/plain": [
              "<IPython.core.display.HTML object>"
            ]
          },
          "metadata": {},
          "output_type": "display_data"
        },
        {
          "name": "stdout",
          "output_type": "stream",
          "text": [
            "Getting predictions from model at ModernBERT_pcl_ft/seed_43/checkpoint-3350\n"
          ]
        },
        {
          "data": {
            "text/html": [],
            "text/plain": [
              "<IPython.core.display.HTML object>"
            ]
          },
          "metadata": {},
          "output_type": "display_data"
        },
        {
          "name": "stdout",
          "output_type": "stream",
          "text": [
            "Getting predictions from model at ModernBERT_pcl_ft/seed_50/checkpoint-3350\n"
          ]
        },
        {
          "data": {
            "text/html": [],
            "text/plain": [
              "<IPython.core.display.HTML object>"
            ]
          },
          "metadata": {},
          "output_type": "display_data"
        },
        {
          "name": "stdout",
          "output_type": "stream",
          "text": [
            "Getting predictions from model at ModernBERT_pcl_ft/seed_42/checkpoint-3350\n"
          ]
        },
        {
          "data": {
            "text/html": [],
            "text/plain": [
              "<IPython.core.display.HTML object>"
            ]
          },
          "metadata": {},
          "output_type": "display_data"
        },
        {
          "name": "stdout",
          "output_type": "stream",
          "text": [
            "Getting predictions from model at ModernBERT_pcl_ft/seed_43/checkpoint-3350\n"
          ]
        },
        {
          "data": {
            "text/html": [],
            "text/plain": [
              "<IPython.core.display.HTML object>"
            ]
          },
          "metadata": {},
          "output_type": "display_data"
        },
        {
          "name": "stdout",
          "output_type": "stream",
          "text": [
            "Getting predictions from model at ModernBERT_pcl_ft/seed_50/checkpoint-3350\n"
          ]
        },
        {
          "data": {
            "text/html": [],
            "text/plain": [
              "<IPython.core.display.HTML object>"
            ]
          },
          "metadata": {},
          "output_type": "display_data"
        },
        {
          "name": "stdout",
          "output_type": "stream",
          "text": [
            "Getting predictions from model at ModernBERT_pcl_ft/seed_42/checkpoint-3350\n"
          ]
        },
        {
          "data": {
            "text/html": [],
            "text/plain": [
              "<IPython.core.display.HTML object>"
            ]
          },
          "metadata": {},
          "output_type": "display_data"
        },
        {
          "name": "stdout",
          "output_type": "stream",
          "text": [
            "Getting predictions from model at ModernBERT_pcl_ft/seed_43/checkpoint-3350\n"
          ]
        },
        {
          "data": {
            "text/html": [],
            "text/plain": [
              "<IPython.core.display.HTML object>"
            ]
          },
          "metadata": {},
          "output_type": "display_data"
        },
        {
          "name": "stdout",
          "output_type": "stream",
          "text": [
            "Getting predictions from model at ModernBERT_pcl_ft/seed_50/checkpoint-3350\n"
          ]
        },
        {
          "data": {
            "text/html": [],
            "text/plain": [
              "<IPython.core.display.HTML object>"
            ]
          },
          "metadata": {},
          "output_type": "display_data"
        },
        {
          "name": "stdout",
          "output_type": "stream",
          "text": [
            "Getting predictions from model at ModernBERT_pcl_ft/seed_42/checkpoint-3350\n"
          ]
        },
        {
          "data": {
            "text/html": [],
            "text/plain": [
              "<IPython.core.display.HTML object>"
            ]
          },
          "metadata": {},
          "output_type": "display_data"
        },
        {
          "name": "stdout",
          "output_type": "stream",
          "text": [
            "Getting predictions from model at ModernBERT_pcl_ft/seed_43/checkpoint-3350\n"
          ]
        },
        {
          "data": {
            "text/html": [],
            "text/plain": [
              "<IPython.core.display.HTML object>"
            ]
          },
          "metadata": {},
          "output_type": "display_data"
        },
        {
          "name": "stdout",
          "output_type": "stream",
          "text": [
            "Getting predictions from model at ModernBERT_pcl_ft/seed_50/checkpoint-3350\n"
          ]
        },
        {
          "data": {
            "text/html": [],
            "text/plain": [
              "<IPython.core.display.HTML object>"
            ]
          },
          "metadata": {},
          "output_type": "display_data"
        },
        {
          "name": "stderr",
          "output_type": "stream",
          "text": [
            "<ipython-input-59-ce39fe9fa75f>:28: FutureWarning: \n",
            "\n",
            "Passing `palette` without assigning `hue` is deprecated and will be removed in v0.14.0. Assign the `x` variable to `hue` and set `legend=False` for the same effect.\n",
            "\n",
            "  sns.barplot(x=topics, y=f1_scores, palette='viridis', ax=ax1)\n",
            "<ipython-input-59-ce39fe9fa75f>:30: UserWarning: set_ticklabels() should only be used with a fixed number of ticks, i.e. after set_ticks() or using a FixedLocator.\n",
            "  ax1.set_xticklabels(topics, rotation=45, ha='right')\n"
          ]
        },
        {
          "data": {
            "image/png": "[encoded data removed]",
            "text/plain": [
              "<Figure size 1000x500 with 2 Axes>"
            ]
          },
          "metadata": {},
          "output_type": "display_data"
        }
      ],
      "source": [
        "import seaborn as sns\n",
        "\n",
        "# Analyze model performance by data categories (topics)\n",
        "topic_f1_scores = {}\n",
        "topic_counts = {}\n",
        "\n",
        "for topic in test_df['topic'].unique():\n",
        "    topic_df = test_df[test_df['topic'] == topic]\n",
        "    topic_df_full = df[df['topic'] == topic]\n",
        "    if topic_df.empty:\n",
        "        continue\n",
        "    dataset = PCLInferenceDataset(topic_df, tokenizer=tokenizer)\n",
        "    labels = topic_df['pcl_label']\n",
        "    _, _, f1 = evaluate_ensemble(top_model_paths, dataset, labels)\n",
        "    topic_f1_scores[topic] = f1\n",
        "    topic_counts[topic] = len(topic_df_full)\n",
        "\n",
        "# Plot results for topic vs F1-score\n",
        "topics = list(topic_f1_scores.keys())\n",
        "f1_scores = list(topic_f1_scores.values())\n",
        "num_entries = [topic_counts[topic] for topic in topics]\n",
        "\n",
        "fig, ax1 = plt.subplots(figsize=(10, 5))\n",
        "\n",
        "# Bar plot for F1-score\n",
        "ax1.set_xlabel('Data Categories (Topics)')\n",
        "ax1.set_ylabel('F1-score (Internal Dev Set)', color='blue')\n",
        "sns.barplot(x=topics, y=f1_scores, palette='viridis', ax=ax1)\n",
        "ax1.tick_params(axis='y', labelcolor='blue')\n",
        "ax1.set_xticklabels(topics, rotation=45, ha='right')\n",
        "\n",
        "# Line plot for number of entries\n",
        "ax2 = ax1.twinx()\n",
        "ax2.set_ylabel('Number of Entries (Whole Dataset)', color='red')\n",
        "ax2.plot(topics, num_entries, marker='o', color='red', linestyle='dashed', label='Number of Entries')\n",
        "ax2.tick_params(axis='y', labelcolor='red')\n",
        "\n",
        "# Titles and legend\n",
        "plt.title('Model Performance and Data Distribution Across Categories')\n",
        "fig.tight_layout()\n",
        "plt.grid(axis='y')\n",
        "plt.show()\n"
      ]
    },
    {
      "cell_type": "code",
      "execution_count": null,
      "metadata": {
        "colab": {
          "base_uri": "https://localhost:8080/"
        },
        "id": "jO_h-VE7VLpT",
        "outputId": "c0ca6219-1156-4787-e9da-a86820af5186"
      },
      "outputs": [
        {
          "name": "stdout",
          "output_type": "stream",
          "text": [
            "   par_id      art_id      topic country  \\\n",
            "0       1  @@24942188   hopeless      ph   \n",
            "1       2  @@21968160    migrant      gh   \n",
            "2       3  @@16584954  immigrant      ie   \n",
            "3       4   @@7811231   disabled      nz   \n",
            "4       5   @@1494111    refugee      ca   \n",
            "\n",
            "                                                text  label  \n",
            "0  We 're living in times of absolute insanity , ...      0  \n",
            "1  In Libya today , there are countless number of...      0  \n",
            "2  White House press secretary Sean Spicer said t...      0  \n",
            "3  Council customers only signs would be displaye...      0  \n",
            "4  \" Just like we received migrants fleeing El Sa...      0  \n"
          ]
        },
        {
          "name": "stderr",
          "output_type": "stream",
          "text": [
            "<ipython-input-90-ff13329d1276>:27: UserWarning: Implicit dimension choice for softmax has been deprecated. Change the call to include dim=X as an argument.\n",
            "  return F.softmax(logits).cpu().numpy()\n"
          ]
        },
        {
          "data": {
            "text/plain": [
              "array([[0.00977466, 0.9902254 ]], dtype=float32)"
            ]
          },
          "execution_count": 90,
          "metadata": {},
          "output_type": "execute_result"
        }
      ],
      "source": [
        "import torch.nn.functional as F\n",
        "\n",
        "checkpoint_path = \"./ModernBERT_pcl_ft/checkpoint-1676\"\n",
        "model = AutoModelForSequenceClassification.from_pretrained(checkpoint_path)\n",
        "\n",
        "\n",
        "# Evaluation on a single example\n",
        "def predict_single(text: str, model, tokenizer, device='cuda'):\n",
        "    model.to(device)\n",
        "    model.eval()\n",
        "\n",
        "    encoding = tokenizer(\n",
        "        text,\n",
        "        max_length=512,\n",
        "        padding='max_length',\n",
        "        truncation=True,\n",
        "        return_tensors='pt'\n",
        "    )\n",
        "\n",
        "    input_ids = encoding['input_ids'].to(device)\n",
        "    attention_mask = encoding['attention_mask'].to(device)\n",
        "\n",
        "    with torch.no_grad():\n",
        "        outputs = model(input_ids, attention_mask=attention_mask)\n",
        "        logits = outputs.logits\n",
        "\n",
        "    return F.softmax(logits).cpu().numpy()\n",
        "\n",
        "print(df.head())\n",
        "\n",
        "test_input = df[df['label'] == 3]['text'].iloc[3]\n",
        "predict_single(test_input, model, tokenizer)"
      ]
    },
    {
      "cell_type": "code",
      "execution_count": null,
      "metadata": {
        "id": "Eizio0pSVLpU"
      },
      "outputs": [],
      "source": [
        "# from huggingface_hub import notebook_login\n",
        "\n",
        "# notebook_login()"
      ]
    },
    {
      "cell_type": "code",
      "execution_count": null,
      "metadata": {
        "id": "B7IGhWHPyjpU"
      },
      "outputs": [],
      "source": [
        "# model_name = \"Hasasasaki/modernBERT_pcl_ft\"\n",
        "# model.push_to_hub(model_name)\n",
        "# tokenizer.push_to_hub(model_name)"
      ]
    },
    {
      "cell_type": "code",
      "execution_count": null,
      "metadata": {
        "colab": {
          "base_uri": "https://localhost:8080/",
          "height": 193
        },
        "id": "riUan1skzH_P",
        "outputId": "fc2b2f8a-d246-45bf-b0a2-74b9b2b5f96c"
      },
      "outputs": [
        {
          "data": {
            "text/html": [
              "\n",
              "    <div>\n",
              "      \n",
              "      <progress value='131' max='131' style='width:300px; height:20px; vertical-align: middle;'></progress>\n",
              "      [131/131 00:07]\n",
              "    </div>\n",
              "    "
            ],
            "text/plain": [
              "<IPython.core.display.HTML object>"
            ]
          },
          "metadata": {},
          "output_type": "display_data"
        },
        {
          "data": {
            "text/plain": [
              "{'eval_loss': 0.34968075156211853,\n",
              " 'eval_model_preparation_time': 0.0058,\n",
              " 'eval_accuracy': 0.9144768275203058,\n",
              " 'eval_f1': 0.535064935064935,\n",
              " 'eval_precision': 0.553763440860215,\n",
              " 'eval_recall': 0.5175879396984925,\n",
              " 'eval_runtime': 7.1778,\n",
              " 'eval_samples_per_second': 291.592,\n",
              " 'eval_steps_per_second': 18.251}"
            ]
          },
          "execution_count": 91,
          "metadata": {},
          "output_type": "execute_result"
        }
      ],
      "source": [
        "trainer = Trainer(\n",
        "    model=model,\n",
        "    args=training_args,\n",
        "    train_dataset=train_dataset,\n",
        "    eval_dataset=val_dataset,\n",
        "    processing_class=tokenizer,\n",
        "    data_collator=DataCollatorWithPadding(tokenizer=tokenizer),\n",
        "    compute_metrics=compute_metrics,\n",
        ")\n",
        "trainer.evaluate(test_dataset)"
      ]
    }
  ],
  "metadata": {
    "accelerator": "GPU",
    "colab": {
      "gpuType": "A100",
      "include_colab_link": true,
      "machine_shape": "hm",
      "provenance": []
    },
    "kernelspec": {
      "display_name": "NLPCW113",
      "language": "python",
      "name": "python3"
    },
    "language_info": {
      "codemirror_mode": {
        "name": "ipython",
        "version": 3
      },
      "file_extension": ".py",
      "mimetype": "text/x-python",
      "name": "python",
      "nbconvert_exporter": "python",
      "pygments_lexer": "ipython3",
      "version": "3.13.1"
    }
  },
  "nbformat": 4,
  "nbformat_minor": 0
}
