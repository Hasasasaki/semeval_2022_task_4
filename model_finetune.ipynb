{
 "cells": [
  {
   "cell_type": "code",
   "execution_count": 3,
   "metadata": {},
   "outputs": [],
   "source": [
    "import pandas as pd\n",
    "import matplotlib.pyplot as plt\n",
    "import seaborn as sns\n",
    "import numpy as np\n",
    "from sklearn.model_selection import train_test_split\n",
    "\n",
    "new_columns = [\n",
    "    \"par_id\",      # 1 (integer ID)\n",
    "    \"art_id\",      # @@24942188 (article identifier)\n",
    "    \"topic\",       # hopeless (PCL category)\n",
    "    \"country\",     # ph (country code)\n",
    "    \"text\",        # Full text content\n",
    "    \"label\"        # 0 (binary label)\n",
    "]\n",
    "\n",
    "# Read main dataset - skip 4 disclaimer rows\n",
    "df = pd.read_csv(\n",
    "    \"data/dontpatronizeme_pcl.tsv\",\n",
    "    sep=\"\\t\",\n",
    "    header=None,\n",
    "    skiprows=4,\n",
    "    names=new_columns,\n",
    "    on_bad_lines='warn'\n",
    ")\n",
    "\n",
    "# Read train/dev splits\n",
    "train_val_labels = pd.read_csv(\"data/train_semeval_parids-labels.csv\")\n",
    "test_labels = pd.read_csv(\"data/dev_semeval_parids-labels.csv\")\n",
    "\n",
    "# Convert string labels to lists\n",
    "def parse_labels(label_str: str) -> list[int]:\n",
    "    return [int(x) for x in label_str.strip(\"[]\").replace(\" \", \"\").split(\",\")]\n",
    "\n",
    "# Process labels dataframes\n",
    "for labels_df in [train_val_labels, test_labels]:\n",
    "    labels_df['labels'] = labels_df['label'].apply(parse_labels)\n",
    "    labels_df.drop('label', axis=1, inplace=True)\n",
    "\n",
    "# Join with main data\n",
    "train_val_df = df.merge(train_val_labels, on=\"par_id\", how=\"inner\")\n",
    "test_df = df.merge(test_labels, on=\"par_id\", how=\"inner\")\n",
    "\n",
    "# Add PCL positivity column to both dataframes\n",
    "train_val_df['pcl_label'] = train_val_df['label'].apply(\n",
    "    lambda x: 0 if x in {0, 1} else 1)\n",
    "test_df['pcl_label'] = test_df['label'].apply(\n",
    "    lambda x: 0 if x in {0, 1} else 1)\n",
    "\n",
    "train_df, val_df = train_test_split(train_val_df, test_size=0.2, random_state=42, shuffle=True)"
   ]
  },
  {
   "cell_type": "markdown",
   "metadata": {},
   "source": [
    "### Hyperparameters"
   ]
  },
  {
   "cell_type": "code",
   "execution_count": null,
   "metadata": {},
   "outputs": [],
   "source": [
    "batch_size = 32\n",
    "lr = 8e-5\n",
    "betas = (0.9, 0.98)\n",
    "n_epochs = 2\n",
    "eps = 1e-6\n",
    "wd = 8e-6"
   ]
  },
  {
   "cell_type": "code",
   "execution_count": 4,
   "metadata": {},
   "outputs": [
    {
     "name": "stdout",
     "output_type": "stream",
     "text": [
      "Batch keys: dict_keys(['input_ids', 'attention_mask', 'labels'])\n",
      "Input shape: torch.Size([16, 512])\n",
      "Label shape: torch.Size([16])\n"
     ]
    }
   ],
   "source": [
    "import torch\n",
    "from torch.utils.data import Dataset, DataLoader\n",
    "from transformers import AutoTokenizer\n",
    "\n",
    "\n",
    "\n",
    "class PCLDataset(Dataset):\n",
    "    def __init__(self, dataframe, tokenizer, max_length=512, balance_method='oversample'):\n",
    "        self.tokenizer = tokenizer\n",
    "        self.max_length = max_length\n",
    "\n",
    "         # Split into positive and negative classes\n",
    "        pos_df = dataframe[dataframe['pcl_label'] == 1]\n",
    "        neg_df = dataframe[dataframe['pcl_label'] == 0]\n",
    "        \n",
    "        # Balance classes\n",
    "        if balance_method == 'oversample':\n",
    "            # Repeat minority class samples\n",
    "            if len(pos_df) > len(neg_df):\n",
    "                pos_df, neg_df = neg_df, pos_df\n",
    "            n_samples = max(len(pos_df), len(neg_df))\n",
    "            pos_df = pos_df.sample(n_samples, replace=True, random_state=42)\n",
    "        elif balance_method == 'undersample':\n",
    "            # Take minimum number of samples\n",
    "            n_samples = min(len(pos_df), len(neg_df))\n",
    "            pos_df = pos_df.sample(n_samples, random_state=42)\n",
    "            neg_df = neg_df.sample(n_samples, random_state=42)\n",
    "        \n",
    "        # Combine and shuffle\n",
    "        balanced_df = pd.concat([pos_df, neg_df]).sample(frac=1, random_state=42)\n",
    "        self.texts = balanced_df['text'].tolist()\n",
    "        self.labels = balanced_df['pcl_label'].tolist()\n",
    "\n",
    "    def __len__(self):\n",
    "        return len(self.texts)\n",
    "\n",
    "    def __getitem__(self, idx):\n",
    "        text = self.texts[idx]\n",
    "        label = self.labels[idx]\n",
    "        \n",
    "        encoding = self.tokenizer(\n",
    "            text,\n",
    "            max_length=self.max_length,\n",
    "            padding='max_length',\n",
    "            truncation=True,\n",
    "            return_tensors='pt'\n",
    "        )\n",
    "        \n",
    "        return {\n",
    "            'input_ids': encoding['input_ids'].flatten(),\n",
    "            'attention_mask': encoding['attention_mask'].flatten(),\n",
    "            'labels': torch.tensor(label, dtype=torch.long)\n",
    "        }\n",
    "\n",
    "# Initialize tokenizer and datasets\n",
    "tokenizer = AutoTokenizer.from_pretrained(\"answerdotai/ModernBERT-base\")\n",
    "\n",
    "# Create datasets\n",
    "train_dataset = PCLDataset(train_df, tokenizer)\n",
    "val_dataset = PCLDataset(val_df, tokenizer)\n",
    "test_dataset = PCLDataset(test_df, tokenizer)\n",
    "\n",
    "# Create dataloaders\n",
    "batch_size = 16\n",
    "train_loader = DataLoader(train_dataset, batch_size=batch_size, shuffle=True)\n",
    "val_loader = DataLoader(val_dataset, batch_size=batch_size)\n",
    "test_loader = DataLoader(test_dataset, batch_size=batch_size)\n",
    "\n",
    "# Example usage:\n",
    "if __name__ == \"__main__\":\n",
    "    sample_batch = next(iter(train_loader))\n",
    "    print(\"Batch keys:\", sample_batch.keys())\n",
    "    print(\"Input shape:\", sample_batch['input_ids'].shape)\n",
    "    print(\"Label shape:\", sample_batch['labels'].shape)"
   ]
  },
  {
   "cell_type": "code",
   "execution_count": 6,
   "metadata": {},
   "outputs": [
    {
     "name": "stderr",
     "output_type": "stream",
     "text": [
      "Some weights of ModernBertForSequenceClassification were not initialized from the model checkpoint at answerdotai/ModernBERT-base and are newly initialized: ['classifier.bias', 'classifier.weight']\n",
      "You should probably TRAIN this model on a down-stream task to be able to use it for predictions and inference.\n"
     ]
    },
    {
     "name": "stdout",
     "output_type": "stream",
     "text": [
      "Using device: cuda\n"
     ]
    },
    {
     "name": "stderr",
     "output_type": "stream",
     "text": [
      "  0%|          | 0/100 [00:00<?, ?it/s]"
     ]
    },
    {
     "name": "stdout",
     "output_type": "stream",
     "text": [
      "Epoch 1/100\n",
      "Train Loss: 0.3601\n",
      "Val Loss: 2.1405 | Accuracy: 0.5830\n",
      "Precision: 0.8720 | Recall: 0.1946 | F1: 0.3181\n",
      "--------------------------------\n"
     ]
    },
    {
     "name": "stderr",
     "output_type": "stream",
     "text": [
      "  1%|          | 1/100 [35:04<57:52:44, 2104.69s/it]"
     ]
    },
    {
     "name": "stdout",
     "output_type": "stream",
     "text": [
      "Epoch 2/100\n",
      "Train Loss: 0.0346\n",
      "Val Loss: 1.7565 | Accuracy: 0.6232\n",
      "Precision: 0.8429 | Recall: 0.3028 | F1: 0.4455\n",
      "--------------------------------\n"
     ]
    },
    {
     "name": "stderr",
     "output_type": "stream",
     "text": [
      "  3%|▎         | 3/100 [1:51:28<60:34:19, 2248.03s/it]"
     ]
    },
    {
     "name": "stdout",
     "output_type": "stream",
     "text": [
      "Epoch 3/100\n",
      "Train Loss: 0.0223\n",
      "Val Loss: 2.9144 | Accuracy: 0.5704\n",
      "Precision: 0.8955 | Recall: 0.1594 | F1: 0.2706\n",
      "--------------------------------\n"
     ]
    },
    {
     "name": "stderr",
     "output_type": "stream",
     "text": [
      "  4%|▍         | 4/100 [2:29:30<60:18:14, 2261.40s/it]"
     ]
    },
    {
     "name": "stdout",
     "output_type": "stream",
     "text": [
      "Epoch 4/100\n",
      "Train Loss: 0.0101\n",
      "Val Loss: 3.0011 | Accuracy: 0.5906\n",
      "Precision: 0.8273 | Recall: 0.2291 | F1: 0.3588\n",
      "--------------------------------\n"
     ]
    },
    {
     "name": "stderr",
     "output_type": "stream",
     "text": [
      "  5%|▌         | 5/100 [3:07:54<60:04:50, 2276.74s/it]"
     ]
    },
    {
     "name": "stdout",
     "output_type": "stream",
     "text": [
      "Epoch 5/100\n",
      "Train Loss: 0.0091\n",
      "Val Loss: 4.6347 | Accuracy: 0.5677\n",
      "Precision: 0.8592 | Recall: 0.1620 | F1: 0.2726\n",
      "--------------------------------\n"
     ]
    },
    {
     "name": "stderr",
     "output_type": "stream",
     "text": [
      "  6%|▌         | 6/100 [3:46:44<59:55:30, 2295.00s/it]"
     ]
    },
    {
     "name": "stdout",
     "output_type": "stream",
     "text": [
      "Epoch 6/100\n",
      "Train Loss: 0.0102\n",
      "Val Loss: 4.6411 | Accuracy: 0.5704\n",
      "Precision: 0.8926 | Recall: 0.1600 | F1: 0.2714\n",
      "--------------------------------\n"
     ]
    },
    {
     "name": "stderr",
     "output_type": "stream",
     "text": [
      "  7%|▋         | 7/100 [4:25:22<59:29:00, 2302.58s/it]"
     ]
    },
    {
     "name": "stdout",
     "output_type": "stream",
     "text": [
      "Epoch 7/100\n",
      "Train Loss: 0.0025\n",
      "Val Loss: 5.7060 | Accuracy: 0.5764\n",
      "Precision: 0.8783 | Recall: 0.1773 | F1: 0.2950\n",
      "--------------------------------\n"
     ]
    },
    {
     "name": "stderr",
     "output_type": "stream",
     "text": [
      "  8%|▊         | 8/100 [5:08:16<61:03:05, 2388.98s/it]"
     ]
    },
    {
     "name": "stdout",
     "output_type": "stream",
     "text": [
      "Epoch 8/100\n",
      "Train Loss: 0.0058\n",
      "Val Loss: 6.4807 | Accuracy: 0.5717\n",
      "Precision: 0.8600 | Recall: 0.1713 | F1: 0.2857\n",
      "--------------------------------\n"
     ]
    },
    {
     "name": "stderr",
     "output_type": "stream",
     "text": [
      "  9%|▉         | 9/100 [5:48:18<60:29:28, 2393.06s/it]"
     ]
    },
    {
     "name": "stdout",
     "output_type": "stream",
     "text": [
      "Epoch 9/100\n",
      "Train Loss: 0.0062\n",
      "Val Loss: 6.3390 | Accuracy: 0.5631\n",
      "Precision: 0.8598 | Recall: 0.1507 | F1: 0.2565\n",
      "--------------------------------\n"
     ]
    },
    {
     "name": "stderr",
     "output_type": "stream",
     "text": [
      " 10%|█         | 10/100 [6:27:49<59:39:20, 2386.23s/it]"
     ]
    },
    {
     "name": "stdout",
     "output_type": "stream",
     "text": [
      "Epoch 10/100\n",
      "Train Loss: 0.0038\n",
      "Val Loss: 7.7128 | Accuracy: 0.5578\n",
      "Precision: 0.8199 | Recall: 0.1481 | F1: 0.2508\n",
      "--------------------------------\n"
     ]
    },
    {
     "name": "stderr",
     "output_type": "stream",
     "text": [
      " 11%|█         | 11/100 [7:04:06<57:24:23, 2322.06s/it]"
     ]
    },
    {
     "name": "stdout",
     "output_type": "stream",
     "text": [
      "Epoch 11/100\n",
      "Train Loss: 0.0026\n",
      "Val Loss: 9.0117 | Accuracy: 0.5568\n",
      "Precision: 0.8327 | Recall: 0.1421 | F1: 0.2428\n",
      "--------------------------------\n"
     ]
    },
    {
     "name": "stderr",
     "output_type": "stream",
     "text": [
      " 12%|█▏        | 12/100 [7:40:17<55:38:13, 2276.07s/it]"
     ]
    },
    {
     "name": "stdout",
     "output_type": "stream",
     "text": [
      "Epoch 12/100\n",
      "Train Loss: 0.0030\n",
      "Val Loss: 7.0742 | Accuracy: 0.5976\n",
      "Precision: 0.8281 | Recall: 0.2463 | F1: 0.3797\n",
      "--------------------------------\n"
     ]
    },
    {
     "name": "stderr",
     "output_type": "stream",
     "text": [
      " 13%|█▎        | 13/100 [8:17:00<54:28:29, 2254.14s/it]"
     ]
    },
    {
     "name": "stdout",
     "output_type": "stream",
     "text": [
      "Epoch 13/100\n",
      "Train Loss: 0.0041\n",
      "Val Loss: 7.3406 | Accuracy: 0.5857\n",
      "Precision: 0.8162 | Recall: 0.2211 | F1: 0.3480\n",
      "--------------------------------\n"
     ]
    },
    {
     "name": "stderr",
     "output_type": "stream",
     "text": [
      " 13%|█▎        | 13/100 [8:21:22<55:55:23, 2314.07s/it]\n"
     ]
    },
    {
     "ename": "KeyboardInterrupt",
     "evalue": "",
     "output_type": "error",
     "traceback": [
      "\u001b[0;31m---------------------------------------------------------------------------\u001b[0m",
      "\u001b[0;31mKeyboardInterrupt\u001b[0m                         Traceback (most recent call last)",
      "Cell \u001b[0;32mIn[6], line 84\u001b[0m\n\u001b[1;32m     82\u001b[0m \u001b[38;5;66;03m# Main training loop\u001b[39;00m\n\u001b[1;32m     83\u001b[0m \u001b[38;5;28;01mfor\u001b[39;00m epoch \u001b[38;5;129;01min\u001b[39;00m tqdm(\u001b[38;5;28mrange\u001b[39m(epochs)):\n\u001b[0;32m---> 84\u001b[0m     train_loss \u001b[38;5;241m=\u001b[39m \u001b[43mtrain_epoch\u001b[49m\u001b[43m(\u001b[49m\u001b[43mmodel\u001b[49m\u001b[43m,\u001b[49m\u001b[43m \u001b[49m\u001b[43mtrain_loader\u001b[49m\u001b[43m,\u001b[49m\u001b[43m \u001b[49m\u001b[43moptimizer\u001b[49m\u001b[43m,\u001b[49m\u001b[43m \u001b[49m\u001b[43mdevice\u001b[49m\u001b[43m)\u001b[49m\n\u001b[1;32m     85\u001b[0m     val_metrics \u001b[38;5;241m=\u001b[39m evaluate(model, val_loader, device)\n\u001b[1;32m     87\u001b[0m     \u001b[38;5;28mprint\u001b[39m(\u001b[38;5;124mf\u001b[39m\u001b[38;5;124m\"\u001b[39m\u001b[38;5;124mEpoch \u001b[39m\u001b[38;5;132;01m{\u001b[39;00mepoch\u001b[38;5;250m \u001b[39m\u001b[38;5;241m+\u001b[39m\u001b[38;5;250m \u001b[39m\u001b[38;5;241m1\u001b[39m\u001b[38;5;132;01m}\u001b[39;00m\u001b[38;5;124m/\u001b[39m\u001b[38;5;132;01m{\u001b[39;00mepochs\u001b[38;5;132;01m}\u001b[39;00m\u001b[38;5;124m\"\u001b[39m)\n",
      "Cell \u001b[0;32mIn[6], line 36\u001b[0m, in \u001b[0;36mtrain_epoch\u001b[0;34m(model, dataloader, optimizer, device)\u001b[0m\n\u001b[1;32m     33\u001b[0m logits \u001b[38;5;241m=\u001b[39m outputs\u001b[38;5;241m.\u001b[39mlogits\n\u001b[1;32m     35\u001b[0m loss \u001b[38;5;241m=\u001b[39m loss_fn(logits, labels)\n\u001b[0;32m---> 36\u001b[0m total_loss \u001b[38;5;241m+\u001b[39m\u001b[38;5;241m=\u001b[39m \u001b[43mloss\u001b[49m\u001b[38;5;241;43m.\u001b[39;49m\u001b[43mitem\u001b[49m\u001b[43m(\u001b[49m\u001b[43m)\u001b[49m\n\u001b[1;32m     38\u001b[0m loss\u001b[38;5;241m.\u001b[39mbackward()\n\u001b[1;32m     39\u001b[0m optimizer\u001b[38;5;241m.\u001b[39mstep()\n",
      "\u001b[0;31mKeyboardInterrupt\u001b[0m: "
     ]
    }
   ],
   "source": [
    "# Add after the dataloader creation cell\n",
    "from transformers import AutoModelForSequenceClassification, Adafactor\n",
    "from sklearn.metrics import accuracy_score, precision_recall_fscore_support\n",
    "from tqdm import tqdm\n",
    "import torch.nn as nn\n",
    "\n",
    "# Initialize model with classification head\n",
    "model = AutoModelForSequenceClassification.from_pretrained(\n",
    "    \"answerdotai/ModernBERT-base\",\n",
    "    num_labels=2  # Binary classification\n",
    ")\n",
    "\n",
    "# Training setup\n",
    "device = torch.device(\"mps\" if torch.backends.mps.is_available() else \"cuda\" if torch.cuda.is_available() else \"cpu\")\n",
    "print(\"Using device:\", device)\n",
    "model.to(device)\n",
    "optimizer = Adafactor(model.parameters())\n",
    "loss_fn = nn.CrossEntropyLoss()\n",
    "\n",
    "# Training loop\n",
    "def train_epoch(model, dataloader, optimizer, device):\n",
    "    model.train()\n",
    "    total_loss = 0\n",
    "    \n",
    "    for batch in dataloader:\n",
    "        optimizer.zero_grad()\n",
    "        \n",
    "        input_ids = batch['input_ids'].to(device)\n",
    "        attention_mask = batch['attention_mask'].to(device)\n",
    "        labels = batch['labels'].to(device)\n",
    "        \n",
    "        outputs = model(input_ids, attention_mask=attention_mask)\n",
    "        logits = outputs.logits\n",
    "        \n",
    "        loss = loss_fn(logits, labels)\n",
    "        total_loss += loss.item()\n",
    "        \n",
    "        loss.backward()\n",
    "        optimizer.step()\n",
    "        \n",
    "    return total_loss / len(dataloader)\n",
    "\n",
    "# Validation function\n",
    "def evaluate(model, dataloader, device):\n",
    "    model.eval()\n",
    "    predictions, true_labels = [], []\n",
    "    total_loss = 0\n",
    "    \n",
    "    with torch.no_grad():\n",
    "        for batch in dataloader:\n",
    "            input_ids = batch['input_ids'].to(device)\n",
    "            attention_mask = batch['attention_mask'].to(device)\n",
    "            labels = batch['labels'].to(device)\n",
    "            \n",
    "            outputs = model(input_ids, attention_mask=attention_mask)\n",
    "            logits = outputs.logits\n",
    "            \n",
    "            loss = loss_fn(logits, labels)\n",
    "            total_loss += loss.item()\n",
    "            \n",
    "            batch_preds = torch.argmax(logits, dim=1)\n",
    "            predictions.extend(batch_preds.cpu().numpy())\n",
    "            true_labels.extend(labels.cpu().numpy())\n",
    "    \n",
    "    accuracy = accuracy_score(true_labels, predictions)\n",
    "    precision, recall, f1, _ = precision_recall_fscore_support(\n",
    "        true_labels, predictions, average='binary'\n",
    "    )\n",
    "    \n",
    "    return {\n",
    "        'loss': total_loss / len(dataloader),\n",
    "        'accuracy': accuracy,\n",
    "        'precision': precision,\n",
    "        'recall': recall,\n",
    "        'f1': f1\n",
    "    }\n",
    "\n",
    "# Training parameters\n",
    "epochs = 100\n",
    "best_f1 = -1\n",
    "\n",
    "# Main training loop\n",
    "for epoch in tqdm(range(epochs)):\n",
    "    train_loss = train_epoch(model, train_loader, optimizer, device)\n",
    "    val_metrics = evaluate(model, val_loader, device)\n",
    "    \n",
    "    print(f\"Epoch {epoch + 1}/{epochs}\")\n",
    "    print(f\"Train Loss: {train_loss:.4f}\")\n",
    "    print(f\"Val Loss: {val_metrics['loss']:.4f} | Accuracy: {val_metrics['accuracy']:.4f}\")\n",
    "    print(f\"Precision: {val_metrics['precision']:.4f} | Recall: {val_metrics['recall']:.4f} | F1: {val_metrics['f1']:.4f}\")\n",
    "    print(\"--------------------------------\")\n",
    "    \n",
    "    # Save best model\n",
    "    if val_metrics['f1'] > best_f1:\n",
    "        best_f1 = val_metrics['f1']\n",
    "        torch.save(model.state_dict(), \"best_model.pth\")\n",
    "\n",
    "# Final test evaluation\n",
    "model.load_state_dict(torch.load(\"best_model.pth\"))\n",
    "test_metrics = evaluate(model, test_loader, device)\n",
    "\n",
    "print(\"\\\\nFinal Test Results:\")\n",
    "print(f\"Accuracy: {test_metrics['accuracy']:.4f}\")\n",
    "print(f\"Precision: {test_metrics['precision']:.4f}\")\n",
    "print(f\"Recall: {test_metrics['recall']:.4f}\")\n",
    "print(f\"F1: {test_metrics['f1']:.4f}\")"
   ]
  },
  {
   "cell_type": "code",
   "execution_count": 20,
   "metadata": {},
   "outputs": [
    {
     "name": "stderr",
     "output_type": "stream",
     "text": [
      "Some weights of ModernBertForSequenceClassification were not initialized from the model checkpoint at answerdotai/ModernBERT-base and are newly initialized: ['classifier.bias', 'classifier.weight']\n",
      "You should probably TRAIN this model on a down-stream task to be able to use it for predictions and inference.\n"
     ]
    },
    {
     "name": "stdout",
     "output_type": "stream",
     "text": [
      "Comrade David Kerigbo Ugondo was born to the family of Late Pa Akerigbo Adikpo and wife , Mrs. Pam Akerigbo Adikpo on the 25th day of October 1950 in Achagh Mbaduku in Vandeikya Local Government of Benue State . His 67th birthday would be 25th of October . A well secured Nigeria gave birth and nurtured Comrade David into 27 years of meritorious service to industry and unionism . It is tragic that an unsecured Nigeria in 2017 made him vulnerable to day-light gunshots on Sunday September 10 , 2017 by criminal armed robbers who attacked around Birnin Gwari town of Kaduna State . May God grant him and other victims which included an Army Captain and infant baby eternal rest in paradise .\n"
     ]
    },
    {
     "name": "stderr",
     "output_type": "stream",
     "text": [
      "/tmp/ipykernel_3244293/3682664496.py:30: UserWarning: Implicit dimension choice for softmax has been deprecated. Change the call to include dim=X as an argument.\n",
      "  return F.softmax(logits).cpu().numpy()\n"
     ]
    },
    {
     "data": {
      "text/plain": [
       "array([[0.9708754 , 0.02912457]], dtype=float32)"
      ]
     },
     "execution_count": 20,
     "metadata": {},
     "output_type": "execute_result"
    }
   ],
   "source": [
    "import torch.nn.functional as F\n",
    "\n",
    "model = AutoModelForSequenceClassification.from_pretrained(\n",
    "    \"answerdotai/ModernBERT-base\",\n",
    "    num_labels=2  # Binary classification\n",
    ")\n",
    "\n",
    "model.load_state_dict(torch.load(\"best_model.pth\"))\n",
    "\n",
    "# Evaluation on a single example\n",
    "def predict_single(text: str, model, tokenizer, device):\n",
    "    model.to(device)\n",
    "    model.eval()\n",
    "    \n",
    "    encoding = tokenizer(\n",
    "        text,\n",
    "        max_length=512,\n",
    "        padding='max_length',\n",
    "        truncation=True,\n",
    "        return_tensors='pt'\n",
    "    )\n",
    "    \n",
    "    input_ids = encoding['input_ids'].to(device)\n",
    "    attention_mask = encoding['attention_mask'].to(device)\n",
    "    \n",
    "    with torch.no_grad():\n",
    "        outputs = model(input_ids, attention_mask=attention_mask)\n",
    "        logits = outputs.logits\n",
    "    \n",
    "    return F.softmax(logits).cpu().numpy()\n",
    "\n",
    "test_input = df[df['label'] == 1]['text'].iloc[3]\n",
    "print(test_input)\n",
    "predict_single(test_input, model, tokenizer, device)"
   ]
  },
  {
   "cell_type": "code",
   "execution_count": null,
   "metadata": {},
   "outputs": [],
   "source": []
  }
 ],
 "metadata": {
  "kernelspec": {
   "display_name": "NLPCW113",
   "language": "python",
   "name": "python3"
  },
  "language_info": {
   "codemirror_mode": {
    "name": "ipython",
    "version": 3
   },
   "file_extension": ".py",
   "mimetype": "text/x-python",
   "name": "python",
   "nbconvert_exporter": "python",
   "pygments_lexer": "ipython3",
   "version": "3.13.1"
  }
 },
 "nbformat": 4,
 "nbformat_minor": 2
}
