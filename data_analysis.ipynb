{
 "cells": [
  {
   "cell_type": "code",
   "execution_count": null,
   "metadata": {},
   "outputs": [
    {
     "name": "stdout",
     "output_type": "stream",
     "text": [
      "      par_id      art_id       topic country  \\\n",
      "6700    6838  @@13786523     refugee      za   \n",
      "6701    6839  @@23413758       women      gh   \n",
      "6702    6840   @@9745516    homeless      au   \n",
      "6703    6841   @@1864808    homeless      tz   \n",
      "6704    6842  @@14327774  vulnerable      lk   \n",
      "\n",
      "                                                   text  label  \\\n",
      "6700  Sheena Jonker , head mediator of Access to Jus...      0   \n",
      "6701  While the President has had occasions to recei...      0   \n",
      "6702  The decision comes following a series of Tweet...      1   \n",
      "6703             Strong winds leave 180 people homeless      0   \n",
      "6704  Voice : - Elders who live outside major cities...      0   \n",
      "\n",
      "                     labels  \n",
      "6700  [0, 0, 0, 0, 0, 0, 0]  \n",
      "6701  [0, 0, 0, 0, 0, 0, 0]  \n",
      "6702  [0, 0, 0, 0, 0, 0, 0]  \n",
      "6703  [0, 0, 0, 0, 0, 0, 0]  \n",
      "6704  [0, 0, 0, 0, 0, 0, 0]  \n"
     ]
    }
   ],
   "source": [
    "import pandas as pd\n",
    "from sklearn.model_selection import train_test_split\n",
    "\n",
    "new_columns = [\n",
    "    \"par_id\",      # 1 (integer ID)\n",
    "    \"art_id\",      # @@24942188 (article identifier)\n",
    "    \"topic\",       # hopeless (PCL category)\n",
    "    \"country\",     # ph (country code)\n",
    "    \"text\",        # Full text content\n",
    "    \"label\"        # 0 (binary label)\n",
    "]\n",
    "\n",
    "# Read main dataset - skip 4 disclaimer rows\n",
    "df = pd.read_csv(\n",
    "    \"data/dontpatronizeme_pcl.tsv\",\n",
    "    sep=\"\\t\",\n",
    "    header=None,\n",
    "    skiprows=4,\n",
    "    names=new_columns,\n",
    "    on_bad_lines='warn'\n",
    ")\n",
    "\n"
   ]
  },
  {
   "cell_type": "code",
   "execution_count": null,
   "metadata": {},
   "outputs": [],
   "source": []
  },
  {
   "cell_type": "code",
   "execution_count": null,
   "metadata": {},
   "outputs": [],
   "source": [
    "# Read train/dev splits\n",
    "train_val_labels = pd.read_csv(\"data/train_semeval_parids-labels.csv\")\n",
    "test_labels = pd.read_csv(\"data/dev_semeval_parids-labels.csv\")\n",
    "\n",
    "# Convert string labels to lists\n",
    "def parse_labels(label_str: str) -> list[int]:\n",
    "    return [int(x) for x in label_str.strip(\"[]\").replace(\" \", \"\").split(\",\")]\n",
    "\n",
    "# Process labels dataframes\n",
    "for labels_df in [train_val_labels, test_labels]:\n",
    "    labels_df['labels'] = labels_df['label'].apply(parse_labels)\n",
    "    labels_df.drop('label', axis=1, inplace=True)\n",
    "\n",
    "# Join with main data\n",
    "train_val_df = df.merge(train_val_labels, on=\"par_id\", how=\"inner\")\n",
    "test_df = df.merge(test_labels, on=\"par_id\", how=\"inner\")\n",
    "\n",
    "train_df, val_df = train_test_split(train_val_df, test_size=0.2, random_state=42, shuffle=False)\n",
    "\n",
    "print(val_df.head())"
   ]
  }
 ],
 "metadata": {
  "kernelspec": {
   "display_name": "NLPCW1",
   "language": "python",
   "name": "python3"
  },
  "language_info": {
   "codemirror_mode": {
    "name": "ipython",
    "version": 3
   },
   "file_extension": ".py",
   "mimetype": "text/x-python",
   "name": "python",
   "nbconvert_exporter": "python",
   "pygments_lexer": "ipython3",
   "version": "3.12.9"
  }
 },
 "nbformat": 4,
 "nbformat_minor": 2
}
